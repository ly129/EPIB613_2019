{
 "cells": [
  {
   "cell_type": "markdown",
   "metadata": {},
   "source": [
    "# Lecture 5 Data management: Part II - Reshaping data\n",
    "This section describes how to prepare data for further analysis. There are situations when we need the <b>data frame</b> in a format that is different from the format in which we received it.\n",
    "- Subsetting data\n",
    "- Merging data\n",
    "- aggregate( )\n",
    "\n",
    "## 5.1 Subset data\n",
    "##### Common tasks\n",
    "- Select/delete columns\n",
    "- Select/delete rows with or without conditions\n",
    "- Select columns and rows with or without conditions\n",
    "\n",
    "##### Using\n",
    "- $ and [ , ]\n",
    "- subset( ) Very powerful!\n",
    "- <tt>dplyr</tt> package and the entire <tt>tidyverse</tt>\n",
    "\n",
    "##### Pick your favorite - one is enough."
   ]
  },
  {
   "cell_type": "code",
   "execution_count": 1,
   "metadata": {},
   "outputs": [
    {
     "data": {
      "text/html": [
       "<table>\n",
       "<caption>A data.frame: 4 × 4</caption>\n",
       "<thead>\n",
       "\t<tr><th scope=col>names</th><th scope=col>score</th><th scope=col>student.no</th><th scope=col>pass</th></tr>\n",
       "\t<tr><th scope=col>&lt;fct&gt;</th><th scope=col>&lt;dbl&gt;</th><th scope=col>&lt;chr&gt;</th><th scope=col>&lt;lgl&gt;</th></tr>\n",
       "</thead>\n",
       "<tbody>\n",
       "\t<tr><td>Lucy </td><td>67</td><td>student 1</td><td> TRUE</td></tr>\n",
       "\t<tr><td>John </td><td>56</td><td>student 2</td><td>FALSE</td></tr>\n",
       "\t<tr><td>Mark </td><td>87</td><td>student 3</td><td> TRUE</td></tr>\n",
       "\t<tr><td>Candy</td><td>91</td><td>student 4</td><td> TRUE</td></tr>\n",
       "</tbody>\n",
       "</table>\n"
      ],
      "text/latex": [
       "A data.frame: 4 × 4\n",
       "\\begin{tabular}{r|llll}\n",
       " names & score & student.no & pass\\\\\n",
       " <fct> & <dbl> & <chr> & <lgl>\\\\\n",
       "\\hline\n",
       "\t Lucy  & 67 & student 1 &  TRUE\\\\\n",
       "\t John  & 56 & student 2 & FALSE\\\\\n",
       "\t Mark  & 87 & student 3 &  TRUE\\\\\n",
       "\t Candy & 91 & student 4 &  TRUE\\\\\n",
       "\\end{tabular}\n"
      ],
      "text/markdown": [
       "\n",
       "A data.frame: 4 × 4\n",
       "\n",
       "| names &lt;fct&gt; | score &lt;dbl&gt; | student.no &lt;chr&gt; | pass &lt;lgl&gt; |\n",
       "|---|---|---|---|\n",
       "| Lucy  | 67 | student 1 |  TRUE |\n",
       "| John  | 56 | student 2 | FALSE |\n",
       "| Mark  | 87 | student 3 |  TRUE |\n",
       "| Candy | 91 | student 4 |  TRUE |\n",
       "\n"
      ],
      "text/plain": [
       "  names score student.no pass \n",
       "1 Lucy  67    student 1   TRUE\n",
       "2 John  56    student 2  FALSE\n",
       "3 Mark  87    student 3   TRUE\n",
       "4 Candy 91    student 4   TRUE"
      ]
     },
     "metadata": {},
     "output_type": "display_data"
    }
   ],
   "source": [
    "df <- data.frame(names = c(\"Lucy\", \"John\", \"Mark\", \"Candy\"),\n",
    "                score = c(67, 56, 87, 91))\n",
    "for (i in 1:4){\n",
    "    df$student.no[i] <- paste(\"student\", i)\n",
    "    df$pass[i] <- ifelse(df$score[i] >= 60, TRUE, FALSE)\n",
    "}\n",
    "df"
   ]
  },
  {
   "cell_type": "markdown",
   "metadata": {},
   "source": [
    "### 5.1.1 $ and [ , ]\n",
    "##### Can only pick one variable."
   ]
  },
  {
   "cell_type": "code",
   "execution_count": 2,
   "metadata": {},
   "outputs": [
    {
     "data": {
      "text/html": [
       "<ol class=list-inline>\n",
       "\t<li>'names'</li>\n",
       "\t<li>'score'</li>\n",
       "\t<li>'student.no'</li>\n",
       "\t<li>'pass'</li>\n",
       "</ol>\n"
      ],
      "text/latex": [
       "\\begin{enumerate*}\n",
       "\\item 'names'\n",
       "\\item 'score'\n",
       "\\item 'student.no'\n",
       "\\item 'pass'\n",
       "\\end{enumerate*}\n"
      ],
      "text/markdown": [
       "1. 'names'\n",
       "2. 'score'\n",
       "3. 'student.no'\n",
       "4. 'pass'\n",
       "\n",
       "\n"
      ],
      "text/plain": [
       "[1] \"names\"      \"score\"      \"student.no\" \"pass\"      "
      ]
     },
     "metadata": {},
     "output_type": "display_data"
    }
   ],
   "source": [
    "names(df)"
   ]
  },
  {
   "cell_type": "code",
   "execution_count": 3,
   "metadata": {},
   "outputs": [
    {
     "data": {
      "text/html": [
       "<ol class=list-inline>\n",
       "\t<li>Lucy</li>\n",
       "\t<li>John</li>\n",
       "\t<li>Mark</li>\n",
       "\t<li>Candy</li>\n",
       "</ol>\n",
       "\n",
       "<details>\n",
       "\t<summary style=display:list-item;cursor:pointer>\n",
       "\t\t<strong>Levels</strong>:\n",
       "\t</summary>\n",
       "\t<ol class=list-inline>\n",
       "\t\t<li>'Candy'</li>\n",
       "\t\t<li>'John'</li>\n",
       "\t\t<li>'Lucy'</li>\n",
       "\t\t<li>'Mark'</li>\n",
       "\t</ol>\n",
       "</details>"
      ],
      "text/latex": [
       "\\begin{enumerate*}\n",
       "\\item Lucy\n",
       "\\item John\n",
       "\\item Mark\n",
       "\\item Candy\n",
       "\\end{enumerate*}\n",
       "\n",
       "\\emph{Levels}: \\begin{enumerate*}\n",
       "\\item 'Candy'\n",
       "\\item 'John'\n",
       "\\item 'Lucy'\n",
       "\\item 'Mark'\n",
       "\\end{enumerate*}\n"
      ],
      "text/markdown": [
       "1. Lucy\n",
       "2. John\n",
       "3. Mark\n",
       "4. Candy\n",
       "\n",
       "\n",
       "\n",
       "**Levels**: 1. 'Candy'\n",
       "2. 'John'\n",
       "3. 'Lucy'\n",
       "4. 'Mark'\n",
       "\n",
       "\n"
      ],
      "text/plain": [
       "[1] Lucy  John  Mark  Candy\n",
       "Levels: Candy John Lucy Mark"
      ]
     },
     "metadata": {},
     "output_type": "display_data"
    }
   ],
   "source": [
    "# Recall the indexing system in R\n",
    "df$names   # Select one variable"
   ]
  },
  {
   "cell_type": "code",
   "execution_count": 4,
   "metadata": {},
   "outputs": [
    {
     "data": {
      "text/html": [
       "<table>\n",
       "<caption>A data.frame: 4 × 3</caption>\n",
       "<thead>\n",
       "\t<tr><th scope=col>score</th><th scope=col>student.no</th><th scope=col>pass</th></tr>\n",
       "\t<tr><th scope=col>&lt;dbl&gt;</th><th scope=col>&lt;chr&gt;</th><th scope=col>&lt;lgl&gt;</th></tr>\n",
       "</thead>\n",
       "<tbody>\n",
       "\t<tr><td>67</td><td>student 1</td><td> TRUE</td></tr>\n",
       "\t<tr><td>56</td><td>student 2</td><td>FALSE</td></tr>\n",
       "\t<tr><td>87</td><td>student 3</td><td> TRUE</td></tr>\n",
       "\t<tr><td>91</td><td>student 4</td><td> TRUE</td></tr>\n",
       "</tbody>\n",
       "</table>\n"
      ],
      "text/latex": [
       "A data.frame: 4 × 3\n",
       "\\begin{tabular}{r|lll}\n",
       " score & student.no & pass\\\\\n",
       " <dbl> & <chr> & <lgl>\\\\\n",
       "\\hline\n",
       "\t 67 & student 1 &  TRUE\\\\\n",
       "\t 56 & student 2 & FALSE\\\\\n",
       "\t 87 & student 3 &  TRUE\\\\\n",
       "\t 91 & student 4 &  TRUE\\\\\n",
       "\\end{tabular}\n"
      ],
      "text/markdown": [
       "\n",
       "A data.frame: 4 × 3\n",
       "\n",
       "| score &lt;dbl&gt; | student.no &lt;chr&gt; | pass &lt;lgl&gt; |\n",
       "|---|---|---|\n",
       "| 67 | student 1 |  TRUE |\n",
       "| 56 | student 2 | FALSE |\n",
       "| 87 | student 3 |  TRUE |\n",
       "| 91 | student 4 |  TRUE |\n",
       "\n"
      ],
      "text/plain": [
       "  score student.no pass \n",
       "1 67    student 1   TRUE\n",
       "2 56    student 2  FALSE\n",
       "3 87    student 3   TRUE\n",
       "4 91    student 4   TRUE"
      ]
     },
     "metadata": {},
     "output_type": "display_data"
    }
   ],
   "source": [
    "# Delete one variable\n",
    "df.copy <- df\n",
    "df.copy$names <- NULL\n",
    "df.copy"
   ]
  },
  {
   "cell_type": "code",
   "execution_count": 5,
   "metadata": {},
   "outputs": [
    {
     "data": {
      "text/html": [
       "<ol class=list-inline>\n",
       "\t<li>67</li>\n",
       "\t<li>56</li>\n",
       "\t<li>87</li>\n",
       "\t<li>91</li>\n",
       "</ol>\n"
      ],
      "text/latex": [
       "\\begin{enumerate*}\n",
       "\\item 67\n",
       "\\item 56\n",
       "\\item 87\n",
       "\\item 91\n",
       "\\end{enumerate*}\n"
      ],
      "text/markdown": [
       "1. 67\n",
       "2. 56\n",
       "3. 87\n",
       "4. 91\n",
       "\n",
       "\n"
      ],
      "text/plain": [
       "[1] 67 56 87 91"
      ]
     },
     "metadata": {},
     "output_type": "display_data"
    }
   ],
   "source": [
    "df[, 2]"
   ]
  },
  {
   "cell_type": "code",
   "execution_count": 6,
   "metadata": {
    "scrolled": true
   },
   "outputs": [
    {
     "data": {
      "text/html": [
       "<ol class=list-inline>\n",
       "\t<li>67</li>\n",
       "\t<li>56</li>\n",
       "\t<li>87</li>\n",
       "\t<li>91</li>\n",
       "</ol>\n"
      ],
      "text/latex": [
       "\\begin{enumerate*}\n",
       "\\item 67\n",
       "\\item 56\n",
       "\\item 87\n",
       "\\item 91\n",
       "\\end{enumerate*}\n"
      ],
      "text/markdown": [
       "1. 67\n",
       "2. 56\n",
       "3. 87\n",
       "4. 91\n",
       "\n",
       "\n"
      ],
      "text/plain": [
       "[1] 67 56 87 91"
      ]
     },
     "metadata": {},
     "output_type": "display_data"
    }
   ],
   "source": [
    "df[ , \"score\"]"
   ]
  },
  {
   "cell_type": "code",
   "execution_count": 7,
   "metadata": {},
   "outputs": [
    {
     "name": "stdout",
     "output_type": "stream",
     "text": [
      " num [1:4] 67 56 87 91\n"
     ]
    }
   ],
   "source": [
    "str(df[ , \"score\"])   # 1D vector"
   ]
  },
  {
   "cell_type": "code",
   "execution_count": 8,
   "metadata": {
    "scrolled": false
   },
   "outputs": [
    {
     "data": {
      "text/html": [
       "<table>\n",
       "<caption>A data.frame: 4 × 1</caption>\n",
       "<thead>\n",
       "\t<tr><th scope=col>score</th></tr>\n",
       "\t<tr><th scope=col>&lt;dbl&gt;</th></tr>\n",
       "</thead>\n",
       "<tbody>\n",
       "\t<tr><td>67</td></tr>\n",
       "\t<tr><td>56</td></tr>\n",
       "\t<tr><td>87</td></tr>\n",
       "\t<tr><td>91</td></tr>\n",
       "</tbody>\n",
       "</table>\n"
      ],
      "text/latex": [
       "A data.frame: 4 × 1\n",
       "\\begin{tabular}{r|l}\n",
       " score\\\\\n",
       " <dbl>\\\\\n",
       "\\hline\n",
       "\t 67\\\\\n",
       "\t 56\\\\\n",
       "\t 87\\\\\n",
       "\t 91\\\\\n",
       "\\end{tabular}\n"
      ],
      "text/markdown": [
       "\n",
       "A data.frame: 4 × 1\n",
       "\n",
       "| score &lt;dbl&gt; |\n",
       "|---|\n",
       "| 67 |\n",
       "| 56 |\n",
       "| 87 |\n",
       "| 91 |\n",
       "\n"
      ],
      "text/plain": [
       "  score\n",
       "1 67   \n",
       "2 56   \n",
       "3 87   \n",
       "4 91   "
      ]
     },
     "metadata": {},
     "output_type": "display_data"
    },
    {
     "name": "stdout",
     "output_type": "stream",
     "text": [
      "'data.frame':\t4 obs. of  1 variable:\n",
      " $ score: num  67 56 87 91\n"
     ]
    }
   ],
   "source": [
    "df[ , \"score\", drop = FALSE]\n",
    "str(df[ , \"score\", drop = FALSE])   # 4 x 1 data frame\n",
    "# The argument \"drop = FALSE\" maintains the original dimension\n",
    "# The default is true"
   ]
  },
  {
   "cell_type": "code",
   "execution_count": 9,
   "metadata": {
    "scrolled": true
   },
   "outputs": [
    {
     "data": {
      "text/html": [
       "<table>\n",
       "<caption>A data.frame: 1 × 4</caption>\n",
       "<thead>\n",
       "\t<tr><th scope=col>names</th><th scope=col>score</th><th scope=col>student.no</th><th scope=col>pass</th></tr>\n",
       "\t<tr><th scope=col>&lt;fct&gt;</th><th scope=col>&lt;dbl&gt;</th><th scope=col>&lt;chr&gt;</th><th scope=col>&lt;lgl&gt;</th></tr>\n",
       "</thead>\n",
       "<tbody>\n",
       "\t<tr><td>Lucy</td><td>67</td><td>student 1</td><td>TRUE</td></tr>\n",
       "</tbody>\n",
       "</table>\n"
      ],
      "text/latex": [
       "A data.frame: 1 × 4\n",
       "\\begin{tabular}{r|llll}\n",
       " names & score & student.no & pass\\\\\n",
       " <fct> & <dbl> & <chr> & <lgl>\\\\\n",
       "\\hline\n",
       "\t Lucy & 67 & student 1 & TRUE\\\\\n",
       "\\end{tabular}\n"
      ],
      "text/markdown": [
       "\n",
       "A data.frame: 1 × 4\n",
       "\n",
       "| names &lt;fct&gt; | score &lt;dbl&gt; | student.no &lt;chr&gt; | pass &lt;lgl&gt; |\n",
       "|---|---|---|---|\n",
       "| Lucy | 67 | student 1 | TRUE |\n",
       "\n"
      ],
      "text/plain": [
       "  names score student.no pass\n",
       "1 Lucy  67    student 1  TRUE"
      ]
     },
     "metadata": {},
     "output_type": "display_data"
    },
    {
     "name": "stdout",
     "output_type": "stream",
     "text": [
      "'data.frame':\t1 obs. of  4 variables:\n",
      " $ names     : Factor w/ 4 levels \"Candy\",\"John\",..: 3\n",
      " $ score     : num 67\n",
      " $ student.no: chr \"student 1\"\n",
      " $ pass      : logi TRUE\n"
     ]
    }
   ],
   "source": [
    "df[1, ]\n",
    "str(df[1, ])   # 1 x 4 data frame\n",
    "# Can we drop a dimension here? Why?"
   ]
  },
  {
   "cell_type": "code",
   "execution_count": 10,
   "metadata": {},
   "outputs": [
    {
     "data": {
      "text/html": [
       "<dl>\n",
       "\t<dt>$names</dt>\n",
       "\t\t<dd>Lucy\n",
       "<details>\n",
       "\t<summary style=display:list-item;cursor:pointer>\n",
       "\t\t<strong>Levels</strong>:\n",
       "\t</summary>\n",
       "\t<ol class=list-inline>\n",
       "\t\t<li>'Candy'</li>\n",
       "\t\t<li>'John'</li>\n",
       "\t\t<li>'Lucy'</li>\n",
       "\t\t<li>'Mark'</li>\n",
       "\t</ol>\n",
       "</details></dd>\n",
       "\t<dt>$score</dt>\n",
       "\t\t<dd>67</dd>\n",
       "\t<dt>$student.no</dt>\n",
       "\t\t<dd>'student 1'</dd>\n",
       "\t<dt>$pass</dt>\n",
       "\t\t<dd>TRUE</dd>\n",
       "</dl>\n"
      ],
      "text/latex": [
       "\\begin{description}\n",
       "\\item[\\$names] Lucy\n",
       "\\emph{Levels}: \\begin{enumerate*}\n",
       "\\item 'Candy'\n",
       "\\item 'John'\n",
       "\\item 'Lucy'\n",
       "\\item 'Mark'\n",
       "\\end{enumerate*}\n",
       "\n",
       "\\item[\\$score] 67\n",
       "\\item[\\$student.no] 'student 1'\n",
       "\\item[\\$pass] TRUE\n",
       "\\end{description}\n"
      ],
      "text/markdown": [
       "$names\n",
       ":   Lucy\n",
       "**Levels**: 1. 'Candy'\n",
       "2. 'John'\n",
       "3. 'Lucy'\n",
       "4. 'Mark'\n",
       "\n",
       "\n",
       "\n",
       "$score\n",
       ":   67\n",
       "$student.no\n",
       ":   'student 1'\n",
       "$pass\n",
       ":   TRUE\n",
       "\n",
       "\n"
      ],
      "text/plain": [
       "$names\n",
       "[1] Lucy\n",
       "Levels: Candy John Lucy Mark\n",
       "\n",
       "$score\n",
       "[1] 67\n",
       "\n",
       "$student.no\n",
       "[1] \"student 1\"\n",
       "\n",
       "$pass\n",
       "[1] TRUE\n"
      ]
     },
     "metadata": {},
     "output_type": "display_data"
    }
   ],
   "source": [
    "df[1, , drop = TRUE]"
   ]
  },
  {
   "cell_type": "markdown",
   "metadata": {},
   "source": [
    "##### Any advantage of an n x 1 data frame over a vector of length n? <==> Is the drop argument useful?"
   ]
  },
  {
   "cell_type": "code",
   "execution_count": 11,
   "metadata": {
    "scrolled": true
   },
   "outputs": [
    {
     "data": {
      "text/html": [
       "<table>\n",
       "<caption>A data.frame: 4 × 3</caption>\n",
       "<thead>\n",
       "\t<tr><th scope=col>student.no</th><th scope=col>score</th><th scope=col>pass</th></tr>\n",
       "\t<tr><th scope=col>&lt;chr&gt;</th><th scope=col>&lt;dbl&gt;</th><th scope=col>&lt;lgl&gt;</th></tr>\n",
       "</thead>\n",
       "<tbody>\n",
       "\t<tr><td>student 1</td><td>67</td><td> TRUE</td></tr>\n",
       "\t<tr><td>student 2</td><td>56</td><td>FALSE</td></tr>\n",
       "\t<tr><td>student 3</td><td>87</td><td> TRUE</td></tr>\n",
       "\t<tr><td>student 4</td><td>91</td><td> TRUE</td></tr>\n",
       "</tbody>\n",
       "</table>\n"
      ],
      "text/latex": [
       "A data.frame: 4 × 3\n",
       "\\begin{tabular}{r|lll}\n",
       " student.no & score & pass\\\\\n",
       " <chr> & <dbl> & <lgl>\\\\\n",
       "\\hline\n",
       "\t student 1 & 67 &  TRUE\\\\\n",
       "\t student 2 & 56 & FALSE\\\\\n",
       "\t student 3 & 87 &  TRUE\\\\\n",
       "\t student 4 & 91 &  TRUE\\\\\n",
       "\\end{tabular}\n"
      ],
      "text/markdown": [
       "\n",
       "A data.frame: 4 × 3\n",
       "\n",
       "| student.no &lt;chr&gt; | score &lt;dbl&gt; | pass &lt;lgl&gt; |\n",
       "|---|---|---|\n",
       "| student 1 | 67 |  TRUE |\n",
       "| student 2 | 56 | FALSE |\n",
       "| student 3 | 87 |  TRUE |\n",
       "| student 4 | 91 |  TRUE |\n",
       "\n"
      ],
      "text/plain": [
       "  student.no score pass \n",
       "1 student 1  67     TRUE\n",
       "2 student 2  56    FALSE\n",
       "3 student 3  87     TRUE\n",
       "4 student 4  91     TRUE"
      ]
     },
     "metadata": {},
     "output_type": "display_data"
    }
   ],
   "source": [
    "# Delete variable \"names\" + reorder columns\n",
    "df[ , c(\"student.no\", \"score\", \"pass\")]"
   ]
  },
  {
   "cell_type": "code",
   "execution_count": 12,
   "metadata": {},
   "outputs": [
    {
     "data": {
      "text/html": [
       "<ol class=list-inline>\n",
       "\t<li>TRUE</li>\n",
       "\t<li>FALSE</li>\n",
       "\t<li>TRUE</li>\n",
       "\t<li>TRUE</li>\n",
       "</ol>\n"
      ],
      "text/latex": [
       "\\begin{enumerate*}\n",
       "\\item TRUE\n",
       "\\item FALSE\n",
       "\\item TRUE\n",
       "\\item TRUE\n",
       "\\end{enumerate*}\n"
      ],
      "text/markdown": [
       "1. TRUE\n",
       "2. FALSE\n",
       "3. TRUE\n",
       "4. TRUE\n",
       "\n",
       "\n"
      ],
      "text/plain": [
       "[1]  TRUE FALSE  TRUE  TRUE"
      ]
     },
     "metadata": {},
     "output_type": "display_data"
    }
   ],
   "source": [
    "df$pass == TRUE"
   ]
  },
  {
   "cell_type": "code",
   "execution_count": 13,
   "metadata": {
    "scrolled": true
   },
   "outputs": [
    {
     "data": {
      "text/html": [
       "<table>\n",
       "<caption>A data.frame: 3 × 4</caption>\n",
       "<thead>\n",
       "\t<tr><th></th><th scope=col>names</th><th scope=col>score</th><th scope=col>student.no</th><th scope=col>pass</th></tr>\n",
       "\t<tr><th></th><th scope=col>&lt;fct&gt;</th><th scope=col>&lt;dbl&gt;</th><th scope=col>&lt;chr&gt;</th><th scope=col>&lt;lgl&gt;</th></tr>\n",
       "</thead>\n",
       "<tbody>\n",
       "\t<tr><th scope=row>1</th><td>Lucy </td><td>67</td><td>student 1</td><td>TRUE</td></tr>\n",
       "\t<tr><th scope=row>3</th><td>Mark </td><td>87</td><td>student 3</td><td>TRUE</td></tr>\n",
       "\t<tr><th scope=row>4</th><td>Candy</td><td>91</td><td>student 4</td><td>TRUE</td></tr>\n",
       "</tbody>\n",
       "</table>\n"
      ],
      "text/latex": [
       "A data.frame: 3 × 4\n",
       "\\begin{tabular}{r|llll}\n",
       "  & names & score & student.no & pass\\\\\n",
       "  & <fct> & <dbl> & <chr> & <lgl>\\\\\n",
       "\\hline\n",
       "\t1 & Lucy  & 67 & student 1 & TRUE\\\\\n",
       "\t3 & Mark  & 87 & student 3 & TRUE\\\\\n",
       "\t4 & Candy & 91 & student 4 & TRUE\\\\\n",
       "\\end{tabular}\n"
      ],
      "text/markdown": [
       "\n",
       "A data.frame: 3 × 4\n",
       "\n",
       "| <!--/--> | names &lt;fct&gt; | score &lt;dbl&gt; | student.no &lt;chr&gt; | pass &lt;lgl&gt; |\n",
       "|---|---|---|---|---|\n",
       "| 1 | Lucy  | 67 | student 1 | TRUE |\n",
       "| 3 | Mark  | 87 | student 3 | TRUE |\n",
       "| 4 | Candy | 91 | student 4 | TRUE |\n",
       "\n"
      ],
      "text/plain": [
       "  names score student.no pass\n",
       "1 Lucy  67    student 1  TRUE\n",
       "3 Mark  87    student 3  TRUE\n",
       "4 Candy 91    student 4  TRUE"
      ]
     },
     "metadata": {},
     "output_type": "display_data"
    }
   ],
   "source": [
    "# Select rows that passed\n",
    "df[df$pass == TRUE, ]"
   ]
  },
  {
   "cell_type": "code",
   "execution_count": 14,
   "metadata": {},
   "outputs": [
    {
     "data": {
      "text/html": [
       "<table>\n",
       "<caption>A data.frame: 1 × 4</caption>\n",
       "<thead>\n",
       "\t<tr><th scope=col>names</th><th scope=col>score</th><th scope=col>student.no</th><th scope=col>pass</th></tr>\n",
       "\t<tr><th scope=col>&lt;fct&gt;</th><th scope=col>&lt;dbl&gt;</th><th scope=col>&lt;chr&gt;</th><th scope=col>&lt;lgl&gt;</th></tr>\n",
       "</thead>\n",
       "<tbody>\n",
       "\t<tr><td>Lucy</td><td>67</td><td>student 1</td><td>TRUE</td></tr>\n",
       "</tbody>\n",
       "</table>\n"
      ],
      "text/latex": [
       "A data.frame: 1 × 4\n",
       "\\begin{tabular}{r|llll}\n",
       " names & score & student.no & pass\\\\\n",
       " <fct> & <dbl> & <chr> & <lgl>\\\\\n",
       "\\hline\n",
       "\t Lucy & 67 & student 1 & TRUE\\\\\n",
       "\\end{tabular}\n"
      ],
      "text/markdown": [
       "\n",
       "A data.frame: 1 × 4\n",
       "\n",
       "| names &lt;fct&gt; | score &lt;dbl&gt; | student.no &lt;chr&gt; | pass &lt;lgl&gt; |\n",
       "|---|---|---|---|\n",
       "| Lucy | 67 | student 1 | TRUE |\n",
       "\n"
      ],
      "text/plain": [
       "  names score student.no pass\n",
       "1 Lucy  67    student 1  TRUE"
      ]
     },
     "metadata": {},
     "output_type": "display_data"
    }
   ],
   "source": [
    "df[df$names == \"Lucy\", ]"
   ]
  },
  {
   "cell_type": "code",
   "execution_count": 15,
   "metadata": {
    "scrolled": true
   },
   "outputs": [
    {
     "data": {
      "text/html": [
       "<table>\n",
       "<caption>A data.frame: 4 × 2</caption>\n",
       "<thead>\n",
       "\t<tr><th scope=col>student.no</th><th scope=col>pass</th></tr>\n",
       "\t<tr><th scope=col>&lt;chr&gt;</th><th scope=col>&lt;lgl&gt;</th></tr>\n",
       "</thead>\n",
       "<tbody>\n",
       "\t<tr><td>student 1</td><td> TRUE</td></tr>\n",
       "\t<tr><td>student 2</td><td>FALSE</td></tr>\n",
       "\t<tr><td>student 3</td><td> TRUE</td></tr>\n",
       "\t<tr><td>student 4</td><td> TRUE</td></tr>\n",
       "</tbody>\n",
       "</table>\n"
      ],
      "text/latex": [
       "A data.frame: 4 × 2\n",
       "\\begin{tabular}{r|ll}\n",
       " student.no & pass\\\\\n",
       " <chr> & <lgl>\\\\\n",
       "\\hline\n",
       "\t student 1 &  TRUE\\\\\n",
       "\t student 2 & FALSE\\\\\n",
       "\t student 3 &  TRUE\\\\\n",
       "\t student 4 &  TRUE\\\\\n",
       "\\end{tabular}\n"
      ],
      "text/markdown": [
       "\n",
       "A data.frame: 4 × 2\n",
       "\n",
       "| student.no &lt;chr&gt; | pass &lt;lgl&gt; |\n",
       "|---|---|\n",
       "| student 1 |  TRUE |\n",
       "| student 2 | FALSE |\n",
       "| student 3 |  TRUE |\n",
       "| student 4 |  TRUE |\n",
       "\n"
      ],
      "text/plain": [
       "  student.no pass \n",
       "1 student 1   TRUE\n",
       "2 student 2  FALSE\n",
       "3 student 3   TRUE\n",
       "4 student 4   TRUE"
      ]
     },
     "metadata": {},
     "output_type": "display_data"
    }
   ],
   "source": [
    "# Delete variable\n",
    "df[ , -c(1, 2)]   # Delete the 1st and 2nd"
   ]
  },
  {
   "cell_type": "code",
   "execution_count": 16,
   "metadata": {
    "scrolled": true
   },
   "outputs": [
    {
     "data": {
      "text/html": [
       "<table>\n",
       "<caption>A data.frame: 4 × 2</caption>\n",
       "<thead>\n",
       "\t<tr><th scope=col>student.no</th><th scope=col>pass</th></tr>\n",
       "\t<tr><th scope=col>&lt;chr&gt;</th><th scope=col>&lt;lgl&gt;</th></tr>\n",
       "</thead>\n",
       "<tbody>\n",
       "\t<tr><td>student 1</td><td> TRUE</td></tr>\n",
       "\t<tr><td>student 2</td><td>FALSE</td></tr>\n",
       "\t<tr><td>student 3</td><td> TRUE</td></tr>\n",
       "\t<tr><td>student 4</td><td> TRUE</td></tr>\n",
       "</tbody>\n",
       "</table>\n"
      ],
      "text/latex": [
       "A data.frame: 4 × 2\n",
       "\\begin{tabular}{r|ll}\n",
       " student.no & pass\\\\\n",
       " <chr> & <lgl>\\\\\n",
       "\\hline\n",
       "\t student 1 &  TRUE\\\\\n",
       "\t student 2 & FALSE\\\\\n",
       "\t student 3 &  TRUE\\\\\n",
       "\t student 4 &  TRUE\\\\\n",
       "\\end{tabular}\n"
      ],
      "text/markdown": [
       "\n",
       "A data.frame: 4 × 2\n",
       "\n",
       "| student.no &lt;chr&gt; | pass &lt;lgl&gt; |\n",
       "|---|---|\n",
       "| student 1 |  TRUE |\n",
       "| student 2 | FALSE |\n",
       "| student 3 |  TRUE |\n",
       "| student 4 |  TRUE |\n",
       "\n"
      ],
      "text/plain": [
       "  student.no pass \n",
       "1 student 1   TRUE\n",
       "2 student 2  FALSE\n",
       "3 student 3   TRUE\n",
       "4 student 4   TRUE"
      ]
     },
     "metadata": {},
     "output_type": "display_data"
    }
   ],
   "source": [
    "# I believe that this used to work, but not anymore.\n",
    "# df[ , -c(\"names\", \"score\")]\n",
    "\n",
    "# Now\n",
    "drop <- c(\"names\", \"score\")\n",
    "df[ , !names(df) %in% drop]"
   ]
  },
  {
   "cell_type": "code",
   "execution_count": 17,
   "metadata": {},
   "outputs": [
    {
     "data": {
      "text/html": [
       "<ol class=list-inline>\n",
       "\t<li>'names'</li>\n",
       "\t<li>'score'</li>\n",
       "\t<li>'student.no'</li>\n",
       "\t<li>'pass'</li>\n",
       "</ol>\n"
      ],
      "text/latex": [
       "\\begin{enumerate*}\n",
       "\\item 'names'\n",
       "\\item 'score'\n",
       "\\item 'student.no'\n",
       "\\item 'pass'\n",
       "\\end{enumerate*}\n"
      ],
      "text/markdown": [
       "1. 'names'\n",
       "2. 'score'\n",
       "3. 'student.no'\n",
       "4. 'pass'\n",
       "\n",
       "\n"
      ],
      "text/plain": [
       "[1] \"names\"      \"score\"      \"student.no\" \"pass\"      "
      ]
     },
     "metadata": {},
     "output_type": "display_data"
    },
    {
     "data": {
      "text/html": [
       "<ol class=list-inline>\n",
       "\t<li>FALSE</li>\n",
       "\t<li>FALSE</li>\n",
       "\t<li>TRUE</li>\n",
       "\t<li>TRUE</li>\n",
       "</ol>\n"
      ],
      "text/latex": [
       "\\begin{enumerate*}\n",
       "\\item FALSE\n",
       "\\item FALSE\n",
       "\\item TRUE\n",
       "\\item TRUE\n",
       "\\end{enumerate*}\n"
      ],
      "text/markdown": [
       "1. FALSE\n",
       "2. FALSE\n",
       "3. TRUE\n",
       "4. TRUE\n",
       "\n",
       "\n"
      ],
      "text/plain": [
       "[1] FALSE FALSE  TRUE  TRUE"
      ]
     },
     "metadata": {},
     "output_type": "display_data"
    }
   ],
   "source": [
    "names(df)\n",
    "!names(df) %in% drop"
   ]
  },
  {
   "cell_type": "code",
   "execution_count": 18,
   "metadata": {
    "scrolled": true
   },
   "outputs": [
    {
     "data": {
      "text/html": [
       "<table>\n",
       "<caption>A data.frame: 4 × 2</caption>\n",
       "<thead>\n",
       "\t<tr><th scope=col>student.no</th><th scope=col>pass</th></tr>\n",
       "\t<tr><th scope=col>&lt;chr&gt;</th><th scope=col>&lt;lgl&gt;</th></tr>\n",
       "</thead>\n",
       "<tbody>\n",
       "\t<tr><td>student 1</td><td> TRUE</td></tr>\n",
       "\t<tr><td>student 2</td><td>FALSE</td></tr>\n",
       "\t<tr><td>student 3</td><td> TRUE</td></tr>\n",
       "\t<tr><td>student 4</td><td> TRUE</td></tr>\n",
       "</tbody>\n",
       "</table>\n"
      ],
      "text/latex": [
       "A data.frame: 4 × 2\n",
       "\\begin{tabular}{r|ll}\n",
       " student.no & pass\\\\\n",
       " <chr> & <lgl>\\\\\n",
       "\\hline\n",
       "\t student 1 &  TRUE\\\\\n",
       "\t student 2 & FALSE\\\\\n",
       "\t student 3 &  TRUE\\\\\n",
       "\t student 4 &  TRUE\\\\\n",
       "\\end{tabular}\n"
      ],
      "text/markdown": [
       "\n",
       "A data.frame: 4 × 2\n",
       "\n",
       "| student.no &lt;chr&gt; | pass &lt;lgl&gt; |\n",
       "|---|---|\n",
       "| student 1 |  TRUE |\n",
       "| student 2 | FALSE |\n",
       "| student 3 |  TRUE |\n",
       "| student 4 |  TRUE |\n",
       "\n"
      ],
      "text/plain": [
       "  student.no pass \n",
       "1 student 1   TRUE\n",
       "2 student 2  FALSE\n",
       "3 student 3   TRUE\n",
       "4 student 4   TRUE"
      ]
     },
     "metadata": {},
     "output_type": "display_data"
    }
   ],
   "source": [
    "select = c(\"student.no\", \"pass\")\n",
    "df[ , names(df) %in% select]"
   ]
  },
  {
   "cell_type": "code",
   "execution_count": 19,
   "metadata": {
    "scrolled": true
   },
   "outputs": [
    {
     "data": {
      "text/html": [
       "TRUE"
      ],
      "text/latex": [
       "TRUE"
      ],
      "text/markdown": [
       "TRUE"
      ],
      "text/plain": [
       "[1] TRUE"
      ]
     },
     "metadata": {},
     "output_type": "display_data"
    },
    {
     "data": {
      "text/html": [
       "FALSE"
      ],
      "text/latex": [
       "FALSE"
      ],
      "text/markdown": [
       "FALSE"
      ],
      "text/plain": [
       "[1] FALSE"
      ]
     },
     "metadata": {},
     "output_type": "display_data"
    },
    {
     "data": {
      "text/html": [
       "<ol class=list-inline>\n",
       "\t<li>TRUE</li>\n",
       "\t<li>FALSE</li>\n",
       "\t<li>TRUE</li>\n",
       "\t<li>FALSE</li>\n",
       "\t<li>TRUE</li>\n",
       "\t<li>FALSE</li>\n",
       "\t<li>FALSE</li>\n",
       "\t<li>FALSE</li>\n",
       "\t<li>FALSE</li>\n",
       "\t<li>FALSE</li>\n",
       "</ol>\n"
      ],
      "text/latex": [
       "\\begin{enumerate*}\n",
       "\\item TRUE\n",
       "\\item FALSE\n",
       "\\item TRUE\n",
       "\\item FALSE\n",
       "\\item TRUE\n",
       "\\item FALSE\n",
       "\\item FALSE\n",
       "\\item FALSE\n",
       "\\item FALSE\n",
       "\\item FALSE\n",
       "\\end{enumerate*}\n"
      ],
      "text/markdown": [
       "1. TRUE\n",
       "2. FALSE\n",
       "3. TRUE\n",
       "4. FALSE\n",
       "5. TRUE\n",
       "6. FALSE\n",
       "7. FALSE\n",
       "8. FALSE\n",
       "9. FALSE\n",
       "10. FALSE\n",
       "\n",
       "\n"
      ],
      "text/plain": [
       " [1]  TRUE FALSE  TRUE FALSE  TRUE FALSE FALSE FALSE FALSE FALSE"
      ]
     },
     "metadata": {},
     "output_type": "display_data"
    }
   ],
   "source": [
    "# How does this work?\n",
    "1 %in% c(1, 3, 5)\n",
    "\"b\" %in% c(\"a\", \"c\", \"e\")\n",
    "1:10 %in% c(1, 3, 5)"
   ]
  },
  {
   "cell_type": "markdown",
   "metadata": {},
   "source": [
    "##### a %in% b checks whether $a\\in b$ for every single entry in a.\n",
    "#### Exercise: show the name and score of those who passed except Lucy."
   ]
  },
  {
   "cell_type": "code",
   "execution_count": 20,
   "metadata": {},
   "outputs": [
    {
     "data": {
      "text/html": [
       "<table>\n",
       "<caption>A data.frame: 2 × 2</caption>\n",
       "<thead>\n",
       "\t<tr><th></th><th scope=col>names</th><th scope=col>score</th></tr>\n",
       "\t<tr><th></th><th scope=col>&lt;fct&gt;</th><th scope=col>&lt;dbl&gt;</th></tr>\n",
       "</thead>\n",
       "<tbody>\n",
       "\t<tr><th scope=row>3</th><td>Mark </td><td>87</td></tr>\n",
       "\t<tr><th scope=row>4</th><td>Candy</td><td>91</td></tr>\n",
       "</tbody>\n",
       "</table>\n"
      ],
      "text/latex": [
       "A data.frame: 2 × 2\n",
       "\\begin{tabular}{r|ll}\n",
       "  & names & score\\\\\n",
       "  & <fct> & <dbl>\\\\\n",
       "\\hline\n",
       "\t3 & Mark  & 87\\\\\n",
       "\t4 & Candy & 91\\\\\n",
       "\\end{tabular}\n"
      ],
      "text/markdown": [
       "\n",
       "A data.frame: 2 × 2\n",
       "\n",
       "| <!--/--> | names &lt;fct&gt; | score &lt;dbl&gt; |\n",
       "|---|---|---|\n",
       "| 3 | Mark  | 87 |\n",
       "| 4 | Candy | 91 |\n",
       "\n"
      ],
      "text/plain": [
       "  names score\n",
       "3 Mark  87   \n",
       "4 Candy 91   "
      ]
     },
     "metadata": {},
     "output_type": "display_data"
    }
   ],
   "source": [
    "df[df$pass == TRUE & df$name != \"Lucy\" , c(\"names\", \"score\")]"
   ]
  },
  {
   "cell_type": "code",
   "execution_count": 21,
   "metadata": {},
   "outputs": [
    {
     "data": {
      "text/html": [
       "<ol class=list-inline>\n",
       "\t<li>TRUE</li>\n",
       "\t<li>FALSE</li>\n",
       "\t<li>TRUE</li>\n",
       "\t<li>TRUE</li>\n",
       "</ol>\n"
      ],
      "text/latex": [
       "\\begin{enumerate*}\n",
       "\\item TRUE\n",
       "\\item FALSE\n",
       "\\item TRUE\n",
       "\\item TRUE\n",
       "\\end{enumerate*}\n"
      ],
      "text/markdown": [
       "1. TRUE\n",
       "2. FALSE\n",
       "3. TRUE\n",
       "4. TRUE\n",
       "\n",
       "\n"
      ],
      "text/plain": [
       "[1]  TRUE FALSE  TRUE  TRUE"
      ]
     },
     "metadata": {},
     "output_type": "display_data"
    }
   ],
   "source": [
    "passed <- df$pass == TRUE\n",
    "passed"
   ]
  },
  {
   "cell_type": "code",
   "execution_count": 22,
   "metadata": {},
   "outputs": [
    {
     "data": {
      "text/html": [
       "<ol class=list-inline>\n",
       "\t<li>FALSE</li>\n",
       "\t<li>TRUE</li>\n",
       "\t<li>TRUE</li>\n",
       "\t<li>TRUE</li>\n",
       "</ol>\n"
      ],
      "text/latex": [
       "\\begin{enumerate*}\n",
       "\\item FALSE\n",
       "\\item TRUE\n",
       "\\item TRUE\n",
       "\\item TRUE\n",
       "\\end{enumerate*}\n"
      ],
      "text/markdown": [
       "1. FALSE\n",
       "2. TRUE\n",
       "3. TRUE\n",
       "4. TRUE\n",
       "\n",
       "\n"
      ],
      "text/plain": [
       "[1] FALSE  TRUE  TRUE  TRUE"
      ]
     },
     "metadata": {},
     "output_type": "display_data"
    }
   ],
   "source": [
    "notLucy <- df$name != \"Lucy\"\n",
    "notLucy"
   ]
  },
  {
   "cell_type": "code",
   "execution_count": 23,
   "metadata": {},
   "outputs": [
    {
     "data": {
      "text/html": [
       "<ol class=list-inline>\n",
       "\t<li>FALSE</li>\n",
       "\t<li>FALSE</li>\n",
       "\t<li>TRUE</li>\n",
       "\t<li>TRUE</li>\n",
       "</ol>\n"
      ],
      "text/latex": [
       "\\begin{enumerate*}\n",
       "\\item FALSE\n",
       "\\item FALSE\n",
       "\\item TRUE\n",
       "\\item TRUE\n",
       "\\end{enumerate*}\n"
      ],
      "text/markdown": [
       "1. FALSE\n",
       "2. FALSE\n",
       "3. TRUE\n",
       "4. TRUE\n",
       "\n",
       "\n"
      ],
      "text/plain": [
       "[1] FALSE FALSE  TRUE  TRUE"
      ]
     },
     "metadata": {},
     "output_type": "display_data"
    }
   ],
   "source": [
    "rowCondition <- passed & notLucy\n",
    "rowCondition"
   ]
  },
  {
   "cell_type": "code",
   "execution_count": 24,
   "metadata": {},
   "outputs": [
    {
     "data": {
      "text/html": [
       "<table>\n",
       "<caption>A data.frame: 2 × 4</caption>\n",
       "<thead>\n",
       "\t<tr><th></th><th scope=col>names</th><th scope=col>score</th><th scope=col>student.no</th><th scope=col>pass</th></tr>\n",
       "\t<tr><th></th><th scope=col>&lt;fct&gt;</th><th scope=col>&lt;dbl&gt;</th><th scope=col>&lt;chr&gt;</th><th scope=col>&lt;lgl&gt;</th></tr>\n",
       "</thead>\n",
       "<tbody>\n",
       "\t<tr><th scope=row>3</th><td>Mark </td><td>87</td><td>student 3</td><td>TRUE</td></tr>\n",
       "\t<tr><th scope=row>4</th><td>Candy</td><td>91</td><td>student 4</td><td>TRUE</td></tr>\n",
       "</tbody>\n",
       "</table>\n"
      ],
      "text/latex": [
       "A data.frame: 2 × 4\n",
       "\\begin{tabular}{r|llll}\n",
       "  & names & score & student.no & pass\\\\\n",
       "  & <fct> & <dbl> & <chr> & <lgl>\\\\\n",
       "\\hline\n",
       "\t3 & Mark  & 87 & student 3 & TRUE\\\\\n",
       "\t4 & Candy & 91 & student 4 & TRUE\\\\\n",
       "\\end{tabular}\n"
      ],
      "text/markdown": [
       "\n",
       "A data.frame: 2 × 4\n",
       "\n",
       "| <!--/--> | names &lt;fct&gt; | score &lt;dbl&gt; | student.no &lt;chr&gt; | pass &lt;lgl&gt; |\n",
       "|---|---|---|---|---|\n",
       "| 3 | Mark  | 87 | student 3 | TRUE |\n",
       "| 4 | Candy | 91 | student 4 | TRUE |\n",
       "\n"
      ],
      "text/plain": [
       "  names score student.no pass\n",
       "3 Mark  87    student 3  TRUE\n",
       "4 Candy 91    student 4  TRUE"
      ]
     },
     "metadata": {},
     "output_type": "display_data"
    }
   ],
   "source": [
    "df[rowCondition, ]"
   ]
  },
  {
   "cell_type": "markdown",
   "metadata": {},
   "source": [
    "### 5.1.2 subset( )\n",
    "    subset(x, subset, select, drop = FALSE, ...)"
   ]
  },
  {
   "cell_type": "code",
   "execution_count": 25,
   "metadata": {},
   "outputs": [
    {
     "data": {
      "text/html": [
       "<table>\n",
       "<caption>A data.frame: 4 × 4</caption>\n",
       "<thead>\n",
       "\t<tr><th scope=col>names</th><th scope=col>score</th><th scope=col>student.no</th><th scope=col>pass</th></tr>\n",
       "\t<tr><th scope=col>&lt;fct&gt;</th><th scope=col>&lt;dbl&gt;</th><th scope=col>&lt;chr&gt;</th><th scope=col>&lt;lgl&gt;</th></tr>\n",
       "</thead>\n",
       "<tbody>\n",
       "\t<tr><td>Lucy </td><td>67</td><td>student 1</td><td> TRUE</td></tr>\n",
       "\t<tr><td>John </td><td>56</td><td>student 2</td><td>FALSE</td></tr>\n",
       "\t<tr><td>Mark </td><td>87</td><td>student 3</td><td> TRUE</td></tr>\n",
       "\t<tr><td>Candy</td><td>91</td><td>student 4</td><td> TRUE</td></tr>\n",
       "</tbody>\n",
       "</table>\n"
      ],
      "text/latex": [
       "A data.frame: 4 × 4\n",
       "\\begin{tabular}{r|llll}\n",
       " names & score & student.no & pass\\\\\n",
       " <fct> & <dbl> & <chr> & <lgl>\\\\\n",
       "\\hline\n",
       "\t Lucy  & 67 & student 1 &  TRUE\\\\\n",
       "\t John  & 56 & student 2 & FALSE\\\\\n",
       "\t Mark  & 87 & student 3 &  TRUE\\\\\n",
       "\t Candy & 91 & student 4 &  TRUE\\\\\n",
       "\\end{tabular}\n"
      ],
      "text/markdown": [
       "\n",
       "A data.frame: 4 × 4\n",
       "\n",
       "| names &lt;fct&gt; | score &lt;dbl&gt; | student.no &lt;chr&gt; | pass &lt;lgl&gt; |\n",
       "|---|---|---|---|\n",
       "| Lucy  | 67 | student 1 |  TRUE |\n",
       "| John  | 56 | student 2 | FALSE |\n",
       "| Mark  | 87 | student 3 |  TRUE |\n",
       "| Candy | 91 | student 4 |  TRUE |\n",
       "\n"
      ],
      "text/plain": [
       "  names score student.no pass \n",
       "1 Lucy  67    student 1   TRUE\n",
       "2 John  56    student 2  FALSE\n",
       "3 Mark  87    student 3   TRUE\n",
       "4 Candy 91    student 4   TRUE"
      ]
     },
     "metadata": {},
     "output_type": "display_data"
    }
   ],
   "source": [
    "df"
   ]
  },
  {
   "cell_type": "code",
   "execution_count": 26,
   "metadata": {
    "scrolled": true
   },
   "outputs": [
    {
     "data": {
      "text/html": [
       "<table>\n",
       "<caption>A data.frame: 4 × 2</caption>\n",
       "<thead>\n",
       "\t<tr><th scope=col>student.no</th><th scope=col>pass</th></tr>\n",
       "\t<tr><th scope=col>&lt;chr&gt;</th><th scope=col>&lt;lgl&gt;</th></tr>\n",
       "</thead>\n",
       "<tbody>\n",
       "\t<tr><td>student 1</td><td> TRUE</td></tr>\n",
       "\t<tr><td>student 2</td><td>FALSE</td></tr>\n",
       "\t<tr><td>student 3</td><td> TRUE</td></tr>\n",
       "\t<tr><td>student 4</td><td> TRUE</td></tr>\n",
       "</tbody>\n",
       "</table>\n"
      ],
      "text/latex": [
       "A data.frame: 4 × 2\n",
       "\\begin{tabular}{r|ll}\n",
       " student.no & pass\\\\\n",
       " <chr> & <lgl>\\\\\n",
       "\\hline\n",
       "\t student 1 &  TRUE\\\\\n",
       "\t student 2 & FALSE\\\\\n",
       "\t student 3 &  TRUE\\\\\n",
       "\t student 4 &  TRUE\\\\\n",
       "\\end{tabular}\n"
      ],
      "text/markdown": [
       "\n",
       "A data.frame: 4 × 2\n",
       "\n",
       "| student.no &lt;chr&gt; | pass &lt;lgl&gt; |\n",
       "|---|---|\n",
       "| student 1 |  TRUE |\n",
       "| student 2 | FALSE |\n",
       "| student 3 |  TRUE |\n",
       "| student 4 |  TRUE |\n",
       "\n"
      ],
      "text/plain": [
       "  student.no pass \n",
       "1 student 1   TRUE\n",
       "2 student 2  FALSE\n",
       "3 student 3   TRUE\n",
       "4 student 4   TRUE"
      ]
     },
     "metadata": {},
     "output_type": "display_data"
    }
   ],
   "source": [
    "# \"select\" argument selects columns\n",
    "subset(df, select = c(student.no, pass))"
   ]
  },
  {
   "cell_type": "code",
   "execution_count": 27,
   "metadata": {
    "scrolled": true
   },
   "outputs": [
    {
     "data": {
      "text/html": [
       "<table>\n",
       "<caption>A data.frame: 4 × 2</caption>\n",
       "<thead>\n",
       "\t<tr><th scope=col>student.no</th><th scope=col>pass</th></tr>\n",
       "\t<tr><th scope=col>&lt;chr&gt;</th><th scope=col>&lt;lgl&gt;</th></tr>\n",
       "</thead>\n",
       "<tbody>\n",
       "\t<tr><td>student 1</td><td> TRUE</td></tr>\n",
       "\t<tr><td>student 2</td><td>FALSE</td></tr>\n",
       "\t<tr><td>student 3</td><td> TRUE</td></tr>\n",
       "\t<tr><td>student 4</td><td> TRUE</td></tr>\n",
       "</tbody>\n",
       "</table>\n"
      ],
      "text/latex": [
       "A data.frame: 4 × 2\n",
       "\\begin{tabular}{r|ll}\n",
       " student.no & pass\\\\\n",
       " <chr> & <lgl>\\\\\n",
       "\\hline\n",
       "\t student 1 &  TRUE\\\\\n",
       "\t student 2 & FALSE\\\\\n",
       "\t student 3 &  TRUE\\\\\n",
       "\t student 4 &  TRUE\\\\\n",
       "\\end{tabular}\n"
      ],
      "text/markdown": [
       "\n",
       "A data.frame: 4 × 2\n",
       "\n",
       "| student.no &lt;chr&gt; | pass &lt;lgl&gt; |\n",
       "|---|---|\n",
       "| student 1 |  TRUE |\n",
       "| student 2 | FALSE |\n",
       "| student 3 |  TRUE |\n",
       "| student 4 |  TRUE |\n",
       "\n"
      ],
      "text/plain": [
       "  student.no pass \n",
       "1 student 1   TRUE\n",
       "2 student 2  FALSE\n",
       "3 student 3   TRUE\n",
       "4 student 4   TRUE"
      ]
     },
     "metadata": {},
     "output_type": "display_data"
    }
   ],
   "source": [
    "# Can also delete unwanted columns\n",
    "subset(df, select = -c(names, score))"
   ]
  },
  {
   "cell_type": "code",
   "execution_count": 28,
   "metadata": {
    "scrolled": false
   },
   "outputs": [
    {
     "data": {
      "text/html": [
       "<table>\n",
       "<caption>A data.frame: 2 × 4</caption>\n",
       "<thead>\n",
       "\t<tr><th></th><th scope=col>names</th><th scope=col>score</th><th scope=col>student.no</th><th scope=col>pass</th></tr>\n",
       "\t<tr><th></th><th scope=col>&lt;fct&gt;</th><th scope=col>&lt;dbl&gt;</th><th scope=col>&lt;chr&gt;</th><th scope=col>&lt;lgl&gt;</th></tr>\n",
       "</thead>\n",
       "<tbody>\n",
       "\t<tr><th scope=row>3</th><td>Mark </td><td>87</td><td>student 3</td><td>TRUE</td></tr>\n",
       "\t<tr><th scope=row>4</th><td>Candy</td><td>91</td><td>student 4</td><td>TRUE</td></tr>\n",
       "</tbody>\n",
       "</table>\n"
      ],
      "text/latex": [
       "A data.frame: 2 × 4\n",
       "\\begin{tabular}{r|llll}\n",
       "  & names & score & student.no & pass\\\\\n",
       "  & <fct> & <dbl> & <chr> & <lgl>\\\\\n",
       "\\hline\n",
       "\t3 & Mark  & 87 & student 3 & TRUE\\\\\n",
       "\t4 & Candy & 91 & student 4 & TRUE\\\\\n",
       "\\end{tabular}\n"
      ],
      "text/markdown": [
       "\n",
       "A data.frame: 2 × 4\n",
       "\n",
       "| <!--/--> | names &lt;fct&gt; | score &lt;dbl&gt; | student.no &lt;chr&gt; | pass &lt;lgl&gt; |\n",
       "|---|---|---|---|---|\n",
       "| 3 | Mark  | 87 | student 3 | TRUE |\n",
       "| 4 | Candy | 91 | student 4 | TRUE |\n",
       "\n"
      ],
      "text/plain": [
       "  names score student.no pass\n",
       "3 Mark  87    student 3  TRUE\n",
       "4 Candy 91    student 4  TRUE"
      ]
     },
     "metadata": {},
     "output_type": "display_data"
    }
   ],
   "source": [
    "# \"subset\" argument selects rows\n",
    "# Can apply conditions\n",
    "subset(df, subset = (score > 80))"
   ]
  },
  {
   "cell_type": "code",
   "execution_count": 29,
   "metadata": {},
   "outputs": [
    {
     "data": {
      "text/html": [
       "<table>\n",
       "<caption>A data.frame: 3 × 1</caption>\n",
       "<thead>\n",
       "\t<tr><th></th><th scope=col>names</th></tr>\n",
       "\t<tr><th></th><th scope=col>&lt;fct&gt;</th></tr>\n",
       "</thead>\n",
       "<tbody>\n",
       "\t<tr><th scope=row>1</th><td>Lucy </td></tr>\n",
       "\t<tr><th scope=row>3</th><td>Mark </td></tr>\n",
       "\t<tr><th scope=row>4</th><td>Candy</td></tr>\n",
       "</tbody>\n",
       "</table>\n"
      ],
      "text/latex": [
       "A data.frame: 3 × 1\n",
       "\\begin{tabular}{r|l}\n",
       "  & names\\\\\n",
       "  & <fct>\\\\\n",
       "\\hline\n",
       "\t1 & Lucy \\\\\n",
       "\t3 & Mark \\\\\n",
       "\t4 & Candy\\\\\n",
       "\\end{tabular}\n"
      ],
      "text/markdown": [
       "\n",
       "A data.frame: 3 × 1\n",
       "\n",
       "| <!--/--> | names &lt;fct&gt; |\n",
       "|---|---|\n",
       "| 1 | Lucy  |\n",
       "| 3 | Mark  |\n",
       "| 4 | Candy |\n",
       "\n"
      ],
      "text/plain": [
       "  names\n",
       "1 Lucy \n",
       "3 Mark \n",
       "4 Candy"
      ]
     },
     "metadata": {},
     "output_type": "display_data"
    }
   ],
   "source": [
    "# Now use both select and subset arguments to apply conditions\n",
    "# Select the names of those who passed\n",
    "subset(df, select = names, subset = (pass == TRUE))"
   ]
  },
  {
   "cell_type": "markdown",
   "metadata": {},
   "source": [
    "##### Note that all subsets are still data frames.\n",
    "#### Exercise: show the name and score of those who passed except Lucy."
   ]
  },
  {
   "cell_type": "code",
   "execution_count": 30,
   "metadata": {},
   "outputs": [
    {
     "data": {
      "text/html": [
       "<table>\n",
       "<caption>A data.frame: 2 × 2</caption>\n",
       "<thead>\n",
       "\t<tr><th></th><th scope=col>names</th><th scope=col>score</th></tr>\n",
       "\t<tr><th></th><th scope=col>&lt;fct&gt;</th><th scope=col>&lt;dbl&gt;</th></tr>\n",
       "</thead>\n",
       "<tbody>\n",
       "\t<tr><th scope=row>3</th><td>Mark </td><td>87</td></tr>\n",
       "\t<tr><th scope=row>4</th><td>Candy</td><td>91</td></tr>\n",
       "</tbody>\n",
       "</table>\n"
      ],
      "text/latex": [
       "A data.frame: 2 × 2\n",
       "\\begin{tabular}{r|ll}\n",
       "  & names & score\\\\\n",
       "  & <fct> & <dbl>\\\\\n",
       "\\hline\n",
       "\t3 & Mark  & 87\\\\\n",
       "\t4 & Candy & 91\\\\\n",
       "\\end{tabular}\n"
      ],
      "text/markdown": [
       "\n",
       "A data.frame: 2 × 2\n",
       "\n",
       "| <!--/--> | names &lt;fct&gt; | score &lt;dbl&gt; |\n",
       "|---|---|---|\n",
       "| 3 | Mark  | 87 |\n",
       "| 4 | Candy | 91 |\n",
       "\n"
      ],
      "text/plain": [
       "  names score\n",
       "3 Mark  87   \n",
       "4 Candy 91   "
      ]
     },
     "metadata": {},
     "output_type": "display_data"
    }
   ],
   "source": [
    "# Show the name and score of those who passed except Lucy(s).\n",
    "# Recall logical operators &, | and !\n",
    "subset(df, select = c(names, score), subset = pass == TRUE & names != \"Lucy\")"
   ]
  },
  {
   "cell_type": "markdown",
   "metadata": {},
   "source": [
    "### 5.1.3 dplyr package\n",
    "\n",
    "    'dplyr is a grammar of data manipulation'\n",
    "https://dplyr.tidyverse.org\n",
    "\n",
    "I do not use this package, or any other packages within the whole <tt>tidyverse</tt>. https://www.tidyverse.org"
   ]
  },
  {
   "cell_type": "code",
   "execution_count": 31,
   "metadata": {
    "scrolled": true
   },
   "outputs": [
    {
     "name": "stderr",
     "output_type": "stream",
     "text": [
      "\n",
      "Attaching package: ‘dplyr’\n",
      "\n",
      "The following objects are masked from ‘package:stats’:\n",
      "\n",
      "    filter, lag\n",
      "\n",
      "The following objects are masked from ‘package:base’:\n",
      "\n",
      "    intersect, setdiff, setequal, union\n",
      "\n"
     ]
    }
   ],
   "source": [
    "library(dplyr)"
   ]
  },
  {
   "cell_type": "code",
   "execution_count": 32,
   "metadata": {},
   "outputs": [
    {
     "data": {
      "text/html": [
       "<table>\n",
       "<caption>A data.frame: 2 × 4</caption>\n",
       "<thead>\n",
       "\t<tr><th scope=col>names</th><th scope=col>score</th><th scope=col>student.no</th><th scope=col>pass</th></tr>\n",
       "\t<tr><th scope=col>&lt;fct&gt;</th><th scope=col>&lt;dbl&gt;</th><th scope=col>&lt;chr&gt;</th><th scope=col>&lt;lgl&gt;</th></tr>\n",
       "</thead>\n",
       "<tbody>\n",
       "\t<tr><td>Mark </td><td>87</td><td>student 3</td><td>TRUE</td></tr>\n",
       "\t<tr><td>Candy</td><td>91</td><td>student 4</td><td>TRUE</td></tr>\n",
       "</tbody>\n",
       "</table>\n"
      ],
      "text/latex": [
       "A data.frame: 2 × 4\n",
       "\\begin{tabular}{r|llll}\n",
       " names & score & student.no & pass\\\\\n",
       " <fct> & <dbl> & <chr> & <lgl>\\\\\n",
       "\\hline\n",
       "\t Mark  & 87 & student 3 & TRUE\\\\\n",
       "\t Candy & 91 & student 4 & TRUE\\\\\n",
       "\\end{tabular}\n"
      ],
      "text/markdown": [
       "\n",
       "A data.frame: 2 × 4\n",
       "\n",
       "| names &lt;fct&gt; | score &lt;dbl&gt; | student.no &lt;chr&gt; | pass &lt;lgl&gt; |\n",
       "|---|---|---|---|\n",
       "| Mark  | 87 | student 3 | TRUE |\n",
       "| Candy | 91 | student 4 | TRUE |\n",
       "\n"
      ],
      "text/plain": [
       "  names score student.no pass\n",
       "1 Mark  87    student 3  TRUE\n",
       "2 Candy 91    student 4  TRUE"
      ]
     },
     "metadata": {},
     "output_type": "display_data"
    }
   ],
   "source": [
    "# Show the name and score of those who passed except Lucy(s).\n",
    "df.col <- filter(df, names != \"Lucy\" & pass == TRUE)\n",
    "df.col"
   ]
  },
  {
   "cell_type": "code",
   "execution_count": 33,
   "metadata": {},
   "outputs": [
    {
     "data": {
      "text/html": [
       "<table>\n",
       "<caption>A data.frame: 2 × 2</caption>\n",
       "<thead>\n",
       "\t<tr><th scope=col>names</th><th scope=col>score</th></tr>\n",
       "\t<tr><th scope=col>&lt;fct&gt;</th><th scope=col>&lt;dbl&gt;</th></tr>\n",
       "</thead>\n",
       "<tbody>\n",
       "\t<tr><td>Mark </td><td>87</td></tr>\n",
       "\t<tr><td>Candy</td><td>91</td></tr>\n",
       "</tbody>\n",
       "</table>\n"
      ],
      "text/latex": [
       "A data.frame: 2 × 2\n",
       "\\begin{tabular}{r|ll}\n",
       " names & score\\\\\n",
       " <fct> & <dbl>\\\\\n",
       "\\hline\n",
       "\t Mark  & 87\\\\\n",
       "\t Candy & 91\\\\\n",
       "\\end{tabular}\n"
      ],
      "text/markdown": [
       "\n",
       "A data.frame: 2 × 2\n",
       "\n",
       "| names &lt;fct&gt; | score &lt;dbl&gt; |\n",
       "|---|---|\n",
       "| Mark  | 87 |\n",
       "| Candy | 91 |\n",
       "\n"
      ],
      "text/plain": [
       "  names score\n",
       "1 Mark  87   \n",
       "2 Candy 91   "
      ]
     },
     "metadata": {},
     "output_type": "display_data"
    }
   ],
   "source": [
    "df.final <- select(df.col, c(names, score))\n",
    "df.final"
   ]
  },
  {
   "cell_type": "markdown",
   "metadata": {},
   "source": [
    "##### dplyr cheetsheet\n",
    "https://rstudio.com/wp-content/uploads/2015/02/data-wrangling-cheatsheet.pdf"
   ]
  },
  {
   "cell_type": "markdown",
   "metadata": {},
   "source": [
    "## 5.2 Merge data\n",
    "### 5.2.1 Add cases/observations to a data frame\n",
    "This is basically adding rows."
   ]
  },
  {
   "cell_type": "code",
   "execution_count": 34,
   "metadata": {},
   "outputs": [
    {
     "data": {
      "text/html": [
       "<table>\n",
       "<caption>A data.frame: 4 × 4</caption>\n",
       "<thead>\n",
       "\t<tr><th scope=col>names</th><th scope=col>score</th><th scope=col>student.no</th><th scope=col>pass</th></tr>\n",
       "\t<tr><th scope=col>&lt;fct&gt;</th><th scope=col>&lt;dbl&gt;</th><th scope=col>&lt;chr&gt;</th><th scope=col>&lt;lgl&gt;</th></tr>\n",
       "</thead>\n",
       "<tbody>\n",
       "\t<tr><td>Lucy </td><td>67</td><td>student 1</td><td> TRUE</td></tr>\n",
       "\t<tr><td>John </td><td>56</td><td>student 2</td><td>FALSE</td></tr>\n",
       "\t<tr><td>Mark </td><td>87</td><td>student 3</td><td> TRUE</td></tr>\n",
       "\t<tr><td>Candy</td><td>91</td><td>student 4</td><td> TRUE</td></tr>\n",
       "</tbody>\n",
       "</table>\n"
      ],
      "text/latex": [
       "A data.frame: 4 × 4\n",
       "\\begin{tabular}{r|llll}\n",
       " names & score & student.no & pass\\\\\n",
       " <fct> & <dbl> & <chr> & <lgl>\\\\\n",
       "\\hline\n",
       "\t Lucy  & 67 & student 1 &  TRUE\\\\\n",
       "\t John  & 56 & student 2 & FALSE\\\\\n",
       "\t Mark  & 87 & student 3 &  TRUE\\\\\n",
       "\t Candy & 91 & student 4 &  TRUE\\\\\n",
       "\\end{tabular}\n"
      ],
      "text/markdown": [
       "\n",
       "A data.frame: 4 × 4\n",
       "\n",
       "| names &lt;fct&gt; | score &lt;dbl&gt; | student.no &lt;chr&gt; | pass &lt;lgl&gt; |\n",
       "|---|---|---|---|\n",
       "| Lucy  | 67 | student 1 |  TRUE |\n",
       "| John  | 56 | student 2 | FALSE |\n",
       "| Mark  | 87 | student 3 |  TRUE |\n",
       "| Candy | 91 | student 4 |  TRUE |\n",
       "\n"
      ],
      "text/plain": [
       "  names score student.no pass \n",
       "1 Lucy  67    student 1   TRUE\n",
       "2 John  56    student 2  FALSE\n",
       "3 Mark  87    student 3   TRUE\n",
       "4 Candy 91    student 4   TRUE"
      ]
     },
     "metadata": {},
     "output_type": "display_data"
    }
   ],
   "source": [
    "df"
   ]
  },
  {
   "cell_type": "code",
   "execution_count": 35,
   "metadata": {
    "scrolled": true
   },
   "outputs": [
    {
     "data": {
      "text/html": [
       "<table>\n",
       "<caption>A data.frame: 2 × 4</caption>\n",
       "<thead>\n",
       "\t<tr><th scope=col>names</th><th scope=col>score</th><th scope=col>student.no</th><th scope=col>pass</th></tr>\n",
       "\t<tr><th scope=col>&lt;fct&gt;</th><th scope=col>&lt;dbl&gt;</th><th scope=col>&lt;fct&gt;</th><th scope=col>&lt;lgl&gt;</th></tr>\n",
       "</thead>\n",
       "<tbody>\n",
       "\t<tr><td>Name</td><td>79</td><td>student 5</td><td> TRUE</td></tr>\n",
       "\t<tr><td>Nom </td><td>48</td><td>student 6</td><td>FALSE</td></tr>\n",
       "</tbody>\n",
       "</table>\n"
      ],
      "text/latex": [
       "A data.frame: 2 × 4\n",
       "\\begin{tabular}{r|llll}\n",
       " names & score & student.no & pass\\\\\n",
       " <fct> & <dbl> & <fct> & <lgl>\\\\\n",
       "\\hline\n",
       "\t Name & 79 & student 5 &  TRUE\\\\\n",
       "\t Nom  & 48 & student 6 & FALSE\\\\\n",
       "\\end{tabular}\n"
      ],
      "text/markdown": [
       "\n",
       "A data.frame: 2 × 4\n",
       "\n",
       "| names &lt;fct&gt; | score &lt;dbl&gt; | student.no &lt;fct&gt; | pass &lt;lgl&gt; |\n",
       "|---|---|---|---|\n",
       "| Name | 79 | student 5 |  TRUE |\n",
       "| Nom  | 48 | student 6 | FALSE |\n",
       "\n"
      ],
      "text/plain": [
       "  names score student.no pass \n",
       "1 Name  79    student 5   TRUE\n",
       "2 Nom   48    student 6  FALSE"
      ]
     },
     "metadata": {},
     "output_type": "display_data"
    }
   ],
   "source": [
    "new.students <- data.frame(names = c(\"Name\", \"Nom\"),\n",
    "                           score = c(79, 48),\n",
    "                           student.no = c(\"student 5\", \"student 6\"),\n",
    "                           pass = c(TRUE, FALSE))\n",
    "new.students"
   ]
  },
  {
   "cell_type": "code",
   "execution_count": 36,
   "metadata": {},
   "outputs": [
    {
     "data": {
      "text/html": [
       "<table>\n",
       "<caption>A data.frame: 6 × 4</caption>\n",
       "<thead>\n",
       "\t<tr><th scope=col>names</th><th scope=col>score</th><th scope=col>student.no</th><th scope=col>pass</th></tr>\n",
       "\t<tr><th scope=col>&lt;fct&gt;</th><th scope=col>&lt;dbl&gt;</th><th scope=col>&lt;chr&gt;</th><th scope=col>&lt;lgl&gt;</th></tr>\n",
       "</thead>\n",
       "<tbody>\n",
       "\t<tr><td>Lucy </td><td>67</td><td>student 1</td><td> TRUE</td></tr>\n",
       "\t<tr><td>John </td><td>56</td><td>student 2</td><td>FALSE</td></tr>\n",
       "\t<tr><td>Mark </td><td>87</td><td>student 3</td><td> TRUE</td></tr>\n",
       "\t<tr><td>Candy</td><td>91</td><td>student 4</td><td> TRUE</td></tr>\n",
       "\t<tr><td>Name </td><td>79</td><td>student 5</td><td> TRUE</td></tr>\n",
       "\t<tr><td>Nom  </td><td>48</td><td>student 6</td><td>FALSE</td></tr>\n",
       "</tbody>\n",
       "</table>\n"
      ],
      "text/latex": [
       "A data.frame: 6 × 4\n",
       "\\begin{tabular}{r|llll}\n",
       " names & score & student.no & pass\\\\\n",
       " <fct> & <dbl> & <chr> & <lgl>\\\\\n",
       "\\hline\n",
       "\t Lucy  & 67 & student 1 &  TRUE\\\\\n",
       "\t John  & 56 & student 2 & FALSE\\\\\n",
       "\t Mark  & 87 & student 3 &  TRUE\\\\\n",
       "\t Candy & 91 & student 4 &  TRUE\\\\\n",
       "\t Name  & 79 & student 5 &  TRUE\\\\\n",
       "\t Nom   & 48 & student 6 & FALSE\\\\\n",
       "\\end{tabular}\n"
      ],
      "text/markdown": [
       "\n",
       "A data.frame: 6 × 4\n",
       "\n",
       "| names &lt;fct&gt; | score &lt;dbl&gt; | student.no &lt;chr&gt; | pass &lt;lgl&gt; |\n",
       "|---|---|---|---|\n",
       "| Lucy  | 67 | student 1 |  TRUE |\n",
       "| John  | 56 | student 2 | FALSE |\n",
       "| Mark  | 87 | student 3 |  TRUE |\n",
       "| Candy | 91 | student 4 |  TRUE |\n",
       "| Name  | 79 | student 5 |  TRUE |\n",
       "| Nom   | 48 | student 6 | FALSE |\n",
       "\n"
      ],
      "text/plain": [
       "  names score student.no pass \n",
       "1 Lucy  67    student 1   TRUE\n",
       "2 John  56    student 2  FALSE\n",
       "3 Mark  87    student 3   TRUE\n",
       "4 Candy 91    student 4   TRUE\n",
       "5 Name  79    student 5   TRUE\n",
       "6 Nom   48    student 6  FALSE"
      ]
     },
     "metadata": {},
     "output_type": "display_data"
    }
   ],
   "source": [
    "df.new <- rbind(df, new.students); df.new"
   ]
  },
  {
   "cell_type": "markdown",
   "metadata": {},
   "source": [
    "### 5.2.2 Add variables to a dataset\n",
    "This is adding columns."
   ]
  },
  {
   "cell_type": "code",
   "execution_count": 37,
   "metadata": {},
   "outputs": [
    {
     "data": {
      "text/html": [
       "<table>\n",
       "<caption>A data.frame: 4 × 4</caption>\n",
       "<thead>\n",
       "\t<tr><th scope=col>score</th><th scope=col>student.no</th><th scope=col>pass</th><th scope=col>id1</th></tr>\n",
       "\t<tr><th scope=col>&lt;dbl&gt;</th><th scope=col>&lt;chr&gt;</th><th scope=col>&lt;lgl&gt;</th><th scope=col>&lt;int&gt;</th></tr>\n",
       "</thead>\n",
       "<tbody>\n",
       "\t<tr><td>67</td><td>student 1</td><td> TRUE</td><td>1</td></tr>\n",
       "\t<tr><td>56</td><td>student 2</td><td>FALSE</td><td>2</td></tr>\n",
       "\t<tr><td>87</td><td>student 3</td><td> TRUE</td><td>3</td></tr>\n",
       "\t<tr><td>91</td><td>student 4</td><td> TRUE</td><td>4</td></tr>\n",
       "</tbody>\n",
       "</table>\n"
      ],
      "text/latex": [
       "A data.frame: 4 × 4\n",
       "\\begin{tabular}{r|llll}\n",
       " score & student.no & pass & id1\\\\\n",
       " <dbl> & <chr> & <lgl> & <int>\\\\\n",
       "\\hline\n",
       "\t 67 & student 1 &  TRUE & 1\\\\\n",
       "\t 56 & student 2 & FALSE & 2\\\\\n",
       "\t 87 & student 3 &  TRUE & 3\\\\\n",
       "\t 91 & student 4 &  TRUE & 4\\\\\n",
       "\\end{tabular}\n"
      ],
      "text/markdown": [
       "\n",
       "A data.frame: 4 × 4\n",
       "\n",
       "| score &lt;dbl&gt; | student.no &lt;chr&gt; | pass &lt;lgl&gt; | id1 &lt;int&gt; |\n",
       "|---|---|---|---|\n",
       "| 67 | student 1 |  TRUE | 1 |\n",
       "| 56 | student 2 | FALSE | 2 |\n",
       "| 87 | student 3 |  TRUE | 3 |\n",
       "| 91 | student 4 |  TRUE | 4 |\n",
       "\n"
      ],
      "text/plain": [
       "  score student.no pass  id1\n",
       "1 67    student 1   TRUE 1  \n",
       "2 56    student 2  FALSE 2  \n",
       "3 87    student 3   TRUE 3  \n",
       "4 91    student 4   TRUE 4  "
      ]
     },
     "metadata": {},
     "output_type": "display_data"
    }
   ],
   "source": [
    "# Option 1\n",
    "df.copy$id1 <- 1:4\n",
    "df.copy"
   ]
  },
  {
   "cell_type": "code",
   "execution_count": 38,
   "metadata": {},
   "outputs": [
    {
     "data": {
      "text/html": [
       "<table>\n",
       "<caption>A data.frame: 4 × 5</caption>\n",
       "<thead>\n",
       "\t<tr><th scope=col>score</th><th scope=col>student.no</th><th scope=col>pass</th><th scope=col>id1</th><th scope=col>id2</th></tr>\n",
       "\t<tr><th scope=col>&lt;dbl&gt;</th><th scope=col>&lt;chr&gt;</th><th scope=col>&lt;lgl&gt;</th><th scope=col>&lt;int&gt;</th><th scope=col>&lt;int&gt;</th></tr>\n",
       "</thead>\n",
       "<tbody>\n",
       "\t<tr><td>67</td><td>student 1</td><td> TRUE</td><td>1</td><td>1</td></tr>\n",
       "\t<tr><td>56</td><td>student 2</td><td>FALSE</td><td>2</td><td>2</td></tr>\n",
       "\t<tr><td>87</td><td>student 3</td><td> TRUE</td><td>3</td><td>3</td></tr>\n",
       "\t<tr><td>91</td><td>student 4</td><td> TRUE</td><td>4</td><td>4</td></tr>\n",
       "</tbody>\n",
       "</table>\n"
      ],
      "text/latex": [
       "A data.frame: 4 × 5\n",
       "\\begin{tabular}{r|lllll}\n",
       " score & student.no & pass & id1 & id2\\\\\n",
       " <dbl> & <chr> & <lgl> & <int> & <int>\\\\\n",
       "\\hline\n",
       "\t 67 & student 1 &  TRUE & 1 & 1\\\\\n",
       "\t 56 & student 2 & FALSE & 2 & 2\\\\\n",
       "\t 87 & student 3 &  TRUE & 3 & 3\\\\\n",
       "\t 91 & student 4 &  TRUE & 4 & 4\\\\\n",
       "\\end{tabular}\n"
      ],
      "text/markdown": [
       "\n",
       "A data.frame: 4 × 5\n",
       "\n",
       "| score &lt;dbl&gt; | student.no &lt;chr&gt; | pass &lt;lgl&gt; | id1 &lt;int&gt; | id2 &lt;int&gt; |\n",
       "|---|---|---|---|---|\n",
       "| 67 | student 1 |  TRUE | 1 | 1 |\n",
       "| 56 | student 2 | FALSE | 2 | 2 |\n",
       "| 87 | student 3 |  TRUE | 3 | 3 |\n",
       "| 91 | student 4 |  TRUE | 4 | 4 |\n",
       "\n"
      ],
      "text/plain": [
       "  score student.no pass  id1 id2\n",
       "1 67    student 1   TRUE 1   1  \n",
       "2 56    student 2  FALSE 2   2  \n",
       "3 87    student 3   TRUE 3   3  \n",
       "4 91    student 4   TRUE 4   4  "
      ]
     },
     "metadata": {},
     "output_type": "display_data"
    }
   ],
   "source": [
    "# Option 2\n",
    "df.copy <- data.frame(df.copy, id2 = 1:4)\n",
    "df.copy"
   ]
  },
  {
   "cell_type": "code",
   "execution_count": 39,
   "metadata": {},
   "outputs": [
    {
     "data": {
      "text/html": [
       "<table>\n",
       "<caption>A data.frame: 4 × 6</caption>\n",
       "<thead>\n",
       "\t<tr><th scope=col>score</th><th scope=col>student.no</th><th scope=col>pass</th><th scope=col>id1</th><th scope=col>id2</th><th scope=col>id3</th></tr>\n",
       "\t<tr><th scope=col>&lt;dbl&gt;</th><th scope=col>&lt;chr&gt;</th><th scope=col>&lt;lgl&gt;</th><th scope=col>&lt;int&gt;</th><th scope=col>&lt;int&gt;</th><th scope=col>&lt;int&gt;</th></tr>\n",
       "</thead>\n",
       "<tbody>\n",
       "\t<tr><td>67</td><td>student 1</td><td> TRUE</td><td>1</td><td>1</td><td>1</td></tr>\n",
       "\t<tr><td>56</td><td>student 2</td><td>FALSE</td><td>2</td><td>2</td><td>2</td></tr>\n",
       "\t<tr><td>87</td><td>student 3</td><td> TRUE</td><td>3</td><td>3</td><td>3</td></tr>\n",
       "\t<tr><td>91</td><td>student 4</td><td> TRUE</td><td>4</td><td>4</td><td>4</td></tr>\n",
       "</tbody>\n",
       "</table>\n"
      ],
      "text/latex": [
       "A data.frame: 4 × 6\n",
       "\\begin{tabular}{r|llllll}\n",
       " score & student.no & pass & id1 & id2 & id3\\\\\n",
       " <dbl> & <chr> & <lgl> & <int> & <int> & <int>\\\\\n",
       "\\hline\n",
       "\t 67 & student 1 &  TRUE & 1 & 1 & 1\\\\\n",
       "\t 56 & student 2 & FALSE & 2 & 2 & 2\\\\\n",
       "\t 87 & student 3 &  TRUE & 3 & 3 & 3\\\\\n",
       "\t 91 & student 4 &  TRUE & 4 & 4 & 4\\\\\n",
       "\\end{tabular}\n"
      ],
      "text/markdown": [
       "\n",
       "A data.frame: 4 × 6\n",
       "\n",
       "| score &lt;dbl&gt; | student.no &lt;chr&gt; | pass &lt;lgl&gt; | id1 &lt;int&gt; | id2 &lt;int&gt; | id3 &lt;int&gt; |\n",
       "|---|---|---|---|---|---|\n",
       "| 67 | student 1 |  TRUE | 1 | 1 | 1 |\n",
       "| 56 | student 2 | FALSE | 2 | 2 | 2 |\n",
       "| 87 | student 3 |  TRUE | 3 | 3 | 3 |\n",
       "| 91 | student 4 |  TRUE | 4 | 4 | 4 |\n",
       "\n"
      ],
      "text/plain": [
       "  score student.no pass  id1 id2 id3\n",
       "1 67    student 1   TRUE 1   1   1  \n",
       "2 56    student 2  FALSE 2   2   2  \n",
       "3 87    student 3   TRUE 3   3   3  \n",
       "4 91    student 4   TRUE 4   4   4  "
      ]
     },
     "metadata": {},
     "output_type": "display_data"
    }
   ],
   "source": [
    "# Option 3\n",
    "id3 <- 1:4\n",
    "cbind(df.copy, id3)"
   ]
  },
  {
   "cell_type": "markdown",
   "metadata": {},
   "source": [
    "##### Easily extend to adding multiple columns.\n",
    "### 5.2.3 Merge data frames\n",
    "Can be very useful when we link databases. For example,\n",
    "1. Database 1 is the electronic health record.\n",
    "2. Database 2 is the claims data for prescription drugs.\n",
    "\n",
    "We can merge two databases using the unique patient ID."
   ]
  },
  {
   "cell_type": "code",
   "execution_count": 40,
   "metadata": {},
   "outputs": [
    {
     "data": {
      "text/html": [
       "<table>\n",
       "<caption>A data.frame: 4 × 4</caption>\n",
       "<thead>\n",
       "\t<tr><th scope=col>names</th><th scope=col>score</th><th scope=col>student.no</th><th scope=col>pass</th></tr>\n",
       "\t<tr><th scope=col>&lt;fct&gt;</th><th scope=col>&lt;dbl&gt;</th><th scope=col>&lt;chr&gt;</th><th scope=col>&lt;lgl&gt;</th></tr>\n",
       "</thead>\n",
       "<tbody>\n",
       "\t<tr><td>Lucy </td><td>67</td><td>student 1</td><td> TRUE</td></tr>\n",
       "\t<tr><td>John </td><td>56</td><td>student 2</td><td>FALSE</td></tr>\n",
       "\t<tr><td>Mark </td><td>87</td><td>student 3</td><td> TRUE</td></tr>\n",
       "\t<tr><td>Candy</td><td>91</td><td>student 4</td><td> TRUE</td></tr>\n",
       "</tbody>\n",
       "</table>\n"
      ],
      "text/latex": [
       "A data.frame: 4 × 4\n",
       "\\begin{tabular}{r|llll}\n",
       " names & score & student.no & pass\\\\\n",
       " <fct> & <dbl> & <chr> & <lgl>\\\\\n",
       "\\hline\n",
       "\t Lucy  & 67 & student 1 &  TRUE\\\\\n",
       "\t John  & 56 & student 2 & FALSE\\\\\n",
       "\t Mark  & 87 & student 3 &  TRUE\\\\\n",
       "\t Candy & 91 & student 4 &  TRUE\\\\\n",
       "\\end{tabular}\n"
      ],
      "text/markdown": [
       "\n",
       "A data.frame: 4 × 4\n",
       "\n",
       "| names &lt;fct&gt; | score &lt;dbl&gt; | student.no &lt;chr&gt; | pass &lt;lgl&gt; |\n",
       "|---|---|---|---|\n",
       "| Lucy  | 67 | student 1 |  TRUE |\n",
       "| John  | 56 | student 2 | FALSE |\n",
       "| Mark  | 87 | student 3 |  TRUE |\n",
       "| Candy | 91 | student 4 |  TRUE |\n",
       "\n"
      ],
      "text/plain": [
       "  names score student.no pass \n",
       "1 Lucy  67    student 1   TRUE\n",
       "2 John  56    student 2  FALSE\n",
       "3 Mark  87    student 3   TRUE\n",
       "4 Candy 91    student 4   TRUE"
      ]
     },
     "metadata": {},
     "output_type": "display_data"
    }
   ],
   "source": [
    "# df stores student's EPIB 613 score\n",
    "df"
   ]
  },
  {
   "cell_type": "code",
   "execution_count": 41,
   "metadata": {},
   "outputs": [
    {
     "data": {
      "text/html": [
       "<table>\n",
       "<caption>A data.frame: 6 × 2</caption>\n",
       "<thead>\n",
       "\t<tr><th scope=col>student.no</th><th scope=col>major</th></tr>\n",
       "\t<tr><th scope=col>&lt;fct&gt;</th><th scope=col>&lt;fct&gt;</th></tr>\n",
       "</thead>\n",
       "<tbody>\n",
       "\t<tr><td>student 1</td><td>MSc PH     </td></tr>\n",
       "\t<tr><td>student 2</td><td>PhD Epi    </td></tr>\n",
       "\t<tr><td>student 3</td><td>MSc Epi    </td></tr>\n",
       "\t<tr><td>student 4</td><td>MSc PH     </td></tr>\n",
       "\t<tr><td>student 5</td><td>PhD Biostat</td></tr>\n",
       "\t<tr><td>student 6</td><td>MSc Biostat</td></tr>\n",
       "</tbody>\n",
       "</table>\n"
      ],
      "text/latex": [
       "A data.frame: 6 × 2\n",
       "\\begin{tabular}{r|ll}\n",
       " student.no & major\\\\\n",
       " <fct> & <fct>\\\\\n",
       "\\hline\n",
       "\t student 1 & MSc PH     \\\\\n",
       "\t student 2 & PhD Epi    \\\\\n",
       "\t student 3 & MSc Epi    \\\\\n",
       "\t student 4 & MSc PH     \\\\\n",
       "\t student 5 & PhD Biostat\\\\\n",
       "\t student 6 & MSc Biostat\\\\\n",
       "\\end{tabular}\n"
      ],
      "text/markdown": [
       "\n",
       "A data.frame: 6 × 2\n",
       "\n",
       "| student.no &lt;fct&gt; | major &lt;fct&gt; |\n",
       "|---|---|\n",
       "| student 1 | MSc PH      |\n",
       "| student 2 | PhD Epi     |\n",
       "| student 3 | MSc Epi     |\n",
       "| student 4 | MSc PH      |\n",
       "| student 5 | PhD Biostat |\n",
       "| student 6 | MSc Biostat |\n",
       "\n"
      ],
      "text/plain": [
       "  student.no major      \n",
       "1 student 1  MSc PH     \n",
       "2 student 2  PhD Epi    \n",
       "3 student 3  MSc Epi    \n",
       "4 student 4  MSc PH     \n",
       "5 student 5  PhD Biostat\n",
       "6 student 6  MSc Biostat"
      ]
     },
     "metadata": {},
     "output_type": "display_data"
    }
   ],
   "source": [
    "# df.major stores student's program of study\n",
    "df.major <- data.frame(student.no = c(\"student 1\", \"student 2\", \"student 3\", \"student 4\", \"student 5\", \"student 6\"),\n",
    "                       major = c(\"MSc PH\", \"PhD Epi\", \"MSc Epi\", \"MSc PH\", \"PhD Biostat\", \"MSc Biostat\"))\n",
    "df.major"
   ]
  },
  {
   "cell_type": "code",
   "execution_count": 42,
   "metadata": {},
   "outputs": [
    {
     "data": {
      "text/html": [
       "<table>\n",
       "<caption>A data.frame: 6 × 5</caption>\n",
       "<thead>\n",
       "\t<tr><th scope=col>student.no</th><th scope=col>names</th><th scope=col>score</th><th scope=col>pass</th><th scope=col>major</th></tr>\n",
       "\t<tr><th scope=col>&lt;chr&gt;</th><th scope=col>&lt;fct&gt;</th><th scope=col>&lt;dbl&gt;</th><th scope=col>&lt;lgl&gt;</th><th scope=col>&lt;fct&gt;</th></tr>\n",
       "</thead>\n",
       "<tbody>\n",
       "\t<tr><td>student 1</td><td>Lucy </td><td>67</td><td> TRUE</td><td>MSc PH     </td></tr>\n",
       "\t<tr><td>student 2</td><td>John </td><td>56</td><td>FALSE</td><td>PhD Epi    </td></tr>\n",
       "\t<tr><td>student 3</td><td>Mark </td><td>87</td><td> TRUE</td><td>MSc Epi    </td></tr>\n",
       "\t<tr><td>student 4</td><td>Candy</td><td>91</td><td> TRUE</td><td>MSc PH     </td></tr>\n",
       "\t<tr><td>student 5</td><td>NA   </td><td>NA</td><td>   NA</td><td>PhD Biostat</td></tr>\n",
       "\t<tr><td>student 6</td><td>NA   </td><td>NA</td><td>   NA</td><td>MSc Biostat</td></tr>\n",
       "</tbody>\n",
       "</table>\n"
      ],
      "text/latex": [
       "A data.frame: 6 × 5\n",
       "\\begin{tabular}{r|lllll}\n",
       " student.no & names & score & pass & major\\\\\n",
       " <chr> & <fct> & <dbl> & <lgl> & <fct>\\\\\n",
       "\\hline\n",
       "\t student 1 & Lucy  & 67 &  TRUE & MSc PH     \\\\\n",
       "\t student 2 & John  & 56 & FALSE & PhD Epi    \\\\\n",
       "\t student 3 & Mark  & 87 &  TRUE & MSc Epi    \\\\\n",
       "\t student 4 & Candy & 91 &  TRUE & MSc PH     \\\\\n",
       "\t student 5 & NA    & NA &    NA & PhD Biostat\\\\\n",
       "\t student 6 & NA    & NA &    NA & MSc Biostat\\\\\n",
       "\\end{tabular}\n"
      ],
      "text/markdown": [
       "\n",
       "A data.frame: 6 × 5\n",
       "\n",
       "| student.no &lt;chr&gt; | names &lt;fct&gt; | score &lt;dbl&gt; | pass &lt;lgl&gt; | major &lt;fct&gt; |\n",
       "|---|---|---|---|---|\n",
       "| student 1 | Lucy  | 67 |  TRUE | MSc PH      |\n",
       "| student 2 | John  | 56 | FALSE | PhD Epi     |\n",
       "| student 3 | Mark  | 87 |  TRUE | MSc Epi     |\n",
       "| student 4 | Candy | 91 |  TRUE | MSc PH      |\n",
       "| student 5 | NA    | NA |    NA | PhD Biostat |\n",
       "| student 6 | NA    | NA |    NA | MSc Biostat |\n",
       "\n"
      ],
      "text/plain": [
       "  student.no names score pass  major      \n",
       "1 student 1  Lucy  67     TRUE MSc PH     \n",
       "2 student 2  John  56    FALSE PhD Epi    \n",
       "3 student 3  Mark  87     TRUE MSc Epi    \n",
       "4 student 4  Candy 91     TRUE MSc PH     \n",
       "5 student 5  NA    NA       NA PhD Biostat\n",
       "6 student 6  NA    NA       NA MSc Biostat"
      ]
     },
     "metadata": {},
     "output_type": "display_data"
    }
   ],
   "source": [
    "# See what does the argument 'all' do.\n",
    "df.full <- merge(df, df.major, by = \"student.no\", all = TRUE)\n",
    "df.full"
   ]
  },
  {
   "cell_type": "markdown",
   "metadata": {},
   "source": [
    "## 5.3 aggregate( )\n",
    "- Very very very useful function!\n",
    "- It does conditional operations.\n",
    "    - that requires subsetting when you don't know aggregate( )\n",
    "\n",
    "##### I need a big and complex dataset."
   ]
  },
  {
   "cell_type": "code",
   "execution_count": 43,
   "metadata": {},
   "outputs": [
    {
     "data": {
      "text/html": [
       "<table>\n",
       "<caption>A data.frame: 10 × 4</caption>\n",
       "<thead>\n",
       "\t<tr><th scope=col>drug</th><th scope=col>obesity</th><th scope=col>age</th><th scope=col>cured</th></tr>\n",
       "\t<tr><th scope=col>&lt;dbl&gt;</th><th scope=col>&lt;dbl&gt;</th><th scope=col>&lt;dbl&gt;</th><th scope=col>&lt;int&gt;</th></tr>\n",
       "</thead>\n",
       "<tbody>\n",
       "\t<tr><td>1</td><td>1</td><td>53</td><td>1</td></tr>\n",
       "\t<tr><td>1</td><td>1</td><td>44</td><td>1</td></tr>\n",
       "\t<tr><td>0</td><td>1</td><td>61</td><td>1</td></tr>\n",
       "\t<tr><td>1</td><td>0</td><td>41</td><td>1</td></tr>\n",
       "\t<tr><td>0</td><td>0</td><td>49</td><td>0</td></tr>\n",
       "\t<tr><td>1</td><td>1</td><td>54</td><td>1</td></tr>\n",
       "\t<tr><td>0</td><td>1</td><td>51</td><td>0</td></tr>\n",
       "\t<tr><td>1</td><td>1</td><td>53</td><td>0</td></tr>\n",
       "\t<tr><td>0</td><td>1</td><td>70</td><td>0</td></tr>\n",
       "\t<tr><td>0</td><td>1</td><td>54</td><td>1</td></tr>\n",
       "</tbody>\n",
       "</table>\n"
      ],
      "text/latex": [
       "A data.frame: 10 × 4\n",
       "\\begin{tabular}{r|llll}\n",
       " drug & obesity & age & cured\\\\\n",
       " <dbl> & <dbl> & <dbl> & <int>\\\\\n",
       "\\hline\n",
       "\t 1 & 1 & 53 & 1\\\\\n",
       "\t 1 & 1 & 44 & 1\\\\\n",
       "\t 0 & 1 & 61 & 1\\\\\n",
       "\t 1 & 0 & 41 & 1\\\\\n",
       "\t 0 & 0 & 49 & 0\\\\\n",
       "\t 1 & 1 & 54 & 1\\\\\n",
       "\t 0 & 1 & 51 & 0\\\\\n",
       "\t 1 & 1 & 53 & 0\\\\\n",
       "\t 0 & 1 & 70 & 0\\\\\n",
       "\t 0 & 1 & 54 & 1\\\\\n",
       "\\end{tabular}\n"
      ],
      "text/markdown": [
       "\n",
       "A data.frame: 10 × 4\n",
       "\n",
       "| drug &lt;dbl&gt; | obesity &lt;dbl&gt; | age &lt;dbl&gt; | cured &lt;int&gt; |\n",
       "|---|---|---|---|\n",
       "| 1 | 1 | 53 | 1 |\n",
       "| 1 | 1 | 44 | 1 |\n",
       "| 0 | 1 | 61 | 1 |\n",
       "| 1 | 0 | 41 | 1 |\n",
       "| 0 | 0 | 49 | 0 |\n",
       "| 1 | 1 | 54 | 1 |\n",
       "| 0 | 1 | 51 | 0 |\n",
       "| 1 | 1 | 53 | 0 |\n",
       "| 0 | 1 | 70 | 0 |\n",
       "| 0 | 1 | 54 | 1 |\n",
       "\n"
      ],
      "text/plain": [
       "   drug obesity age cured\n",
       "1  1    1       53  1    \n",
       "2  1    1       44  1    \n",
       "3  0    1       61  1    \n",
       "4  1    0       41  1    \n",
       "5  0    0       49  0    \n",
       "6  1    1       54  1    \n",
       "7  0    1       51  0    \n",
       "8  1    1       53  0    \n",
       "9  0    1       70  0    \n",
       "10 0    1       54  1    "
      ]
     },
     "metadata": {},
     "output_type": "display_data"
    }
   ],
   "source": [
    "# Some simple simulation\n",
    "# People who take the drug, that are obese and that are younger are more likely to be cured.\n",
    "# Setting seeds make random number generation reproducible.\n",
    "set.seed(613)\n",
    "n <- 100\n",
    "drug <- sample(c(0, 1), size = n, replace = TRUE, prob = c(0.8, 0.2))\n",
    "obesity <- sample(c(0, 1), size = n, replace = TRUE, prob = c(0.5, 0.5))\n",
    "age <- round(rnorm(n, mean = 60, sd = 10))\n",
    "logit.p <- log(1.8)*drug + log(0.85)*(age - 60) + log(1.2)*obesity + log(0.2)\n",
    "p <- exp(logit.p)/(1 + exp(logit.p))\n",
    "cured <- rbinom(n, size = 1, prob = p)\n",
    "sim <- data.frame(drug, obesity, age, cured)\n",
    "head(sim, 10)"
   ]
  },
  {
   "cell_type": "code",
   "execution_count": 44,
   "metadata": {
    "scrolled": true
   },
   "outputs": [
    {
     "data": {
      "text/plain": [
       "    cured\n",
       "drug  0  1\n",
       "   0 47 23\n",
       "   1 18 12"
      ]
     },
     "metadata": {},
     "output_type": "display_data"
    }
   ],
   "source": [
    "# Tabulate exposure and outcome\n",
    "table(sim[, c(\"drug\", \"cured\")])\n",
    "# ~30% among unexposed to the drug are cured\n",
    "# 40% among exposed are cured"
   ]
  },
  {
   "cell_type": "markdown",
   "metadata": {},
   "source": [
    "#### Quick exercise: calculate the mean age of the exposed group and the unexposed group"
   ]
  },
  {
   "cell_type": "code",
   "execution_count": 45,
   "metadata": {
    "scrolled": true
   },
   "outputs": [
    {
     "data": {
      "text/html": [
       "<table>\n",
       "<caption>A data.frame: 6 × 4</caption>\n",
       "<thead>\n",
       "\t<tr><th></th><th scope=col>drug</th><th scope=col>obesity</th><th scope=col>age</th><th scope=col>cured</th></tr>\n",
       "\t<tr><th></th><th scope=col>&lt;dbl&gt;</th><th scope=col>&lt;dbl&gt;</th><th scope=col>&lt;dbl&gt;</th><th scope=col>&lt;int&gt;</th></tr>\n",
       "</thead>\n",
       "<tbody>\n",
       "\t<tr><th scope=row>1</th><td>1</td><td>1</td><td>53</td><td>1</td></tr>\n",
       "\t<tr><th scope=row>2</th><td>1</td><td>1</td><td>44</td><td>1</td></tr>\n",
       "\t<tr><th scope=row>4</th><td>1</td><td>0</td><td>41</td><td>1</td></tr>\n",
       "\t<tr><th scope=row>6</th><td>1</td><td>1</td><td>54</td><td>1</td></tr>\n",
       "\t<tr><th scope=row>8</th><td>1</td><td>1</td><td>53</td><td>0</td></tr>\n",
       "\t<tr><th scope=row>21</th><td>1</td><td>0</td><td>69</td><td>0</td></tr>\n",
       "</tbody>\n",
       "</table>\n"
      ],
      "text/latex": [
       "A data.frame: 6 × 4\n",
       "\\begin{tabular}{r|llll}\n",
       "  & drug & obesity & age & cured\\\\\n",
       "  & <dbl> & <dbl> & <dbl> & <int>\\\\\n",
       "\\hline\n",
       "\t1 & 1 & 1 & 53 & 1\\\\\n",
       "\t2 & 1 & 1 & 44 & 1\\\\\n",
       "\t4 & 1 & 0 & 41 & 1\\\\\n",
       "\t6 & 1 & 1 & 54 & 1\\\\\n",
       "\t8 & 1 & 1 & 53 & 0\\\\\n",
       "\t21 & 1 & 0 & 69 & 0\\\\\n",
       "\\end{tabular}\n"
      ],
      "text/markdown": [
       "\n",
       "A data.frame: 6 × 4\n",
       "\n",
       "| <!--/--> | drug &lt;dbl&gt; | obesity &lt;dbl&gt; | age &lt;dbl&gt; | cured &lt;int&gt; |\n",
       "|---|---|---|---|---|\n",
       "| 1 | 1 | 1 | 53 | 1 |\n",
       "| 2 | 1 | 1 | 44 | 1 |\n",
       "| 4 | 1 | 0 | 41 | 1 |\n",
       "| 6 | 1 | 1 | 54 | 1 |\n",
       "| 8 | 1 | 1 | 53 | 0 |\n",
       "| 21 | 1 | 0 | 69 | 0 |\n",
       "\n"
      ],
      "text/plain": [
       "   drug obesity age cured\n",
       "1  1    1       53  1    \n",
       "2  1    1       44  1    \n",
       "4  1    0       41  1    \n",
       "6  1    1       54  1    \n",
       "8  1    1       53  0    \n",
       "21 1    0       69  0    "
      ]
     },
     "metadata": {},
     "output_type": "display_data"
    },
    {
     "data": {
      "text/html": [
       "61.0333333333333"
      ],
      "text/latex": [
       "61.0333333333333"
      ],
      "text/markdown": [
       "61.0333333333333"
      ],
      "text/plain": [
       "[1] 61.03333"
      ]
     },
     "metadata": {},
     "output_type": "display_data"
    }
   ],
   "source": [
    "exposed.group <- sim[sim$drug == 1, ]\n",
    "head(exposed.group)\n",
    "mean(exposed.group$age)"
   ]
  },
  {
   "cell_type": "code",
   "execution_count": 46,
   "metadata": {},
   "outputs": [
    {
     "data": {
      "text/html": [
       "61.0333333333333"
      ],
      "text/latex": [
       "61.0333333333333"
      ],
      "text/markdown": [
       "61.0333333333333"
      ],
      "text/plain": [
       "[1] 61.03333"
      ]
     },
     "metadata": {},
     "output_type": "display_data"
    }
   ],
   "source": [
    "exposed.group1 <- subset(x = sim, subset = (drug == 1))\n",
    "mean(exposed.group1$age)"
   ]
  },
  {
   "cell_type": "code",
   "execution_count": 47,
   "metadata": {},
   "outputs": [
    {
     "data": {
      "text/html": [
       "61.0333333333333"
      ],
      "text/latex": [
       "61.0333333333333"
      ],
      "text/markdown": [
       "61.0333333333333"
      ],
      "text/plain": [
       "[1] 61.03333"
      ]
     },
     "metadata": {},
     "output_type": "display_data"
    }
   ],
   "source": [
    "mean(subset(x = sim, subset = (drug == 1))$age)"
   ]
  },
  {
   "cell_type": "code",
   "execution_count": 48,
   "metadata": {},
   "outputs": [
    {
     "data": {
      "text/html": [
       "61.0333333333333"
      ],
      "text/latex": [
       "61.0333333333333"
      ],
      "text/markdown": [
       "61.0333333333333"
      ],
      "text/plain": [
       "[1] 61.03333"
      ]
     },
     "metadata": {},
     "output_type": "display_data"
    }
   ],
   "source": [
    "mean(subset(x = sim, subset = (drug == 1), select = age, drop = T))"
   ]
  },
  {
   "cell_type": "markdown",
   "metadata": {},
   "source": [
    "##### Survey\n",
    "- $ and [ , ]   2\n",
    "- subset( )   7\n",
    "- <tt>dplyr</tt>  "
   ]
  },
  {
   "cell_type": "markdown",
   "metadata": {},
   "source": [
    "##### aggregate( ) allows us to aggregate subgroups of the data frame by conditions and then apply a function to all the subgroups.\n",
    "    aggregate(x, by, FUN, ...)"
   ]
  },
  {
   "cell_type": "code",
   "execution_count": 49,
   "metadata": {},
   "outputs": [
    {
     "data": {
      "text/html": [
       "<table>\n",
       "<caption>A data.frame: 2 × 2</caption>\n",
       "<thead>\n",
       "\t<tr><th scope=col>drug.justaname</th><th scope=col>x</th></tr>\n",
       "\t<tr><th scope=col>&lt;dbl&gt;</th><th scope=col>&lt;dbl&gt;</th></tr>\n",
       "</thead>\n",
       "<tbody>\n",
       "\t<tr><td>0</td><td>59.58571</td></tr>\n",
       "\t<tr><td>1</td><td>61.03333</td></tr>\n",
       "</tbody>\n",
       "</table>\n"
      ],
      "text/latex": [
       "A data.frame: 2 × 2\n",
       "\\begin{tabular}{r|ll}\n",
       " drug.justaname & x\\\\\n",
       " <dbl> & <dbl>\\\\\n",
       "\\hline\n",
       "\t 0 & 59.58571\\\\\n",
       "\t 1 & 61.03333\\\\\n",
       "\\end{tabular}\n"
      ],
      "text/markdown": [
       "\n",
       "A data.frame: 2 × 2\n",
       "\n",
       "| drug.justaname &lt;dbl&gt; | x &lt;dbl&gt; |\n",
       "|---|---|\n",
       "| 0 | 59.58571 |\n",
       "| 1 | 61.03333 |\n",
       "\n"
      ],
      "text/plain": [
       "  drug.justaname x       \n",
       "1 0              59.58571\n",
       "2 1              61.03333"
      ]
     },
     "metadata": {},
     "output_type": "display_data"
    }
   ],
   "source": [
    "# Syntax 1\n",
    "aggregate(x = sim$age, by = list(drug.justaname = sim$drug), FUN = mean)"
   ]
  },
  {
   "cell_type": "code",
   "execution_count": 50,
   "metadata": {
    "scrolled": true
   },
   "outputs": [
    {
     "data": {
      "text/html": [
       "<table>\n",
       "<caption>A data.frame: 2 × 2</caption>\n",
       "<thead>\n",
       "\t<tr><th scope=col>drug</th><th scope=col>age</th></tr>\n",
       "\t<tr><th scope=col>&lt;dbl&gt;</th><th scope=col>&lt;dbl&gt;</th></tr>\n",
       "</thead>\n",
       "<tbody>\n",
       "\t<tr><td>0</td><td>59.58571</td></tr>\n",
       "\t<tr><td>1</td><td>61.03333</td></tr>\n",
       "</tbody>\n",
       "</table>\n"
      ],
      "text/latex": [
       "A data.frame: 2 × 2\n",
       "\\begin{tabular}{r|ll}\n",
       " drug & age\\\\\n",
       " <dbl> & <dbl>\\\\\n",
       "\\hline\n",
       "\t 0 & 59.58571\\\\\n",
       "\t 1 & 61.03333\\\\\n",
       "\\end{tabular}\n"
      ],
      "text/markdown": [
       "\n",
       "A data.frame: 2 × 2\n",
       "\n",
       "| drug &lt;dbl&gt; | age &lt;dbl&gt; |\n",
       "|---|---|\n",
       "| 0 | 59.58571 |\n",
       "| 1 | 61.03333 |\n",
       "\n"
      ],
      "text/plain": [
       "  drug age     \n",
       "1 0    59.58571\n",
       "2 1    61.03333"
      ]
     },
     "metadata": {},
     "output_type": "display_data"
    }
   ],
   "source": [
    "# Alternative syntax\n",
    "# I highly recommend this one\n",
    "aggregate(age~drug, data = sim, FUN = mean)"
   ]
  },
  {
   "cell_type": "code",
   "execution_count": 51,
   "metadata": {},
   "outputs": [
    {
     "data": {
      "text/html": [
       "<table>\n",
       "<caption>A data.frame: 4 × 3</caption>\n",
       "<thead>\n",
       "\t<tr><th scope=col>drug</th><th scope=col>obesity</th><th scope=col>x</th></tr>\n",
       "\t<tr><th scope=col>&lt;dbl&gt;</th><th scope=col>&lt;dbl&gt;</th><th scope=col>&lt;dbl&gt;</th></tr>\n",
       "</thead>\n",
       "<tbody>\n",
       "\t<tr><td>0</td><td>0</td><td>59.17500</td></tr>\n",
       "\t<tr><td>1</td><td>0</td><td>61.53333</td></tr>\n",
       "\t<tr><td>0</td><td>1</td><td>60.13333</td></tr>\n",
       "\t<tr><td>1</td><td>1</td><td>60.53333</td></tr>\n",
       "</tbody>\n",
       "</table>\n"
      ],
      "text/latex": [
       "A data.frame: 4 × 3\n",
       "\\begin{tabular}{r|lll}\n",
       " drug & obesity & x\\\\\n",
       " <dbl> & <dbl> & <dbl>\\\\\n",
       "\\hline\n",
       "\t 0 & 0 & 59.17500\\\\\n",
       "\t 1 & 0 & 61.53333\\\\\n",
       "\t 0 & 1 & 60.13333\\\\\n",
       "\t 1 & 1 & 60.53333\\\\\n",
       "\\end{tabular}\n"
      ],
      "text/markdown": [
       "\n",
       "A data.frame: 4 × 3\n",
       "\n",
       "| drug &lt;dbl&gt; | obesity &lt;dbl&gt; | x &lt;dbl&gt; |\n",
       "|---|---|---|\n",
       "| 0 | 0 | 59.17500 |\n",
       "| 1 | 0 | 61.53333 |\n",
       "| 0 | 1 | 60.13333 |\n",
       "| 1 | 1 | 60.53333 |\n",
       "\n"
      ],
      "text/plain": [
       "  drug obesity x       \n",
       "1 0    0       59.17500\n",
       "2 1    0       61.53333\n",
       "3 0    1       60.13333\n",
       "4 1    1       60.53333"
      ]
     },
     "metadata": {},
     "output_type": "display_data"
    }
   ],
   "source": [
    "# Mean age by exposure-obesity group, so 2 binary conditions and 4 subgroups\n",
    "aggregate(x = sim$age, by = list(drug = sim$drug, obesity = sim$obesity), FUN = mean)"
   ]
  },
  {
   "cell_type": "code",
   "execution_count": 52,
   "metadata": {
    "scrolled": true
   },
   "outputs": [
    {
     "data": {
      "text/html": [
       "<table>\n",
       "<caption>A data.frame: 4 × 3</caption>\n",
       "<thead>\n",
       "\t<tr><th scope=col>drug</th><th scope=col>obesity</th><th scope=col>age</th></tr>\n",
       "\t<tr><th scope=col>&lt;dbl&gt;</th><th scope=col>&lt;dbl&gt;</th><th scope=col>&lt;dbl&gt;</th></tr>\n",
       "</thead>\n",
       "<tbody>\n",
       "\t<tr><td>0</td><td>0</td><td>59.17500</td></tr>\n",
       "\t<tr><td>1</td><td>0</td><td>61.53333</td></tr>\n",
       "\t<tr><td>0</td><td>1</td><td>60.13333</td></tr>\n",
       "\t<tr><td>1</td><td>1</td><td>60.53333</td></tr>\n",
       "</tbody>\n",
       "</table>\n"
      ],
      "text/latex": [
       "A data.frame: 4 × 3\n",
       "\\begin{tabular}{r|lll}\n",
       " drug & obesity & age\\\\\n",
       " <dbl> & <dbl> & <dbl>\\\\\n",
       "\\hline\n",
       "\t 0 & 0 & 59.17500\\\\\n",
       "\t 1 & 0 & 61.53333\\\\\n",
       "\t 0 & 1 & 60.13333\\\\\n",
       "\t 1 & 1 & 60.53333\\\\\n",
       "\\end{tabular}\n"
      ],
      "text/markdown": [
       "\n",
       "A data.frame: 4 × 3\n",
       "\n",
       "| drug &lt;dbl&gt; | obesity &lt;dbl&gt; | age &lt;dbl&gt; |\n",
       "|---|---|---|\n",
       "| 0 | 0 | 59.17500 |\n",
       "| 1 | 0 | 61.53333 |\n",
       "| 0 | 1 | 60.13333 |\n",
       "| 1 | 1 | 60.53333 |\n",
       "\n"
      ],
      "text/plain": [
       "  drug obesity age     \n",
       "1 0    0       59.17500\n",
       "2 1    0       61.53333\n",
       "3 0    1       60.13333\n",
       "4 1    1       60.53333"
      ]
     },
     "metadata": {},
     "output_type": "display_data"
    }
   ],
   "source": [
    "aggregate(age~drug+obesity, data = sim, FUN = mean)"
   ]
  },
  {
   "cell_type": "code",
   "execution_count": 53,
   "metadata": {
    "scrolled": true
   },
   "outputs": [
    {
     "data": {
      "text/html": [
       "<table>\n",
       "<caption>A data.frame: 4 × 4</caption>\n",
       "<thead>\n",
       "\t<tr><th scope=col>drug</th><th scope=col>obesity</th><th scope=col>V1</th><th scope=col>V2</th></tr>\n",
       "\t<tr><th scope=col>&lt;dbl&gt;</th><th scope=col>&lt;dbl&gt;</th><th scope=col>&lt;dbl&gt;</th><th scope=col>&lt;dbl&gt;</th></tr>\n",
       "</thead>\n",
       "<tbody>\n",
       "\t<tr><td>0</td><td>0</td><td>59.17500</td><td>0.3500000</td></tr>\n",
       "\t<tr><td>1</td><td>0</td><td>61.53333</td><td>0.3333333</td></tr>\n",
       "\t<tr><td>0</td><td>1</td><td>60.13333</td><td>0.3000000</td></tr>\n",
       "\t<tr><td>1</td><td>1</td><td>60.53333</td><td>0.4666667</td></tr>\n",
       "</tbody>\n",
       "</table>\n"
      ],
      "text/latex": [
       "A data.frame: 4 × 4\n",
       "\\begin{tabular}{r|llll}\n",
       " drug & obesity & V1 & V2\\\\\n",
       " <dbl> & <dbl> & <dbl> & <dbl>\\\\\n",
       "\\hline\n",
       "\t 0 & 0 & 59.17500 & 0.3500000\\\\\n",
       "\t 1 & 0 & 61.53333 & 0.3333333\\\\\n",
       "\t 0 & 1 & 60.13333 & 0.3000000\\\\\n",
       "\t 1 & 1 & 60.53333 & 0.4666667\\\\\n",
       "\\end{tabular}\n"
      ],
      "text/markdown": [
       "\n",
       "A data.frame: 4 × 4\n",
       "\n",
       "| drug &lt;dbl&gt; | obesity &lt;dbl&gt; | V1 &lt;dbl&gt; | V2 &lt;dbl&gt; |\n",
       "|---|---|---|---|\n",
       "| 0 | 0 | 59.17500 | 0.3500000 |\n",
       "| 1 | 0 | 61.53333 | 0.3333333 |\n",
       "| 0 | 1 | 60.13333 | 0.3000000 |\n",
       "| 1 | 1 | 60.53333 | 0.4666667 |\n",
       "\n"
      ],
      "text/plain": [
       "  drug obesity V1       V2       \n",
       "1 0    0       59.17500 0.3500000\n",
       "2 1    0       61.53333 0.3333333\n",
       "3 0    1       60.13333 0.3000000\n",
       "4 1    1       60.53333 0.4666667"
      ]
     },
     "metadata": {},
     "output_type": "display_data"
    }
   ],
   "source": [
    "# aggregate() can also take multiple target variables\n",
    "aggregate(x = cbind(sim$age, sim$cured),\n",
    "          by = list(drug = sim$drug, obesity = sim$obesity), FUN = mean)"
   ]
  },
  {
   "cell_type": "code",
   "execution_count": 54,
   "metadata": {},
   "outputs": [
    {
     "data": {
      "text/html": [
       "<table>\n",
       "<caption>A data.frame: 4 × 4</caption>\n",
       "<thead>\n",
       "\t<tr><th scope=col>drug</th><th scope=col>obesity</th><th scope=col>age</th><th scope=col>cured</th></tr>\n",
       "\t<tr><th scope=col>&lt;dbl&gt;</th><th scope=col>&lt;dbl&gt;</th><th scope=col>&lt;dbl&gt;</th><th scope=col>&lt;dbl&gt;</th></tr>\n",
       "</thead>\n",
       "<tbody>\n",
       "\t<tr><td>0</td><td>0</td><td>59.17500</td><td>0.3500000</td></tr>\n",
       "\t<tr><td>1</td><td>0</td><td>61.53333</td><td>0.3333333</td></tr>\n",
       "\t<tr><td>0</td><td>1</td><td>60.13333</td><td>0.3000000</td></tr>\n",
       "\t<tr><td>1</td><td>1</td><td>60.53333</td><td>0.4666667</td></tr>\n",
       "</tbody>\n",
       "</table>\n"
      ],
      "text/latex": [
       "A data.frame: 4 × 4\n",
       "\\begin{tabular}{r|llll}\n",
       " drug & obesity & age & cured\\\\\n",
       " <dbl> & <dbl> & <dbl> & <dbl>\\\\\n",
       "\\hline\n",
       "\t 0 & 0 & 59.17500 & 0.3500000\\\\\n",
       "\t 1 & 0 & 61.53333 & 0.3333333\\\\\n",
       "\t 0 & 1 & 60.13333 & 0.3000000\\\\\n",
       "\t 1 & 1 & 60.53333 & 0.4666667\\\\\n",
       "\\end{tabular}\n"
      ],
      "text/markdown": [
       "\n",
       "A data.frame: 4 × 4\n",
       "\n",
       "| drug &lt;dbl&gt; | obesity &lt;dbl&gt; | age &lt;dbl&gt; | cured &lt;dbl&gt; |\n",
       "|---|---|---|---|\n",
       "| 0 | 0 | 59.17500 | 0.3500000 |\n",
       "| 1 | 0 | 61.53333 | 0.3333333 |\n",
       "| 0 | 1 | 60.13333 | 0.3000000 |\n",
       "| 1 | 1 | 60.53333 | 0.4666667 |\n",
       "\n"
      ],
      "text/plain": [
       "  drug obesity age      cured    \n",
       "1 0    0       59.17500 0.3500000\n",
       "2 1    0       61.53333 0.3333333\n",
       "3 0    1       60.13333 0.3000000\n",
       "4 1    1       60.53333 0.4666667"
      ]
     },
     "metadata": {},
     "output_type": "display_data"
    }
   ],
   "source": [
    "aggregate(cbind(age, cured)~drug+obesity, data = sim, FUN = mean)"
   ]
  },
  {
   "cell_type": "markdown",
   "metadata": {},
   "source": [
    "##### With aggregate( ), we are already doing analysis.\n",
    "#### Exercise: Get the count in each drug-obesity-cured group using aggregate( )"
   ]
  },
  {
   "cell_type": "code",
   "execution_count": 55,
   "metadata": {
    "scrolled": true
   },
   "outputs": [
    {
     "data": {
      "text/plain": [
       ", , cured = 0\n",
       "\n",
       "    obesity\n",
       "drug  0  1\n",
       "   0 26 21\n",
       "   1 10  8\n",
       "\n",
       ", , cured = 1\n",
       "\n",
       "    obesity\n",
       "drug  0  1\n",
       "   0 14  9\n",
       "   1  5  7\n"
      ]
     },
     "metadata": {},
     "output_type": "display_data"
    }
   ],
   "source": [
    "table(sim[, c(\"drug\", \"obesity\", \"cured\")])"
   ]
  },
  {
   "cell_type": "code",
   "execution_count": 56,
   "metadata": {},
   "outputs": [
    {
     "data": {
      "text/html": [
       "<table>\n",
       "<caption>A data.frame: 8 × 4</caption>\n",
       "<thead>\n",
       "\t<tr><th scope=col>drug</th><th scope=col>obesity</th><th scope=col>cured</th><th scope=col>age</th></tr>\n",
       "\t<tr><th scope=col>&lt;dbl&gt;</th><th scope=col>&lt;dbl&gt;</th><th scope=col>&lt;int&gt;</th><th scope=col>&lt;int&gt;</th></tr>\n",
       "</thead>\n",
       "<tbody>\n",
       "\t<tr><td>0</td><td>0</td><td>0</td><td>26</td></tr>\n",
       "\t<tr><td>1</td><td>0</td><td>0</td><td>10</td></tr>\n",
       "\t<tr><td>0</td><td>1</td><td>0</td><td>21</td></tr>\n",
       "\t<tr><td>1</td><td>1</td><td>0</td><td> 8</td></tr>\n",
       "\t<tr><td>0</td><td>0</td><td>1</td><td>14</td></tr>\n",
       "\t<tr><td>1</td><td>0</td><td>1</td><td> 5</td></tr>\n",
       "\t<tr><td>0</td><td>1</td><td>1</td><td> 9</td></tr>\n",
       "\t<tr><td>1</td><td>1</td><td>1</td><td> 7</td></tr>\n",
       "</tbody>\n",
       "</table>\n"
      ],
      "text/latex": [
       "A data.frame: 8 × 4\n",
       "\\begin{tabular}{r|llll}\n",
       " drug & obesity & cured & age\\\\\n",
       " <dbl> & <dbl> & <int> & <int>\\\\\n",
       "\\hline\n",
       "\t 0 & 0 & 0 & 26\\\\\n",
       "\t 1 & 0 & 0 & 10\\\\\n",
       "\t 0 & 1 & 0 & 21\\\\\n",
       "\t 1 & 1 & 0 &  8\\\\\n",
       "\t 0 & 0 & 1 & 14\\\\\n",
       "\t 1 & 0 & 1 &  5\\\\\n",
       "\t 0 & 1 & 1 &  9\\\\\n",
       "\t 1 & 1 & 1 &  7\\\\\n",
       "\\end{tabular}\n"
      ],
      "text/markdown": [
       "\n",
       "A data.frame: 8 × 4\n",
       "\n",
       "| drug &lt;dbl&gt; | obesity &lt;dbl&gt; | cured &lt;int&gt; | age &lt;int&gt; |\n",
       "|---|---|---|---|\n",
       "| 0 | 0 | 0 | 26 |\n",
       "| 1 | 0 | 0 | 10 |\n",
       "| 0 | 1 | 0 | 21 |\n",
       "| 1 | 1 | 0 |  8 |\n",
       "| 0 | 0 | 1 | 14 |\n",
       "| 1 | 0 | 1 |  5 |\n",
       "| 0 | 1 | 1 |  9 |\n",
       "| 1 | 1 | 1 |  7 |\n",
       "\n"
      ],
      "text/plain": [
       "  drug obesity cured age\n",
       "1 0    0       0     26 \n",
       "2 1    0       0     10 \n",
       "3 0    1       0     21 \n",
       "4 1    1       0      8 \n",
       "5 0    0       1     14 \n",
       "6 1    0       1      5 \n",
       "7 0    1       1      9 \n",
       "8 1    1       1      7 "
      ]
     },
     "metadata": {},
     "output_type": "display_data"
    }
   ],
   "source": [
    "aggregate(age~drug+obesity+cured, data = sim, FUN = length)"
   ]
  },
  {
   "cell_type": "code",
   "execution_count": 57,
   "metadata": {},
   "outputs": [
    {
     "name": "stdout",
     "output_type": "stream",
     "text": [
      " [1] 61 49 51 70 54 64 59 73 63 45 65 49 63 68 58 62 49 70 82 59 47 41 64 49 67\n",
      "[26] 65 71 39 57 53 55 54 62 50 44 49 59 55 58 60 56 47 74 51 76 58 46 63 59 69\n",
      "[51] 69 59 66 59 63 54 75 80 75 62 59 74 51 74 69 52 52 51 58 57\n",
      " [1] 53 44 41 54 53 69 81 62 55 77 49 71 76 82 66 68 51 71 54 55 66 65 52 62 70\n",
      "[26] 47 59 57 50 71\n"
     ]
    },
    {
     "data": {
      "text/html": [
       "<table>\n",
       "<caption>A data.frame: 2 × 2</caption>\n",
       "<thead>\n",
       "\t<tr><th scope=col>drug</th><th scope=col>age</th></tr>\n",
       "\t<tr><th scope=col>&lt;dbl&gt;</th><th scope=col>&lt;list&gt;</th></tr>\n",
       "</thead>\n",
       "<tbody>\n",
       "\t<tr><td>0</td><td>61, 49, 51, 70, 54, 64, 59, 73, 63, 45, 65, 49, 63, 68, 58, 62, 49, 70, 82, 59, 47, 41, 64, 49, 67, 65, 71, 39, 57, 53, 55, 54, 62, 50, 44, 49, 59, 55, 58, 60, 56, 47, 74, 51, 76, 58, 46, 63, 59, 69, 69, 59, 66, 59, 63, 54, 75, 80, 75, 62, 59, 74, 51, 74, 69, 52, 52, 51, 58, 57</td></tr>\n",
       "\t<tr><td>1</td><td>53, 44, 41, 54, 53, 69, 81, 62, 55, 77, 49, 71, 76, 82, 66, 68, 51, 71, 54, 55, 66, 65, 52, 62, 70, 47, 59, 57, 50, 71</td></tr>\n",
       "</tbody>\n",
       "</table>\n"
      ],
      "text/latex": [
       "A data.frame: 2 × 2\n",
       "\\begin{tabular}{r|ll}\n",
       " drug & age\\\\\n",
       " <dbl> & <list>\\\\\n",
       "\\hline\n",
       "\t 0 & 61, 49, 51, 70, 54, 64, 59, 73, 63, 45, 65, 49, 63, 68, 58, 62, 49, 70, 82, 59, 47, 41, 64, 49, 67, 65, 71, 39, 57, 53, 55, 54, 62, 50, 44, 49, 59, 55, 58, 60, 56, 47, 74, 51, 76, 58, 46, 63, 59, 69, 69, 59, 66, 59, 63, 54, 75, 80, 75, 62, 59, 74, 51, 74, 69, 52, 52, 51, 58, 57\\\\\n",
       "\t 1 & 53, 44, 41, 54, 53, 69, 81, 62, 55, 77, 49, 71, 76, 82, 66, 68, 51, 71, 54, 55, 66, 65, 52, 62, 70, 47, 59, 57, 50, 71\\\\\n",
       "\\end{tabular}\n"
      ],
      "text/markdown": [
       "\n",
       "A data.frame: 2 × 2\n",
       "\n",
       "| drug &lt;dbl&gt; | age &lt;list&gt; |\n",
       "|---|---|\n",
       "| 0 | 61, 49, 51, 70, 54, 64, 59, 73, 63, 45, 65, 49, 63, 68, 58, 62, 49, 70, 82, 59, 47, 41, 64, 49, 67, 65, 71, 39, 57, 53, 55, 54, 62, 50, 44, 49, 59, 55, 58, 60, 56, 47, 74, 51, 76, 58, 46, 63, 59, 69, 69, 59, 66, 59, 63, 54, 75, 80, 75, 62, 59, 74, 51, 74, 69, 52, 52, 51, 58, 57 |\n",
       "| 1 | 53, 44, 41, 54, 53, 69, 81, 62, 55, 77, 49, 71, 76, 82, 66, 68, 51, 71, 54, 55, 66, 65, 52, 62, 70, 47, 59, 57, 50, 71 |\n",
       "\n"
      ],
      "text/plain": [
       "  drug\n",
       "1 0   \n",
       "2 1   \n",
       "  age                                                                                                                                                                                                                                                                                   \n",
       "1 61, 49, 51, 70, 54, 64, 59, 73, 63, 45, 65, 49, 63, 68, 58, 62, 49, 70, 82, 59, 47, 41, 64, 49, 67, 65, 71, 39, 57, 53, 55, 54, 62, 50, 44, 49, 59, 55, 58, 60, 56, 47, 74, 51, 76, 58, 46, 63, 59, 69, 69, 59, 66, 59, 63, 54, 75, 80, 75, 62, 59, 74, 51, 74, 69, 52, 52, 51, 58, 57\n",
       "2 53, 44, 41, 54, 53, 69, 81, 62, 55, 77, 49, 71, 76, 82, 66, 68, 51, 71, 54, 55, 66, 65, 52, 62, 70, 47, 59, 57, 50, 71                                                                                                                                                                "
      ]
     },
     "metadata": {},
     "output_type": "display_data"
    }
   ],
   "source": [
    "# What aggregate does? Use print() to print out what R aggregates.\n",
    "aggregate(age~drug, data = sim, FUN = print)\n",
    "# aggregate the target variables in to vectors, based on conditions."
   ]
  },
  {
   "cell_type": "code",
   "execution_count": 58,
   "metadata": {},
   "outputs": [
    {
     "data": {
      "text/html": [
       "3"
      ],
      "text/latex": [
       "3"
      ],
      "text/markdown": [
       "3"
      ],
      "text/plain": [
       "[1] 3"
      ]
     },
     "metadata": {},
     "output_type": "display_data"
    }
   ],
   "source": [
    "# length() function gives the length of a vector\n",
    "length(c(1,4,123))"
   ]
  },
  {
   "cell_type": "code",
   "execution_count": null,
   "metadata": {},
   "outputs": [],
   "source": []
  }
 ],
 "metadata": {
  "kernelspec": {
   "display_name": "R",
   "language": "R",
   "name": "ir"
  },
  "language_info": {
   "codemirror_mode": "r",
   "file_extension": ".r",
   "mimetype": "text/x-r-source",
   "name": "R",
   "pygments_lexer": "r",
   "version": "3.6.1"
  }
 },
 "nbformat": 4,
 "nbformat_minor": 2
}
