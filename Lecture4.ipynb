{
 "cells": [
  {
   "cell_type": "markdown",
   "metadata": {},
   "source": [
    "# Lecture 4 Data management: Part I\n",
    "- Control structure\n",
    "- Missing value\n",
    "- Dates\n",
    "- Useful functions\n",
    "- How to write our own functions\n",
    "\n",
    "## 4.1 Control structure\n",
    "See ?Control\n",
    "\n",
    "Avoid using loops in R. I taught a workshop on efficient coding and computing and explaied why. Here is the link: https://github.com/ly129/MiCM\n",
    "### 4.1.1 For loop"
   ]
  },
  {
   "cell_type": "code",
   "execution_count": 1,
   "metadata": {
    "scrolled": true
   },
   "outputs": [
    {
     "data": {
      "text/html": [
       "<table>\n",
       "<caption>A data.frame: 4 × 2</caption>\n",
       "<thead>\n",
       "\t<tr><th scope=col>names</th><th scope=col>score</th></tr>\n",
       "\t<tr><th scope=col>&lt;fct&gt;</th><th scope=col>&lt;dbl&gt;</th></tr>\n",
       "</thead>\n",
       "<tbody>\n",
       "\t<tr><td>Lucy </td><td>67</td></tr>\n",
       "\t<tr><td>John </td><td>56</td></tr>\n",
       "\t<tr><td>Mark </td><td>87</td></tr>\n",
       "\t<tr><td>Candy</td><td>91</td></tr>\n",
       "</tbody>\n",
       "</table>\n"
      ],
      "text/latex": [
       "A data.frame: 4 × 2\n",
       "\\begin{tabular}{r|ll}\n",
       " names & score\\\\\n",
       " <fct> & <dbl>\\\\\n",
       "\\hline\n",
       "\t Lucy  & 67\\\\\n",
       "\t John  & 56\\\\\n",
       "\t Mark  & 87\\\\\n",
       "\t Candy & 91\\\\\n",
       "\\end{tabular}\n"
      ],
      "text/markdown": [
       "\n",
       "A data.frame: 4 × 2\n",
       "\n",
       "| names &lt;fct&gt; | score &lt;dbl&gt; |\n",
       "|---|---|\n",
       "| Lucy  | 67 |\n",
       "| John  | 56 |\n",
       "| Mark  | 87 |\n",
       "| Candy | 91 |\n",
       "\n"
      ],
      "text/plain": [
       "  names score\n",
       "1 Lucy  67   \n",
       "2 John  56   \n",
       "3 Mark  87   \n",
       "4 Candy 91   "
      ]
     },
     "metadata": {},
     "output_type": "display_data"
    }
   ],
   "source": [
    "df <- data.frame(names = c(\"Lucy\", \"John\", \"Mark\", \"Candy\"),\n",
    "                 score = c(67, 56, 87, 91))\n",
    "df"
   ]
  },
  {
   "cell_type": "code",
   "execution_count": 2,
   "metadata": {},
   "outputs": [
    {
     "data": {
      "text/html": [
       "<table>\n",
       "<caption>A data.frame: 4 × 3</caption>\n",
       "<thead>\n",
       "\t<tr><th scope=col>names</th><th scope=col>score</th><th scope=col>curved</th></tr>\n",
       "\t<tr><th scope=col>&lt;fct&gt;</th><th scope=col>&lt;dbl&gt;</th><th scope=col>&lt;dbl&gt;</th></tr>\n",
       "</thead>\n",
       "<tbody>\n",
       "\t<tr><td>Lucy </td><td>67</td><td>81.85353</td></tr>\n",
       "\t<tr><td>John </td><td>56</td><td>74.83315</td></tr>\n",
       "\t<tr><td>Mark </td><td>87</td><td>93.27379</td></tr>\n",
       "\t<tr><td>Candy</td><td>91</td><td>95.39392</td></tr>\n",
       "</tbody>\n",
       "</table>\n"
      ],
      "text/latex": [
       "A data.frame: 4 × 3\n",
       "\\begin{tabular}{r|lll}\n",
       " names & score & curved\\\\\n",
       " <fct> & <dbl> & <dbl>\\\\\n",
       "\\hline\n",
       "\t Lucy  & 67 & 81.85353\\\\\n",
       "\t John  & 56 & 74.83315\\\\\n",
       "\t Mark  & 87 & 93.27379\\\\\n",
       "\t Candy & 91 & 95.39392\\\\\n",
       "\\end{tabular}\n"
      ],
      "text/markdown": [
       "\n",
       "A data.frame: 4 × 3\n",
       "\n",
       "| names &lt;fct&gt; | score &lt;dbl&gt; | curved &lt;dbl&gt; |\n",
       "|---|---|---|\n",
       "| Lucy  | 67 | 81.85353 |\n",
       "| John  | 56 | 74.83315 |\n",
       "| Mark  | 87 | 93.27379 |\n",
       "| Candy | 91 | 95.39392 |\n",
       "\n"
      ],
      "text/plain": [
       "  names score curved  \n",
       "1 Lucy  67    81.85353\n",
       "2 John  56    74.83315\n",
       "3 Mark  87    93.27379\n",
       "4 Candy 91    95.39392"
      ]
     },
     "metadata": {},
     "output_type": "display_data"
    }
   ],
   "source": [
    "for (i in 1:4) {\n",
    "    df$curved[i] <- sqrt(df$score[i])*10\n",
    "}\n",
    "df"
   ]
  },
  {
   "cell_type": "code",
   "execution_count": 3,
   "metadata": {},
   "outputs": [
    {
     "data": {
      "text/html": [
       "<ol class=list-inline>\n",
       "\t<li>2</li>\n",
       "\t<li>4</li>\n",
       "\t<li>6</li>\n",
       "\t<li>8</li>\n",
       "\t<li>10</li>\n",
       "</ol>\n"
      ],
      "text/latex": [
       "\\begin{enumerate*}\n",
       "\\item 2\n",
       "\\item 4\n",
       "\\item 6\n",
       "\\item 8\n",
       "\\item 10\n",
       "\\end{enumerate*}\n"
      ],
      "text/markdown": [
       "1. 2\n",
       "2. 4\n",
       "3. 6\n",
       "4. 8\n",
       "5. 10\n",
       "\n",
       "\n"
      ],
      "text/plain": [
       "[1]  2  4  6  8 10"
      ]
     },
     "metadata": {},
     "output_type": "display_data"
    }
   ],
   "source": [
    "x <- NULL\n",
    "for (i in 1:5) {\n",
    "    x[i] = 2*i\n",
    "}\n",
    "x"
   ]
  },
  {
   "cell_type": "markdown",
   "metadata": {},
   "source": [
    "### 4.1.2 While loop\n",
    "Two useless operators in R that I found useful for teaching: modulus and integer division."
   ]
  },
  {
   "cell_type": "code",
   "execution_count": 4,
   "metadata": {},
   "outputs": [
    {
     "data": {
      "text/html": [
       "1"
      ],
      "text/latex": [
       "1"
      ],
      "text/markdown": [
       "1"
      ],
      "text/plain": [
       "[1] 1"
      ]
     },
     "metadata": {},
     "output_type": "display_data"
    },
    {
     "data": {
      "text/html": [
       "4"
      ],
      "text/latex": [
       "4"
      ],
      "text/markdown": [
       "4"
      ],
      "text/plain": [
       "[1] 4"
      ]
     },
     "metadata": {},
     "output_type": "display_data"
    }
   ],
   "source": [
    "9 %% 2   # 9 mod 2\n",
    "9 %/% 2"
   ]
  },
  {
   "cell_type": "markdown",
   "metadata": {},
   "source": [
    "#### Can we write a while loop to do the two operations at the same time?"
   ]
  },
  {
   "cell_type": "code",
   "execution_count": 5,
   "metadata": {},
   "outputs": [
    {
     "data": {
      "text/html": [
       "1"
      ],
      "text/latex": [
       "1"
      ],
      "text/markdown": [
       "1"
      ],
      "text/plain": [
       "[1] 1"
      ]
     },
     "metadata": {},
     "output_type": "display_data"
    },
    {
     "data": {
      "text/html": [
       "4"
      ],
      "text/latex": [
       "4"
      ],
      "text/markdown": [
       "4"
      ],
      "text/plain": [
       "[1] 4"
      ]
     },
     "metadata": {},
     "output_type": "display_data"
    }
   ],
   "source": [
    "# y %% x\n",
    "i <- 0\n",
    "y <- 9\n",
    "x <- 2\n",
    "while (y>=x) {\n",
    "    y <- y - x\n",
    "    i <- i + 1\n",
    "}\n",
    "y   # modulus\n",
    "i   # integer division\n",
    "# why?"
   ]
  },
  {
   "cell_type": "markdown",
   "metadata": {},
   "source": [
    "### 4.1.3 If, else, ifelse\n",
    "\n",
    "Not a loop. <tt>ifelse</tt> is the amazing vectorized alternative to <tt>if ..., else, ...</tt>.\n",
    "\n",
    "###### Once is enough - \n",
    "    -- \"Honey, on your way home, buy 6 oranges at the supermarket. If they have watermelons, get 1.\"\n",
    "\n",
    "    -- Mr. Programmer came home with 1 orange.\n",
    "\n",
    "    -- Furious girlfriend, \"Why the [--beep--] did you get only 1 orange?\"\n",
    "\n",
    "    -- \"Because they have watermelons.\""
   ]
  },
  {
   "cell_type": "code",
   "execution_count": 6,
   "metadata": {},
   "outputs": [
    {
     "data": {
      "text/html": [
       "'Buy 1 orange'"
      ],
      "text/latex": [
       "'Buy 1 orange'"
      ],
      "text/markdown": [
       "'Buy 1 orange'"
      ],
      "text/plain": [
       "[1] \"Buy 1 orange\""
      ]
     },
     "metadata": {},
     "output_type": "display_data"
    }
   ],
   "source": [
    "watermelon <- T\n",
    "no.orange <- if (watermelon == TRUE) {\n",
    "    \"Buy 1 orange\"\n",
    "} else {\n",
    "    print(\"Buy 6 oranges\")   # As seen in class, print() is useless here.\n",
    "}\n",
    "no.orange"
   ]
  },
  {
   "cell_type": "code",
   "execution_count": 7,
   "metadata": {},
   "outputs": [
    {
     "data": {
      "text/html": [
       "'Buy 6 oranges'"
      ],
      "text/latex": [
       "'Buy 6 oranges'"
      ],
      "text/markdown": [
       "'Buy 6 oranges'"
      ],
      "text/plain": [
       "[1] \"Buy 6 oranges\""
      ]
     },
     "metadata": {},
     "output_type": "display_data"
    }
   ],
   "source": [
    "# I prefer a simple function, ifelse(test, yes, no)\n",
    "watermelon <- F\n",
    "ifelse(watermelon == TRUE, yes = \"Buy 1 orange\", no = \"Buy 6 oranges\")"
   ]
  },
  {
   "cell_type": "code",
   "execution_count": 8,
   "metadata": {},
   "outputs": [
    {
     "data": {
      "text/html": [
       "<table>\n",
       "<caption>A data.frame: 4 × 4</caption>\n",
       "<thead>\n",
       "\t<tr><th scope=col>names</th><th scope=col>score</th><th scope=col>curved</th><th scope=col>pass</th></tr>\n",
       "\t<tr><th scope=col>&lt;fct&gt;</th><th scope=col>&lt;dbl&gt;</th><th scope=col>&lt;dbl&gt;</th><th scope=col>&lt;lgl&gt;</th></tr>\n",
       "</thead>\n",
       "<tbody>\n",
       "\t<tr><td>Lucy </td><td>67</td><td>81.85353</td><td> TRUE</td></tr>\n",
       "\t<tr><td>John </td><td>56</td><td>74.83315</td><td>FALSE</td></tr>\n",
       "\t<tr><td>Mark </td><td>87</td><td>93.27379</td><td> TRUE</td></tr>\n",
       "\t<tr><td>Candy</td><td>91</td><td>95.39392</td><td> TRUE</td></tr>\n",
       "</tbody>\n",
       "</table>\n"
      ],
      "text/latex": [
       "A data.frame: 4 × 4\n",
       "\\begin{tabular}{r|llll}\n",
       " names & score & curved & pass\\\\\n",
       " <fct> & <dbl> & <dbl> & <lgl>\\\\\n",
       "\\hline\n",
       "\t Lucy  & 67 & 81.85353 &  TRUE\\\\\n",
       "\t John  & 56 & 74.83315 & FALSE\\\\\n",
       "\t Mark  & 87 & 93.27379 &  TRUE\\\\\n",
       "\t Candy & 91 & 95.39392 &  TRUE\\\\\n",
       "\\end{tabular}\n"
      ],
      "text/markdown": [
       "\n",
       "A data.frame: 4 × 4\n",
       "\n",
       "| names &lt;fct&gt; | score &lt;dbl&gt; | curved &lt;dbl&gt; | pass &lt;lgl&gt; |\n",
       "|---|---|---|---|\n",
       "| Lucy  | 67 | 81.85353 |  TRUE |\n",
       "| John  | 56 | 74.83315 | FALSE |\n",
       "| Mark  | 87 | 93.27379 |  TRUE |\n",
       "| Candy | 91 | 95.39392 |  TRUE |\n",
       "\n"
      ],
      "text/plain": [
       "  names score curved   pass \n",
       "1 Lucy  67    81.85353  TRUE\n",
       "2 John  56    74.83315 FALSE\n",
       "3 Mark  87    93.27379  TRUE\n",
       "4 Candy 91    95.39392  TRUE"
      ]
     },
     "metadata": {},
     "output_type": "display_data"
    }
   ],
   "source": [
    "# ifelse is vectorized\n",
    "df$pass <- ifelse(test = df$score >= 65, yes = TRUE, no = FALSE)\n",
    "df"
   ]
  },
  {
   "cell_type": "markdown",
   "metadata": {},
   "source": [
    "### 4.1.4 Repeat loop"
   ]
  },
  {
   "cell_type": "code",
   "execution_count": 9,
   "metadata": {},
   "outputs": [
    {
     "name": "stdout",
     "output_type": "stream",
     "text": [
      "[1] \"Because they have watermelons!\"\n",
      "[1] \"Because they have watermelons!\"\n",
      "[1] \"Because they have watermelons!\"\n"
     ]
    }
   ],
   "source": [
    "i <- 0\n",
    "repeat {print(\"Because they have watermelons!\")\n",
    "        i <- i + 1\n",
    "    if (i>=3){\n",
    "        break\n",
    "    }\n",
    "}"
   ]
  },
  {
   "cell_type": "markdown",
   "metadata": {},
   "source": [
    "###### Exercise: use the repeat loop to calculate 9 %% 2 and 9 %/% 2."
   ]
  },
  {
   "cell_type": "code",
   "execution_count": 10,
   "metadata": {},
   "outputs": [
    {
     "data": {
      "text/html": [
       "4"
      ],
      "text/latex": [
       "4"
      ],
      "text/markdown": [
       "4"
      ],
      "text/plain": [
       "[1] 4"
      ]
     },
     "metadata": {},
     "output_type": "display_data"
    },
    {
     "data": {
      "text/html": [
       "1"
      ],
      "text/latex": [
       "1"
      ],
      "text/markdown": [
       "1"
      ],
      "text/plain": [
       "[1] 1"
      ]
     },
     "metadata": {},
     "output_type": "display_data"
    }
   ],
   "source": [
    "i <- 0\n",
    "y <- 9\n",
    "x <- 2\n",
    "\n",
    "repeat {\n",
    "    # The operation\n",
    "    y <- y - x\n",
    "    i <- i + 1\n",
    "    # Stop criteria\n",
    "    if (y<x) {\n",
    "        break\n",
    "    }\n",
    "}\n",
    "i; y"
   ]
  },
  {
   "cell_type": "markdown",
   "metadata": {},
   "source": [
    "###### Are there any situations that loops cannot be replaced by vector operations?"
   ]
  },
  {
   "cell_type": "markdown",
   "metadata": {},
   "source": [
    "## 4.2 Missing values\n",
    "- NA"
   ]
  },
  {
   "cell_type": "code",
   "execution_count": 11,
   "metadata": {},
   "outputs": [
    {
     "data": {
      "text/html": [
       "<table>\n",
       "<caption>A data.frame: 4 × 4</caption>\n",
       "<thead>\n",
       "\t<tr><th scope=col>names</th><th scope=col>score</th><th scope=col>curved</th><th scope=col>pass</th></tr>\n",
       "\t<tr><th scope=col>&lt;fct&gt;</th><th scope=col>&lt;dbl&gt;</th><th scope=col>&lt;dbl&gt;</th><th scope=col>&lt;lgl&gt;</th></tr>\n",
       "</thead>\n",
       "<tbody>\n",
       "\t<tr><td>Lucy </td><td>67</td><td>81.85353</td><td> TRUE</td></tr>\n",
       "\t<tr><td>John </td><td>NA</td><td>74.83315</td><td>FALSE</td></tr>\n",
       "\t<tr><td>NA   </td><td>87</td><td>93.27379</td><td> TRUE</td></tr>\n",
       "\t<tr><td>Candy</td><td>91</td><td>95.39392</td><td> TRUE</td></tr>\n",
       "</tbody>\n",
       "</table>\n"
      ],
      "text/latex": [
       "A data.frame: 4 × 4\n",
       "\\begin{tabular}{r|llll}\n",
       " names & score & curved & pass\\\\\n",
       " <fct> & <dbl> & <dbl> & <lgl>\\\\\n",
       "\\hline\n",
       "\t Lucy  & 67 & 81.85353 &  TRUE\\\\\n",
       "\t John  & NA & 74.83315 & FALSE\\\\\n",
       "\t NA    & 87 & 93.27379 &  TRUE\\\\\n",
       "\t Candy & 91 & 95.39392 &  TRUE\\\\\n",
       "\\end{tabular}\n"
      ],
      "text/markdown": [
       "\n",
       "A data.frame: 4 × 4\n",
       "\n",
       "| names &lt;fct&gt; | score &lt;dbl&gt; | curved &lt;dbl&gt; | pass &lt;lgl&gt; |\n",
       "|---|---|---|---|\n",
       "| Lucy  | 67 | 81.85353 |  TRUE |\n",
       "| John  | NA | 74.83315 | FALSE |\n",
       "| NA    | 87 | 93.27379 |  TRUE |\n",
       "| Candy | 91 | 95.39392 |  TRUE |\n",
       "\n"
      ],
      "text/plain": [
       "  names score curved   pass \n",
       "1 Lucy  67    81.85353  TRUE\n",
       "2 John  NA    74.83315 FALSE\n",
       "3 NA    87    93.27379  TRUE\n",
       "4 Candy 91    95.39392  TRUE"
      ]
     },
     "metadata": {},
     "output_type": "display_data"
    }
   ],
   "source": [
    "# Using indices from last lecture to change specific entries in R objects\n",
    "df.copy <- df\n",
    "df.copy$score[2] <- df.copy$names[3] <- NA\n",
    "df.copy"
   ]
  },
  {
   "cell_type": "code",
   "execution_count": 12,
   "metadata": {
    "scrolled": true
   },
   "outputs": [
    {
     "data": {
      "text/html": [
       "<table>\n",
       "<caption>A matrix: 4 × 4 of type lgl</caption>\n",
       "<thead>\n",
       "\t<tr><th scope=col>names</th><th scope=col>score</th><th scope=col>curved</th><th scope=col>pass</th></tr>\n",
       "</thead>\n",
       "<tbody>\n",
       "\t<tr><td>FALSE</td><td>FALSE</td><td>FALSE</td><td>FALSE</td></tr>\n",
       "\t<tr><td>FALSE</td><td> TRUE</td><td>FALSE</td><td>FALSE</td></tr>\n",
       "\t<tr><td> TRUE</td><td>FALSE</td><td>FALSE</td><td>FALSE</td></tr>\n",
       "\t<tr><td>FALSE</td><td>FALSE</td><td>FALSE</td><td>FALSE</td></tr>\n",
       "</tbody>\n",
       "</table>\n"
      ],
      "text/latex": [
       "A matrix: 4 × 4 of type lgl\n",
       "\\begin{tabular}{llll}\n",
       " names & score & curved & pass\\\\\n",
       "\\hline\n",
       "\t FALSE & FALSE & FALSE & FALSE\\\\\n",
       "\t FALSE &  TRUE & FALSE & FALSE\\\\\n",
       "\t  TRUE & FALSE & FALSE & FALSE\\\\\n",
       "\t FALSE & FALSE & FALSE & FALSE\\\\\n",
       "\\end{tabular}\n"
      ],
      "text/markdown": [
       "\n",
       "A matrix: 4 × 4 of type lgl\n",
       "\n",
       "| names | score | curved | pass |\n",
       "|---|---|---|---|\n",
       "| FALSE | FALSE | FALSE | FALSE |\n",
       "| FALSE |  TRUE | FALSE | FALSE |\n",
       "|  TRUE | FALSE | FALSE | FALSE |\n",
       "| FALSE | FALSE | FALSE | FALSE |\n",
       "\n"
      ],
      "text/plain": [
       "     names score curved pass \n",
       "[1,] FALSE FALSE FALSE  FALSE\n",
       "[2,] FALSE  TRUE FALSE  FALSE\n",
       "[3,]  TRUE FALSE FALSE  FALSE\n",
       "[4,] FALSE FALSE FALSE  FALSE"
      ]
     },
     "metadata": {},
     "output_type": "display_data"
    }
   ],
   "source": [
    "is.na(df.copy)"
   ]
  },
  {
   "cell_type": "code",
   "execution_count": 13,
   "metadata": {},
   "outputs": [
    {
     "data": {
      "text/html": [
       "2"
      ],
      "text/latex": [
       "2"
      ],
      "text/markdown": [
       "2"
      ],
      "text/plain": [
       "[1] 2"
      ]
     },
     "metadata": {},
     "output_type": "display_data"
    }
   ],
   "source": [
    "# Total number of cells with missing values\n",
    "sum(is.na(df.copy))"
   ]
  },
  {
   "cell_type": "code",
   "execution_count": 14,
   "metadata": {
    "scrolled": true
   },
   "outputs": [
    {
     "data": {
      "text/html": [
       "<ol class=list-inline>\n",
       "\t<li>TRUE</li>\n",
       "\t<li>FALSE</li>\n",
       "\t<li>FALSE</li>\n",
       "\t<li>TRUE</li>\n",
       "</ol>\n"
      ],
      "text/latex": [
       "\\begin{enumerate*}\n",
       "\\item TRUE\n",
       "\\item FALSE\n",
       "\\item FALSE\n",
       "\\item TRUE\n",
       "\\end{enumerate*}\n"
      ],
      "text/markdown": [
       "1. TRUE\n",
       "2. FALSE\n",
       "3. FALSE\n",
       "4. TRUE\n",
       "\n",
       "\n"
      ],
      "text/plain": [
       "[1]  TRUE FALSE FALSE  TRUE"
      ]
     },
     "metadata": {},
     "output_type": "display_data"
    }
   ],
   "source": [
    "# Whether a data point (row) is complete\n",
    "complete.cases(df.copy)"
   ]
  },
  {
   "cell_type": "code",
   "execution_count": 15,
   "metadata": {},
   "outputs": [
    {
     "data": {
      "text/html": [
       "<ol class=list-inline>\n",
       "\t<li>FALSE</li>\n",
       "\t<li>TRUE</li>\n",
       "\t<li>TRUE</li>\n",
       "\t<li>FALSE</li>\n",
       "</ol>\n"
      ],
      "text/latex": [
       "\\begin{enumerate*}\n",
       "\\item FALSE\n",
       "\\item TRUE\n",
       "\\item TRUE\n",
       "\\item FALSE\n",
       "\\end{enumerate*}\n"
      ],
      "text/markdown": [
       "1. FALSE\n",
       "2. TRUE\n",
       "3. TRUE\n",
       "4. FALSE\n",
       "\n",
       "\n"
      ],
      "text/plain": [
       "[1] FALSE  TRUE  TRUE FALSE"
      ]
     },
     "metadata": {},
     "output_type": "display_data"
    }
   ],
   "source": [
    "!complete.cases(df.copy)"
   ]
  },
  {
   "cell_type": "code",
   "execution_count": 16,
   "metadata": {},
   "outputs": [
    {
     "data": {
      "text/html": [
       "<ol class=list-inline>\n",
       "\t<li>1</li>\n",
       "\t<li>3</li>\n",
       "</ol>\n"
      ],
      "text/latex": [
       "\\begin{enumerate*}\n",
       "\\item 1\n",
       "\\item 3\n",
       "\\end{enumerate*}\n"
      ],
      "text/markdown": [
       "1. 1\n",
       "2. 3\n",
       "\n",
       "\n"
      ],
      "text/plain": [
       "[1] 1 3"
      ]
     },
     "metadata": {},
     "output_type": "display_data"
    }
   ],
   "source": [
    "s <- 1:5\n",
    "s[c(TRUE, FALSE, TRUE, FALSE, FALSE)]"
   ]
  },
  {
   "cell_type": "code",
   "execution_count": 17,
   "metadata": {
    "scrolled": true
   },
   "outputs": [
    {
     "data": {
      "text/html": [
       "<table>\n",
       "<caption>A data.frame: 2 × 4</caption>\n",
       "<thead>\n",
       "\t<tr><th></th><th scope=col>names</th><th scope=col>score</th><th scope=col>curved</th><th scope=col>pass</th></tr>\n",
       "\t<tr><th></th><th scope=col>&lt;fct&gt;</th><th scope=col>&lt;dbl&gt;</th><th scope=col>&lt;dbl&gt;</th><th scope=col>&lt;lgl&gt;</th></tr>\n",
       "</thead>\n",
       "<tbody>\n",
       "\t<tr><th scope=row>1</th><td>Lucy </td><td>67</td><td>81.85353</td><td>TRUE</td></tr>\n",
       "\t<tr><th scope=row>4</th><td>Candy</td><td>91</td><td>95.39392</td><td>TRUE</td></tr>\n",
       "</tbody>\n",
       "</table>\n"
      ],
      "text/latex": [
       "A data.frame: 2 × 4\n",
       "\\begin{tabular}{r|llll}\n",
       "  & names & score & curved & pass\\\\\n",
       "  & <fct> & <dbl> & <dbl> & <lgl>\\\\\n",
       "\\hline\n",
       "\t1 & Lucy  & 67 & 81.85353 & TRUE\\\\\n",
       "\t4 & Candy & 91 & 95.39392 & TRUE\\\\\n",
       "\\end{tabular}\n"
      ],
      "text/markdown": [
       "\n",
       "A data.frame: 2 × 4\n",
       "\n",
       "| <!--/--> | names &lt;fct&gt; | score &lt;dbl&gt; | curved &lt;dbl&gt; | pass &lt;lgl&gt; |\n",
       "|---|---|---|---|---|\n",
       "| 1 | Lucy  | 67 | 81.85353 | TRUE |\n",
       "| 4 | Candy | 91 | 95.39392 | TRUE |\n",
       "\n"
      ],
      "text/plain": [
       "  names score curved   pass\n",
       "1 Lucy  67    81.85353 TRUE\n",
       "4 Candy 91    95.39392 TRUE"
      ]
     },
     "metadata": {},
     "output_type": "display_data"
    }
   ],
   "source": [
    "# Inomplete data points\n",
    "df.copy[complete.cases(df.copy), ]\n",
    "# Recall the logical operator \"!\""
   ]
  },
  {
   "cell_type": "code",
   "execution_count": 18,
   "metadata": {},
   "outputs": [
    {
     "data": {
      "text/html": [
       "TRUE"
      ],
      "text/latex": [
       "TRUE"
      ],
      "text/markdown": [
       "TRUE"
      ],
      "text/plain": [
       "[1] TRUE"
      ]
     },
     "metadata": {},
     "output_type": "display_data"
    }
   ],
   "source": [
    "!FALSE"
   ]
  },
  {
   "cell_type": "code",
   "execution_count": 19,
   "metadata": {},
   "outputs": [
    {
     "data": {
      "text/html": [
       "&lt;NA&gt;"
      ],
      "text/latex": [
       "<NA>"
      ],
      "text/markdown": [
       "&lt;NA&gt;"
      ],
      "text/plain": [
       "[1] NA"
      ]
     },
     "metadata": {},
     "output_type": "display_data"
    }
   ],
   "source": [
    "# Taking the average score\n",
    "mean(df.copy$score)"
   ]
  },
  {
   "cell_type": "code",
   "execution_count": 20,
   "metadata": {},
   "outputs": [
    {
     "data": {
      "text/html": [
       "81.6666666666667"
      ],
      "text/latex": [
       "81.6666666666667"
      ],
      "text/markdown": [
       "81.6666666666667"
      ],
      "text/plain": [
       "[1] 81.66667"
      ]
     },
     "metadata": {},
     "output_type": "display_data"
    }
   ],
   "source": [
    "mean(df.copy$score, na.rm = TRUE)"
   ]
  },
  {
   "cell_type": "code",
   "execution_count": 21,
   "metadata": {},
   "outputs": [
    {
     "data": {
      "text/html": [
       "&lt;NA&gt;"
      ],
      "text/latex": [
       "<NA>"
      ],
      "text/markdown": [
       "&lt;NA&gt;"
      ],
      "text/plain": [
       "[1] NA"
      ]
     },
     "metadata": {},
     "output_type": "display_data"
    },
    {
     "data": {
      "text/html": [
       "245"
      ],
      "text/latex": [
       "245"
      ],
      "text/markdown": [
       "245"
      ],
      "text/plain": [
       "[1] 245"
      ]
     },
     "metadata": {},
     "output_type": "display_data"
    }
   ],
   "source": [
    "sum(df.copy$score)\n",
    "sum(df.copy$score, na.rm = T)"
   ]
  },
  {
   "cell_type": "code",
   "execution_count": 22,
   "metadata": {},
   "outputs": [
    {
     "data": {
      "text/html": [
       "<table>\n",
       "<caption>A data.frame: 2 × 4</caption>\n",
       "<thead>\n",
       "\t<tr><th></th><th scope=col>names</th><th scope=col>score</th><th scope=col>curved</th><th scope=col>pass</th></tr>\n",
       "\t<tr><th></th><th scope=col>&lt;fct&gt;</th><th scope=col>&lt;dbl&gt;</th><th scope=col>&lt;dbl&gt;</th><th scope=col>&lt;lgl&gt;</th></tr>\n",
       "</thead>\n",
       "<tbody>\n",
       "\t<tr><th scope=row>1</th><td>Lucy </td><td>67</td><td>81.85353</td><td>TRUE</td></tr>\n",
       "\t<tr><th scope=row>4</th><td>Candy</td><td>91</td><td>95.39392</td><td>TRUE</td></tr>\n",
       "</tbody>\n",
       "</table>\n"
      ],
      "text/latex": [
       "A data.frame: 2 × 4\n",
       "\\begin{tabular}{r|llll}\n",
       "  & names & score & curved & pass\\\\\n",
       "  & <fct> & <dbl> & <dbl> & <lgl>\\\\\n",
       "\\hline\n",
       "\t1 & Lucy  & 67 & 81.85353 & TRUE\\\\\n",
       "\t4 & Candy & 91 & 95.39392 & TRUE\\\\\n",
       "\\end{tabular}\n"
      ],
      "text/markdown": [
       "\n",
       "A data.frame: 2 × 4\n",
       "\n",
       "| <!--/--> | names &lt;fct&gt; | score &lt;dbl&gt; | curved &lt;dbl&gt; | pass &lt;lgl&gt; |\n",
       "|---|---|---|---|---|\n",
       "| 1 | Lucy  | 67 | 81.85353 | TRUE |\n",
       "| 4 | Candy | 91 | 95.39392 | TRUE |\n",
       "\n"
      ],
      "text/plain": [
       "  names score curved   pass\n",
       "1 Lucy  67    81.85353 TRUE\n",
       "4 Candy 91    95.39392 TRUE"
      ]
     },
     "metadata": {},
     "output_type": "display_data"
    }
   ],
   "source": [
    "na.omit(df.copy)"
   ]
  },
  {
   "cell_type": "code",
   "execution_count": 23,
   "metadata": {},
   "outputs": [],
   "source": [
    "# Options in R that deals with missingness\n",
    "?na.action"
   ]
  },
  {
   "cell_type": "markdown",
   "metadata": {},
   "source": [
    "## 4.3 Dates"
   ]
  },
  {
   "cell_type": "code",
   "execution_count": 24,
   "metadata": {},
   "outputs": [
    {
     "data": {
      "text/html": [
       "<time datetime=\"2019-09-26\">2019-09-26</time>"
      ],
      "text/latex": [
       "2019-09-26"
      ],
      "text/markdown": [
       "2019-09-26"
      ],
      "text/plain": [
       "[1] \"2019-09-26\""
      ]
     },
     "metadata": {},
     "output_type": "display_data"
    }
   ],
   "source": [
    "Sys.Date()\n",
    "# Note the standard date format in R"
   ]
  },
  {
   "cell_type": "code",
   "execution_count": 25,
   "metadata": {
    "scrolled": true
   },
   "outputs": [
    {
     "data": {
      "text/plain": [
       "[1] \"2019-09-26 22:29:59 EDT\""
      ]
     },
     "metadata": {},
     "output_type": "display_data"
    }
   ],
   "source": [
    "Sys.time() # Eastern Daylight Time"
   ]
  },
  {
   "cell_type": "code",
   "execution_count": 26,
   "metadata": {},
   "outputs": [
    {
     "data": {
      "text/html": [
       "'Thu Sep 26 22:29:59 2019'"
      ],
      "text/latex": [
       "'Thu Sep 26 22:29:59 2019'"
      ],
      "text/markdown": [
       "'Thu Sep 26 22:29:59 2019'"
      ],
      "text/plain": [
       "[1] \"Thu Sep 26 22:29:59 2019\""
      ]
     },
     "metadata": {},
     "output_type": "display_data"
    }
   ],
   "source": [
    "date()"
   ]
  },
  {
   "cell_type": "code",
   "execution_count": 27,
   "metadata": {},
   "outputs": [
    {
     "data": {
      "text/html": [
       "<time datetime=\"2018-10-04\">2018-10-04</time>"
      ],
      "text/latex": [
       "2018-10-04"
      ],
      "text/markdown": [
       "2018-10-04"
      ],
      "text/plain": [
       "[1] \"2018-10-04\""
      ]
     },
     "metadata": {},
     "output_type": "display_data"
    }
   ],
   "source": [
    "first.hw.post <- as.Date(\"Oct 4, 2018\", tryFormats = \"%b %d, %Y\")\n",
    "first.hw.post"
   ]
  },
  {
   "cell_type": "code",
   "execution_count": 28,
   "metadata": {
    "scrolled": true
   },
   "outputs": [
    {
     "data": {
      "text/html": [
       "<time datetime=\"2018-10-11\">2018-10-11</time>"
      ],
      "text/latex": [
       "2018-10-11"
      ],
      "text/markdown": [
       "2018-10-11"
      ],
      "text/plain": [
       "[1] \"2018-10-11\""
      ]
     },
     "metadata": {},
     "output_type": "display_data"
    }
   ],
   "source": [
    "first.hw.due <- as.Date(\"2018년10월11일\", tryFormats = \"%Y년%m월%d일\")\n",
    "first.hw.due\n",
    "# Just want to show you that any format can be recognized.\n",
    "# As long as you can let R know how to read it."
   ]
  },
  {
   "cell_type": "code",
   "execution_count": 29,
   "metadata": {},
   "outputs": [],
   "source": [
    "# Help file: Date-time Conversion Functions to and from Character\n",
    "# ?strptime"
   ]
  },
  {
   "cell_type": "code",
   "execution_count": 30,
   "metadata": {
    "scrolled": true
   },
   "outputs": [
    {
     "data": {
      "text/plain": [
       "Time difference of -350 days"
      ]
     },
     "metadata": {},
     "output_type": "display_data"
    }
   ],
   "source": [
    "first.hw.due - Sys.Date()"
   ]
  },
  {
   "cell_type": "code",
   "execution_count": 31,
   "metadata": {},
   "outputs": [
    {
     "data": {
      "text/html": [
       "18165"
      ],
      "text/latex": [
       "18165"
      ],
      "text/markdown": [
       "18165"
      ],
      "text/plain": [
       "[1] 18165"
      ]
     },
     "metadata": {},
     "output_type": "display_data"
    }
   ],
   "source": [
    "as.numeric(Sys.Date())"
   ]
  },
  {
   "cell_type": "code",
   "execution_count": 32,
   "metadata": {},
   "outputs": [
    {
     "data": {
      "text/html": [
       "<time datetime=\"1970-01-01\">1970-01-01</time>"
      ],
      "text/latex": [
       "1970-01-01"
      ],
      "text/markdown": [
       "1970-01-01"
      ],
      "text/plain": [
       "[1] \"1970-01-01\""
      ]
     },
     "metadata": {},
     "output_type": "display_data"
    }
   ],
   "source": [
    "# Time origin of R\n",
    "Sys.Date() - as.numeric(Sys.Date())"
   ]
  },
  {
   "cell_type": "code",
   "execution_count": 33,
   "metadata": {},
   "outputs": [
    {
     "data": {
      "text/plain": [
       "   user  system elapsed \n",
       "  0.941   0.072   1.136 "
      ]
     },
     "metadata": {},
     "output_type": "display_data"
    }
   ],
   "source": [
    "# How long does it take R to load the survival package\n",
    "time0 <- proc.time()\n",
    "library(survival)\n",
    "proc.time() - time0"
   ]
  },
  {
   "cell_type": "code",
   "execution_count": 34,
   "metadata": {},
   "outputs": [
    {
     "data": {
      "text/html": [
       "'Thursday September 26 2019'"
      ],
      "text/latex": [
       "'Thursday September 26 2019'"
      ],
      "text/markdown": [
       "'Thursday September 26 2019'"
      ],
      "text/plain": [
       "[1] \"Thursday September 26 2019\""
      ]
     },
     "metadata": {},
     "output_type": "display_data"
    }
   ],
   "source": [
    "format(Sys.Date(), format = \"%A %B %d %Y\")"
   ]
  },
  {
   "cell_type": "markdown",
   "metadata": {},
   "source": [
    "## 4.4 Useful functions\n",
    "### 4.4.1 Numeric functions"
   ]
  },
  {
   "cell_type": "code",
   "execution_count": 35,
   "metadata": {},
   "outputs": [
    {
     "data": {
      "text/html": [
       "3"
      ],
      "text/latex": [
       "3"
      ],
      "text/markdown": [
       "3"
      ],
      "text/plain": [
       "[1] 3"
      ]
     },
     "metadata": {},
     "output_type": "display_data"
    }
   ],
   "source": [
    "# Absolute value\n",
    "abs(-3)"
   ]
  },
  {
   "cell_type": "code",
   "execution_count": 36,
   "metadata": {
    "scrolled": true
   },
   "outputs": [
    {
     "data": {
      "text/html": [
       "4"
      ],
      "text/latex": [
       "4"
      ],
      "text/markdown": [
       "4"
      ],
      "text/plain": [
       "[1] 4"
      ]
     },
     "metadata": {},
     "output_type": "display_data"
    }
   ],
   "source": [
    "ceiling(3.14159)"
   ]
  },
  {
   "cell_type": "code",
   "execution_count": 37,
   "metadata": {},
   "outputs": [
    {
     "data": {
      "text/html": [
       "3"
      ],
      "text/latex": [
       "3"
      ],
      "text/markdown": [
       "3"
      ],
      "text/plain": [
       "[1] 3"
      ]
     },
     "metadata": {},
     "output_type": "display_data"
    }
   ],
   "source": [
    "floor(3.14159)"
   ]
  },
  {
   "cell_type": "code",
   "execution_count": 38,
   "metadata": {},
   "outputs": [
    {
     "data": {
      "text/html": [
       "3"
      ],
      "text/latex": [
       "3"
      ],
      "text/markdown": [
       "3"
      ],
      "text/plain": [
       "[1] 3"
      ]
     },
     "metadata": {},
     "output_type": "display_data"
    }
   ],
   "source": [
    "trunc(3.14159)"
   ]
  },
  {
   "cell_type": "code",
   "execution_count": 39,
   "metadata": {},
   "outputs": [
    {
     "data": {
      "text/html": [
       "3.14"
      ],
      "text/latex": [
       "3.14"
      ],
      "text/markdown": [
       "3.14"
      ],
      "text/plain": [
       "[1] 3.14"
      ]
     },
     "metadata": {},
     "output_type": "display_data"
    }
   ],
   "source": [
    "signif(3.14159, 3)"
   ]
  },
  {
   "cell_type": "code",
   "execution_count": 40,
   "metadata": {},
   "outputs": [
    {
     "data": {
      "text/html": [
       "3.1415926536"
      ],
      "text/latex": [
       "3.1415926536"
      ],
      "text/markdown": [
       "3.1415926536"
      ],
      "text/plain": [
       "[1] 3.141593"
      ]
     },
     "metadata": {},
     "output_type": "display_data"
    }
   ],
   "source": [
    "round(pi, digits = 10)"
   ]
  },
  {
   "cell_type": "markdown",
   "metadata": {},
   "source": [
    "###### Use these functions to calculate 9 %% 2 and 9 %/% 2."
   ]
  },
  {
   "cell_type": "code",
   "execution_count": 41,
   "metadata": {},
   "outputs": [
    {
     "data": {
      "text/html": [
       "4"
      ],
      "text/latex": [
       "4"
      ],
      "text/markdown": [
       "4"
      ],
      "text/plain": [
       "[1] 4"
      ]
     },
     "metadata": {},
     "output_type": "display_data"
    }
   ],
   "source": [
    "trunc(9/2)"
   ]
  },
  {
   "cell_type": "markdown",
   "metadata": {},
   "source": [
    "### 4.4.2 Character functions\n",
    "\n",
    "- paste( ) and expression( )\n",
    "    - paste( ) put text and variable values together into a text string.\n",
    "    - expression( ) can be used to display math symbols when needed, e.g. in plot titles.\n",
    "\n",
    "###### Few situations where you have to deal with text in R\n",
    "- Data frame entries\n",
    "- Plot title, labels, legends, etc..."
   ]
  },
  {
   "cell_type": "code",
   "execution_count": 42,
   "metadata": {},
   "outputs": [
    {
     "data": {
      "text/html": [
       "<table>\n",
       "<caption>A data.frame: 4 × 4</caption>\n",
       "<thead>\n",
       "\t<tr><th scope=col>names</th><th scope=col>score</th><th scope=col>curved</th><th scope=col>pass</th></tr>\n",
       "\t<tr><th scope=col>&lt;fct&gt;</th><th scope=col>&lt;dbl&gt;</th><th scope=col>&lt;dbl&gt;</th><th scope=col>&lt;lgl&gt;</th></tr>\n",
       "</thead>\n",
       "<tbody>\n",
       "\t<tr><td>Lucy </td><td>67</td><td>81.85353</td><td> TRUE</td></tr>\n",
       "\t<tr><td>John </td><td>56</td><td>74.83315</td><td>FALSE</td></tr>\n",
       "\t<tr><td>Mark </td><td>87</td><td>93.27379</td><td> TRUE</td></tr>\n",
       "\t<tr><td>Candy</td><td>91</td><td>95.39392</td><td> TRUE</td></tr>\n",
       "</tbody>\n",
       "</table>\n"
      ],
      "text/latex": [
       "A data.frame: 4 × 4\n",
       "\\begin{tabular}{r|llll}\n",
       " names & score & curved & pass\\\\\n",
       " <fct> & <dbl> & <dbl> & <lgl>\\\\\n",
       "\\hline\n",
       "\t Lucy  & 67 & 81.85353 &  TRUE\\\\\n",
       "\t John  & 56 & 74.83315 & FALSE\\\\\n",
       "\t Mark  & 87 & 93.27379 &  TRUE\\\\\n",
       "\t Candy & 91 & 95.39392 &  TRUE\\\\\n",
       "\\end{tabular}\n"
      ],
      "text/markdown": [
       "\n",
       "A data.frame: 4 × 4\n",
       "\n",
       "| names &lt;fct&gt; | score &lt;dbl&gt; | curved &lt;dbl&gt; | pass &lt;lgl&gt; |\n",
       "|---|---|---|---|\n",
       "| Lucy  | 67 | 81.85353 |  TRUE |\n",
       "| John  | 56 | 74.83315 | FALSE |\n",
       "| Mark  | 87 | 93.27379 |  TRUE |\n",
       "| Candy | 91 | 95.39392 |  TRUE |\n",
       "\n"
      ],
      "text/plain": [
       "  names score curved   pass \n",
       "1 Lucy  67    81.85353  TRUE\n",
       "2 John  56    74.83315 FALSE\n",
       "3 Mark  87    93.27379  TRUE\n",
       "4 Candy 91    95.39392  TRUE"
      ]
     },
     "metadata": {},
     "output_type": "display_data"
    }
   ],
   "source": [
    "df"
   ]
  },
  {
   "cell_type": "code",
   "execution_count": 43,
   "metadata": {},
   "outputs": [],
   "source": [
    "for (i in 1:4){\n",
    "    df$student.no[i] <- paste(\"student\", i)\n",
    "#     df$curved.score[i] <- round(sqrt(df$score[i]) * 10)\n",
    "}"
   ]
  },
  {
   "cell_type": "code",
   "execution_count": 44,
   "metadata": {},
   "outputs": [
    {
     "data": {
      "text/html": [
       "<table>\n",
       "<caption>A data.frame: 4 × 5</caption>\n",
       "<thead>\n",
       "\t<tr><th scope=col>names</th><th scope=col>score</th><th scope=col>curved</th><th scope=col>pass</th><th scope=col>student.no</th></tr>\n",
       "\t<tr><th scope=col>&lt;fct&gt;</th><th scope=col>&lt;dbl&gt;</th><th scope=col>&lt;dbl&gt;</th><th scope=col>&lt;lgl&gt;</th><th scope=col>&lt;chr&gt;</th></tr>\n",
       "</thead>\n",
       "<tbody>\n",
       "\t<tr><td>Lucy </td><td>67</td><td>81.85353</td><td> TRUE</td><td>student 1</td></tr>\n",
       "\t<tr><td>John </td><td>56</td><td>74.83315</td><td>FALSE</td><td>student 2</td></tr>\n",
       "\t<tr><td>Mark </td><td>87</td><td>93.27379</td><td> TRUE</td><td>student 3</td></tr>\n",
       "\t<tr><td>Candy</td><td>91</td><td>95.39392</td><td> TRUE</td><td>student 4</td></tr>\n",
       "</tbody>\n",
       "</table>\n"
      ],
      "text/latex": [
       "A data.frame: 4 × 5\n",
       "\\begin{tabular}{r|lllll}\n",
       " names & score & curved & pass & student.no\\\\\n",
       " <fct> & <dbl> & <dbl> & <lgl> & <chr>\\\\\n",
       "\\hline\n",
       "\t Lucy  & 67 & 81.85353 &  TRUE & student 1\\\\\n",
       "\t John  & 56 & 74.83315 & FALSE & student 2\\\\\n",
       "\t Mark  & 87 & 93.27379 &  TRUE & student 3\\\\\n",
       "\t Candy & 91 & 95.39392 &  TRUE & student 4\\\\\n",
       "\\end{tabular}\n"
      ],
      "text/markdown": [
       "\n",
       "A data.frame: 4 × 5\n",
       "\n",
       "| names &lt;fct&gt; | score &lt;dbl&gt; | curved &lt;dbl&gt; | pass &lt;lgl&gt; | student.no &lt;chr&gt; |\n",
       "|---|---|---|---|---|\n",
       "| Lucy  | 67 | 81.85353 |  TRUE | student 1 |\n",
       "| John  | 56 | 74.83315 | FALSE | student 2 |\n",
       "| Mark  | 87 | 93.27379 |  TRUE | student 3 |\n",
       "| Candy | 91 | 95.39392 |  TRUE | student 4 |\n",
       "\n"
      ],
      "text/plain": [
       "  names score curved   pass  student.no\n",
       "1 Lucy  67    81.85353  TRUE student 1 \n",
       "2 John  56    74.83315 FALSE student 2 \n",
       "3 Mark  87    93.27379  TRUE student 3 \n",
       "4 Candy 91    95.39392  TRUE student 4 "
      ]
     },
     "metadata": {},
     "output_type": "display_data"
    }
   ],
   "source": [
    "df"
   ]
  },
  {
   "cell_type": "code",
   "execution_count": 45,
   "metadata": {
    "scrolled": true
   },
   "outputs": [
    {
     "name": "stdout",
     "output_type": "stream",
     "text": [
      "'data.frame':\t4 obs. of  5 variables:\n",
      " $ names     : Factor w/ 4 levels \"Candy\",\"John\",..: 3 2 4 1\n",
      " $ score     : num  67 56 87 91\n",
      " $ curved    : num  81.9 74.8 93.3 95.4\n",
      " $ pass      : logi  TRUE FALSE TRUE TRUE\n",
      " $ student.no: chr  \"student 1\" \"student 2\" \"student 3\" \"student 4\"\n"
     ]
    }
   ],
   "source": [
    "str(df)"
   ]
  },
  {
   "cell_type": "code",
   "execution_count": 46,
   "metadata": {},
   "outputs": [
    {
     "data": {
      "image/png": "[encoded data removed]",
      "text/plain": [
       "Plot with title “paste(\"Score is \", alpha, \", curved score is \", sqrt(alpha) %*% 10)”"
      ]
     },
     "metadata": {},
     "output_type": "display_data"
    }
   ],
   "source": [
    "n <- nrow(df)\n",
    "plot(as.factor(df$student.no), df$curved,\n",
    "     # Math symbols in text\n",
    "     main = expression(paste(\"Score is \", alpha, \", curved score is \", sqrt(alpha)%*%10)),\n",
    "     # Variable value in text\n",
    "     xlab = paste(\"There are\", n, \"students\"))"
   ]
  },
  {
   "cell_type": "markdown",
   "metadata": {},
   "source": [
    "### 4.4.3 <tt>apply</tt> family functions\n",
    "Some say that apply( ) family functions distinguish R experts and newbies.\n",
    "\n",
    "Again, much more in my workshop https://github.com/ly129/MiCM.\n",
    "#### apply( )"
   ]
  },
  {
   "cell_type": "code",
   "execution_count": 47,
   "metadata": {},
   "outputs": [
    {
     "data": {
      "text/html": [
       "<table>\n",
       "<caption>A data.frame: 4 × 2</caption>\n",
       "<thead>\n",
       "\t<tr><th scope=col>score</th><th scope=col>curved</th></tr>\n",
       "\t<tr><th scope=col>&lt;dbl&gt;</th><th scope=col>&lt;dbl&gt;</th></tr>\n",
       "</thead>\n",
       "<tbody>\n",
       "\t<tr><td>67</td><td>81.85353</td></tr>\n",
       "\t<tr><td>56</td><td>74.83315</td></tr>\n",
       "\t<tr><td>87</td><td>93.27379</td></tr>\n",
       "\t<tr><td>91</td><td>95.39392</td></tr>\n",
       "</tbody>\n",
       "</table>\n"
      ],
      "text/latex": [
       "A data.frame: 4 × 2\n",
       "\\begin{tabular}{r|ll}\n",
       " score & curved\\\\\n",
       " <dbl> & <dbl>\\\\\n",
       "\\hline\n",
       "\t 67 & 81.85353\\\\\n",
       "\t 56 & 74.83315\\\\\n",
       "\t 87 & 93.27379\\\\\n",
       "\t 91 & 95.39392\\\\\n",
       "\\end{tabular}\n"
      ],
      "text/markdown": [
       "\n",
       "A data.frame: 4 × 2\n",
       "\n",
       "| score &lt;dbl&gt; | curved &lt;dbl&gt; |\n",
       "|---|---|\n",
       "| 67 | 81.85353 |\n",
       "| 56 | 74.83315 |\n",
       "| 87 | 93.27379 |\n",
       "| 91 | 95.39392 |\n",
       "\n"
      ],
      "text/plain": [
       "  score curved  \n",
       "1 67    81.85353\n",
       "2 56    74.83315\n",
       "3 87    93.27379\n",
       "4 91    95.39392"
      ]
     },
     "metadata": {},
     "output_type": "display_data"
    }
   ],
   "source": [
    "df.scores <- df[, c(\"score\", \"curved\")]; df.scores"
   ]
  },
  {
   "cell_type": "code",
   "execution_count": 48,
   "metadata": {},
   "outputs": [
    {
     "data": {
      "text/html": [
       "<dl class=dl-horizontal>\n",
       "\t<dt>score</dt>\n",
       "\t\t<dd>75.25</dd>\n",
       "\t<dt>curved</dt>\n",
       "\t\t<dd>86.3385965316965</dd>\n",
       "</dl>\n"
      ],
      "text/latex": [
       "\\begin{description*}\n",
       "\\item[score] 75.25\n",
       "\\item[curved] 86.3385965316965\n",
       "\\end{description*}\n"
      ],
      "text/markdown": [
       "score\n",
       ":   75.25curved\n",
       ":   86.3385965316965\n",
       "\n"
      ],
      "text/plain": [
       "  score  curved \n",
       "75.2500 86.3386 "
      ]
     },
     "metadata": {},
     "output_type": "display_data"
    }
   ],
   "source": [
    "apply(df.scores, MARGIN = 2, FUN = mean)"
   ]
  },
  {
   "cell_type": "code",
   "execution_count": 49,
   "metadata": {},
   "outputs": [
    {
     "data": {
      "text/html": [
       "<ol class=list-inline>\n",
       "\t<li>14.8535277187245</li>\n",
       "\t<li>18.8331477354788</li>\n",
       "\t<li>6.27379053088816</li>\n",
       "\t<li>4.39392014169457</li>\n",
       "</ol>\n"
      ],
      "text/latex": [
       "\\begin{enumerate*}\n",
       "\\item 14.8535277187245\n",
       "\\item 18.8331477354788\n",
       "\\item 6.27379053088816\n",
       "\\item 4.39392014169457\n",
       "\\end{enumerate*}\n"
      ],
      "text/markdown": [
       "1. 14.8535277187245\n",
       "2. 18.8331477354788\n",
       "3. 6.27379053088816\n",
       "4. 4.39392014169457\n",
       "\n",
       "\n"
      ],
      "text/plain": [
       "[1] 14.853528 18.833148  6.273791  4.393920"
      ]
     },
     "metadata": {},
     "output_type": "display_data"
    }
   ],
   "source": [
    "apply(df.scores, MARGIN = 1, FUN = diff)   # diff() calculates the difference - see Section 4.4.4"
   ]
  },
  {
   "cell_type": "code",
   "execution_count": 50,
   "metadata": {},
   "outputs": [
    {
     "name": "stdout",
     "output_type": "stream",
     "text": [
      ", , 1\n",
      "\n",
      "     [,1] [,2] [,3]\n",
      "[1,]    1    3    5\n",
      "[2,]    2    4    6\n",
      "\n",
      ", , 2\n",
      "\n",
      "     [,1] [,2] [,3]\n",
      "[1,]    7    9   11\n",
      "[2,]    8   10   12\n",
      "\n"
     ]
    }
   ],
   "source": [
    "myarray <- array(1:12, dim = c(2,3,2)); print(myarray)"
   ]
  },
  {
   "cell_type": "code",
   "execution_count": 51,
   "metadata": {},
   "outputs": [
    {
     "data": {
      "text/html": [
       "<table>\n",
       "<caption>A matrix: 3 × 2 of type int</caption>\n",
       "<tbody>\n",
       "\t<tr><td> 3</td><td>15</td></tr>\n",
       "\t<tr><td> 7</td><td>19</td></tr>\n",
       "\t<tr><td>11</td><td>23</td></tr>\n",
       "</tbody>\n",
       "</table>\n"
      ],
      "text/latex": [
       "A matrix: 3 × 2 of type int\n",
       "\\begin{tabular}{ll}\n",
       "\t  3 & 15\\\\\n",
       "\t  7 & 19\\\\\n",
       "\t 11 & 23\\\\\n",
       "\\end{tabular}\n"
      ],
      "text/markdown": [
       "\n",
       "A matrix: 3 × 2 of type int\n",
       "\n",
       "|  3 | 15 |\n",
       "|  7 | 19 |\n",
       "| 11 | 23 |\n",
       "\n"
      ],
      "text/plain": [
       "     [,1] [,2]\n",
       "[1,]  3   15  \n",
       "[2,]  7   19  \n",
       "[3,] 11   23  "
      ]
     },
     "metadata": {},
     "output_type": "display_data"
    }
   ],
   "source": [
    "apply(myarray, MARGIN = c(2, 3), sum)"
   ]
  },
  {
   "cell_type": "markdown",
   "metadata": {},
   "source": [
    "#### sapply( )"
   ]
  },
  {
   "cell_type": "code",
   "execution_count": 52,
   "metadata": {},
   "outputs": [
    {
     "data": {
      "text/html": [
       "<table>\n",
       "<caption>A data.frame: 4 × 5</caption>\n",
       "<thead>\n",
       "\t<tr><th scope=col>names</th><th scope=col>score</th><th scope=col>curved</th><th scope=col>pass</th><th scope=col>student.no</th></tr>\n",
       "\t<tr><th scope=col>&lt;fct&gt;</th><th scope=col>&lt;dbl&gt;</th><th scope=col>&lt;dbl&gt;</th><th scope=col>&lt;lgl&gt;</th><th scope=col>&lt;chr&gt;</th></tr>\n",
       "</thead>\n",
       "<tbody>\n",
       "\t<tr><td>Lucy </td><td>67</td><td>81.85353</td><td> TRUE</td><td>student 1</td></tr>\n",
       "\t<tr><td>John </td><td>56</td><td>74.83315</td><td>FALSE</td><td>student 2</td></tr>\n",
       "\t<tr><td>Mark </td><td>87</td><td>93.27379</td><td> TRUE</td><td>student 3</td></tr>\n",
       "\t<tr><td>Candy</td><td>91</td><td>95.39392</td><td> TRUE</td><td>student 4</td></tr>\n",
       "</tbody>\n",
       "</table>\n"
      ],
      "text/latex": [
       "A data.frame: 4 × 5\n",
       "\\begin{tabular}{r|lllll}\n",
       " names & score & curved & pass & student.no\\\\\n",
       " <fct> & <dbl> & <dbl> & <lgl> & <chr>\\\\\n",
       "\\hline\n",
       "\t Lucy  & 67 & 81.85353 &  TRUE & student 1\\\\\n",
       "\t John  & 56 & 74.83315 & FALSE & student 2\\\\\n",
       "\t Mark  & 87 & 93.27379 &  TRUE & student 3\\\\\n",
       "\t Candy & 91 & 95.39392 &  TRUE & student 4\\\\\n",
       "\\end{tabular}\n"
      ],
      "text/markdown": [
       "\n",
       "A data.frame: 4 × 5\n",
       "\n",
       "| names &lt;fct&gt; | score &lt;dbl&gt; | curved &lt;dbl&gt; | pass &lt;lgl&gt; | student.no &lt;chr&gt; |\n",
       "|---|---|---|---|---|\n",
       "| Lucy  | 67 | 81.85353 |  TRUE | student 1 |\n",
       "| John  | 56 | 74.83315 | FALSE | student 2 |\n",
       "| Mark  | 87 | 93.27379 |  TRUE | student 3 |\n",
       "| Candy | 91 | 95.39392 |  TRUE | student 4 |\n",
       "\n"
      ],
      "text/plain": [
       "  names score curved   pass  student.no\n",
       "1 Lucy  67    81.85353  TRUE student 1 \n",
       "2 John  56    74.83315 FALSE student 2 \n",
       "3 Mark  87    93.27379  TRUE student 3 \n",
       "4 Candy 91    95.39392  TRUE student 4 "
      ]
     },
     "metadata": {},
     "output_type": "display_data"
    }
   ],
   "source": [
    "df"
   ]
  },
  {
   "cell_type": "code",
   "execution_count": 53,
   "metadata": {},
   "outputs": [
    {
     "data": {
      "text/html": [
       "<dl class=dl-horizontal>\n",
       "\t<dt>names</dt>\n",
       "\t\t<dd>FALSE</dd>\n",
       "\t<dt>score</dt>\n",
       "\t\t<dd>TRUE</dd>\n",
       "\t<dt>curved</dt>\n",
       "\t\t<dd>TRUE</dd>\n",
       "\t<dt>pass</dt>\n",
       "\t\t<dd>FALSE</dd>\n",
       "\t<dt>student.no</dt>\n",
       "\t\t<dd>FALSE</dd>\n",
       "</dl>\n"
      ],
      "text/latex": [
       "\\begin{description*}\n",
       "\\item[names] FALSE\n",
       "\\item[score] TRUE\n",
       "\\item[curved] TRUE\n",
       "\\item[pass] FALSE\n",
       "\\item[student.no] FALSE\n",
       "\\end{description*}\n"
      ],
      "text/markdown": [
       "names\n",
       ":   FALSEscore\n",
       ":   TRUEcurved\n",
       ":   TRUEpass\n",
       ":   FALSEstudent.no\n",
       ":   FALSE\n",
       "\n"
      ],
      "text/plain": [
       "     names      score     curved       pass student.no \n",
       "     FALSE       TRUE       TRUE      FALSE      FALSE "
      ]
     },
     "metadata": {},
     "output_type": "display_data"
    }
   ],
   "source": [
    "sapply(df, is.numeric)"
   ]
  },
  {
   "cell_type": "markdown",
   "metadata": {},
   "source": [
    "###### There is also lapply( ), tapply( ), etc...\n",
    "###### And their parallel versions mclapply( ), parLapply( ) in the 'parallel' package for parallel computing.\n",
    "\n",
    "### 4.4.4 Other useful functions"
   ]
  },
  {
   "cell_type": "code",
   "execution_count": 54,
   "metadata": {},
   "outputs": [
    {
     "data": {
      "text/html": [
       "<ol class=list-inline>\n",
       "\t<li>1</li>\n",
       "\t<li>6</li>\n",
       "\t<li>4</li>\n",
       "\t<li>5</li>\n",
       "\t<li>8</li>\n",
       "\t<li>5</li>\n",
       "\t<li>4</li>\n",
       "\t<li>3</li>\n",
       "</ol>\n"
      ],
      "text/latex": [
       "\\begin{enumerate*}\n",
       "\\item 1\n",
       "\\item 6\n",
       "\\item 4\n",
       "\\item 5\n",
       "\\item 8\n",
       "\\item 5\n",
       "\\item 4\n",
       "\\item 3\n",
       "\\end{enumerate*}\n"
      ],
      "text/markdown": [
       "1. 1\n",
       "2. 6\n",
       "3. 4\n",
       "4. 5\n",
       "5. 8\n",
       "6. 5\n",
       "7. 4\n",
       "8. 3\n",
       "\n",
       "\n"
      ],
      "text/plain": [
       "[1] 1 6 4 5 8 5 4 3"
      ]
     },
     "metadata": {},
     "output_type": "display_data"
    }
   ],
   "source": [
    "age=c(1,6,4,5,8,5,4,3)\n",
    "weight=c(45,65,34)\n",
    "age"
   ]
  },
  {
   "cell_type": "code",
   "execution_count": 55,
   "metadata": {},
   "outputs": [
    {
     "data": {
      "text/html": [
       "4.5"
      ],
      "text/latex": [
       "4.5"
      ],
      "text/markdown": [
       "4.5"
      ],
      "text/plain": [
       "[1] 4.5"
      ]
     },
     "metadata": {},
     "output_type": "display_data"
    }
   ],
   "source": [
    "mean(age)"
   ]
  },
  {
   "cell_type": "code",
   "execution_count": 56,
   "metadata": {},
   "outputs": [
    {
     "data": {
      "text/html": [
       "57600"
      ],
      "text/latex": [
       "57600"
      ],
      "text/markdown": [
       "57600"
      ],
      "text/plain": [
       "[1] 57600"
      ]
     },
     "metadata": {},
     "output_type": "display_data"
    }
   ],
   "source": [
    "prod(age)"
   ]
  },
  {
   "cell_type": "code",
   "execution_count": 57,
   "metadata": {},
   "outputs": [
    {
     "data": {
      "text/html": [
       "4.5"
      ],
      "text/latex": [
       "4.5"
      ],
      "text/markdown": [
       "4.5"
      ],
      "text/plain": [
       "[1] 4.5"
      ]
     },
     "metadata": {},
     "output_type": "display_data"
    }
   ],
   "source": [
    "median(age)"
   ]
  },
  {
   "cell_type": "code",
   "execution_count": 58,
   "metadata": {},
   "outputs": [
    {
     "data": {
      "text/html": [
       "4.28571428571429"
      ],
      "text/latex": [
       "4.28571428571429"
      ],
      "text/markdown": [
       "4.28571428571429"
      ],
      "text/plain": [
       "[1] 4.285714"
      ]
     },
     "metadata": {},
     "output_type": "display_data"
    },
    {
     "data": {
      "text/html": [
       "2.07019667802706"
      ],
      "text/latex": [
       "2.07019667802706"
      ],
      "text/markdown": [
       "2.07019667802706"
      ],
      "text/plain": [
       "[1] 2.070197"
      ]
     },
     "metadata": {},
     "output_type": "display_data"
    }
   ],
   "source": [
    "var(age)\n",
    "sd(age)"
   ]
  },
  {
   "cell_type": "code",
   "execution_count": 59,
   "metadata": {},
   "outputs": [
    {
     "data": {
      "text/html": [
       "8"
      ],
      "text/latex": [
       "8"
      ],
      "text/markdown": [
       "8"
      ],
      "text/plain": [
       "[1] 8"
      ]
     },
     "metadata": {},
     "output_type": "display_data"
    },
    {
     "data": {
      "text/html": [
       "1"
      ],
      "text/latex": [
       "1"
      ],
      "text/markdown": [
       "1"
      ],
      "text/plain": [
       "[1] 1"
      ]
     },
     "metadata": {},
     "output_type": "display_data"
    },
    {
     "data": {
      "text/html": [
       "<ol class=list-inline>\n",
       "\t<li>1</li>\n",
       "\t<li>8</li>\n",
       "</ol>\n"
      ],
      "text/latex": [
       "\\begin{enumerate*}\n",
       "\\item 1\n",
       "\\item 8\n",
       "\\end{enumerate*}\n"
      ],
      "text/markdown": [
       "1. 1\n",
       "2. 8\n",
       "\n",
       "\n"
      ],
      "text/plain": [
       "[1] 1 8"
      ]
     },
     "metadata": {},
     "output_type": "display_data"
    }
   ],
   "source": [
    "max(age)\n",
    "min(age)\n",
    "range(age)"
   ]
  },
  {
   "cell_type": "code",
   "execution_count": 60,
   "metadata": {},
   "outputs": [
    {
     "data": {
      "text/html": [
       "5"
      ],
      "text/latex": [
       "5"
      ],
      "text/markdown": [
       "5"
      ],
      "text/plain": [
       "[1] 5"
      ]
     },
     "metadata": {},
     "output_type": "display_data"
    },
    {
     "data": {
      "text/html": [
       "1"
      ],
      "text/latex": [
       "1"
      ],
      "text/markdown": [
       "1"
      ],
      "text/plain": [
       "[1] 1"
      ]
     },
     "metadata": {},
     "output_type": "display_data"
    }
   ],
   "source": [
    "which.max(age)   #returns the index of the greatest element of x\n",
    "which.min(age)   #returns the index of the smallest element of x"
   ]
  },
  {
   "cell_type": "code",
   "execution_count": 61,
   "metadata": {},
   "outputs": [
    {
     "data": {
      "text/html": [
       "<ol class=list-inline>\n",
       "\t<li>0</li>\n",
       "\t<li>0.25</li>\n",
       "\t<li>0.5</li>\n",
       "\t<li>0.75</li>\n",
       "\t<li>1</li>\n",
       "</ol>\n"
      ],
      "text/latex": [
       "\\begin{enumerate*}\n",
       "\\item 0\n",
       "\\item 0.25\n",
       "\\item 0.5\n",
       "\\item 0.75\n",
       "\\item 1\n",
       "\\end{enumerate*}\n"
      ],
      "text/markdown": [
       "1. 0\n",
       "2. 0.25\n",
       "3. 0.5\n",
       "4. 0.75\n",
       "5. 1\n",
       "\n",
       "\n"
      ],
      "text/plain": [
       "[1] 0.00 0.25 0.50 0.75 1.00"
      ]
     },
     "metadata": {},
     "output_type": "display_data"
    },
    {
     "data": {
      "text/html": [
       "<dl class=dl-horizontal>\n",
       "\t<dt>0%</dt>\n",
       "\t\t<dd>1</dd>\n",
       "\t<dt>25%</dt>\n",
       "\t\t<dd>25.75</dd>\n",
       "\t<dt>50%</dt>\n",
       "\t\t<dd>50.5</dd>\n",
       "\t<dt>75%</dt>\n",
       "\t\t<dd>75.25</dd>\n",
       "\t<dt>100%</dt>\n",
       "\t\t<dd>100</dd>\n",
       "</dl>\n"
      ],
      "text/latex": [
       "\\begin{description*}\n",
       "\\item[0\\textbackslash{}\\%] 1\n",
       "\\item[25\\textbackslash{}\\%] 25.75\n",
       "\\item[50\\textbackslash{}\\%] 50.5\n",
       "\\item[75\\textbackslash{}\\%] 75.25\n",
       "\\item[100\\textbackslash{}\\%] 100\n",
       "\\end{description*}\n"
      ],
      "text/markdown": [
       "0%\n",
       ":   125%\n",
       ":   25.7550%\n",
       ":   50.575%\n",
       ":   75.25100%\n",
       ":   100\n",
       "\n"
      ],
      "text/plain": [
       "    0%    25%    50%    75%   100% \n",
       "  1.00  25.75  50.50  75.25 100.00 "
      ]
     },
     "metadata": {},
     "output_type": "display_data"
    }
   ],
   "source": [
    "seq(from = 0, to = 1, by = 0.25)\n",
    "quantile(1:100, probs = seq(from = 0, to = 1, by = 0.25))\n",
    "# Returns the specified quantiles."
   ]
  },
  {
   "cell_type": "code",
   "execution_count": 62,
   "metadata": {},
   "outputs": [
    {
     "data": {
      "text/html": [
       "<ol class=list-inline>\n",
       "\t<li>1</li>\n",
       "\t<li>6</li>\n",
       "\t<li>4</li>\n",
       "\t<li>5</li>\n",
       "\t<li>8</li>\n",
       "\t<li>5</li>\n",
       "\t<li>4</li>\n",
       "\t<li>3</li>\n",
       "</ol>\n"
      ],
      "text/latex": [
       "\\begin{enumerate*}\n",
       "\\item 1\n",
       "\\item 6\n",
       "\\item 4\n",
       "\\item 5\n",
       "\\item 8\n",
       "\\item 5\n",
       "\\item 4\n",
       "\\item 3\n",
       "\\end{enumerate*}\n"
      ],
      "text/markdown": [
       "1. 1\n",
       "2. 6\n",
       "3. 4\n",
       "4. 5\n",
       "5. 8\n",
       "6. 5\n",
       "7. 4\n",
       "8. 3\n",
       "\n",
       "\n"
      ],
      "text/plain": [
       "[1] 1 6 4 5 8 5 4 3"
      ]
     },
     "metadata": {},
     "output_type": "display_data"
    },
    {
     "data": {
      "text/html": [
       "<ol class=list-inline>\n",
       "\t<li>1</li>\n",
       "\t<li>6</li>\n",
       "\t<li>4</li>\n",
       "\t<li>5</li>\n",
       "\t<li>8</li>\n",
       "\t<li>3</li>\n",
       "</ol>\n"
      ],
      "text/latex": [
       "\\begin{enumerate*}\n",
       "\\item 1\n",
       "\\item 6\n",
       "\\item 4\n",
       "\\item 5\n",
       "\\item 8\n",
       "\\item 3\n",
       "\\end{enumerate*}\n"
      ],
      "text/markdown": [
       "1. 1\n",
       "2. 6\n",
       "3. 4\n",
       "4. 5\n",
       "5. 8\n",
       "6. 3\n",
       "\n",
       "\n"
      ],
      "text/plain": [
       "[1] 1 6 4 5 8 3"
      ]
     },
     "metadata": {},
     "output_type": "display_data"
    }
   ],
   "source": [
    "age\n",
    "unique(age)   # Gives the vector of distinct values"
   ]
  },
  {
   "cell_type": "code",
   "execution_count": 63,
   "metadata": {},
   "outputs": [
    {
     "data": {
      "text/html": [
       "<ol class=list-inline>\n",
       "\t<li>5</li>\n",
       "\t<li>-2</li>\n",
       "\t<li>1</li>\n",
       "\t<li>3</li>\n",
       "\t<li>-3</li>\n",
       "\t<li>-1</li>\n",
       "\t<li>-1</li>\n",
       "</ol>\n"
      ],
      "text/latex": [
       "\\begin{enumerate*}\n",
       "\\item 5\n",
       "\\item -2\n",
       "\\item 1\n",
       "\\item 3\n",
       "\\item -3\n",
       "\\item -1\n",
       "\\item -1\n",
       "\\end{enumerate*}\n"
      ],
      "text/markdown": [
       "1. 5\n",
       "2. -2\n",
       "3. 1\n",
       "4. 3\n",
       "5. -3\n",
       "6. -1\n",
       "7. -1\n",
       "\n",
       "\n"
      ],
      "text/plain": [
       "[1]  5 -2  1  3 -3 -1 -1"
      ]
     },
     "metadata": {},
     "output_type": "display_data"
    }
   ],
   "source": [
    "diff(age)   # Replaces a vector by the vector of first differences"
   ]
  },
  {
   "cell_type": "code",
   "execution_count": 64,
   "metadata": {},
   "outputs": [
    {
     "data": {
      "text/html": [
       "<ol class=list-inline>\n",
       "\t<li>1</li>\n",
       "\t<li>3</li>\n",
       "\t<li>4</li>\n",
       "\t<li>4</li>\n",
       "\t<li>5</li>\n",
       "\t<li>5</li>\n",
       "\t<li>6</li>\n",
       "\t<li>8</li>\n",
       "</ol>\n"
      ],
      "text/latex": [
       "\\begin{enumerate*}\n",
       "\\item 1\n",
       "\\item 3\n",
       "\\item 4\n",
       "\\item 4\n",
       "\\item 5\n",
       "\\item 5\n",
       "\\item 6\n",
       "\\item 8\n",
       "\\end{enumerate*}\n"
      ],
      "text/markdown": [
       "1. 1\n",
       "2. 3\n",
       "3. 4\n",
       "4. 4\n",
       "5. 5\n",
       "6. 5\n",
       "7. 6\n",
       "8. 8\n",
       "\n",
       "\n"
      ],
      "text/plain": [
       "[1] 1 3 4 4 5 5 6 8"
      ]
     },
     "metadata": {},
     "output_type": "display_data"
    }
   ],
   "source": [
    "sort(age, decreasing = F)   # Sorts elements into order"
   ]
  },
  {
   "cell_type": "code",
   "execution_count": 65,
   "metadata": {},
   "outputs": [
    {
     "data": {
      "text/html": [
       "<ol class=list-inline>\n",
       "\t<li>1</li>\n",
       "\t<li>8</li>\n",
       "\t<li>3</li>\n",
       "\t<li>7</li>\n",
       "\t<li>4</li>\n",
       "\t<li>6</li>\n",
       "\t<li>2</li>\n",
       "\t<li>5</li>\n",
       "</ol>\n"
      ],
      "text/latex": [
       "\\begin{enumerate*}\n",
       "\\item 1\n",
       "\\item 8\n",
       "\\item 3\n",
       "\\item 7\n",
       "\\item 4\n",
       "\\item 6\n",
       "\\item 2\n",
       "\\item 5\n",
       "\\end{enumerate*}\n"
      ],
      "text/markdown": [
       "1. 1\n",
       "2. 8\n",
       "3. 3\n",
       "4. 7\n",
       "5. 4\n",
       "6. 6\n",
       "7. 2\n",
       "8. 5\n",
       "\n",
       "\n"
      ],
      "text/plain": [
       "[1] 1 8 3 7 4 6 2 5"
      ]
     },
     "metadata": {},
     "output_type": "display_data"
    },
    {
     "data": {
      "text/html": [
       "<ol class=list-inline>\n",
       "\t<li>1</li>\n",
       "\t<li>3</li>\n",
       "\t<li>4</li>\n",
       "\t<li>4</li>\n",
       "\t<li>5</li>\n",
       "\t<li>5</li>\n",
       "\t<li>6</li>\n",
       "\t<li>8</li>\n",
       "</ol>\n"
      ],
      "text/latex": [
       "\\begin{enumerate*}\n",
       "\\item 1\n",
       "\\item 3\n",
       "\\item 4\n",
       "\\item 4\n",
       "\\item 5\n",
       "\\item 5\n",
       "\\item 6\n",
       "\\item 8\n",
       "\\end{enumerate*}\n"
      ],
      "text/markdown": [
       "1. 1\n",
       "2. 3\n",
       "3. 4\n",
       "4. 4\n",
       "5. 5\n",
       "6. 5\n",
       "7. 6\n",
       "8. 8\n",
       "\n",
       "\n"
      ],
      "text/plain": [
       "[1] 1 3 4 4 5 5 6 8"
      ]
     },
     "metadata": {},
     "output_type": "display_data"
    }
   ],
   "source": [
    "order(age)\n",
    "age[order(age)]   # x[order(x)] orders elements of x"
   ]
  },
  {
   "cell_type": "code",
   "execution_count": 66,
   "metadata": {},
   "outputs": [
    {
     "data": {
      "text/html": [
       "<ol class=list-inline>\n",
       "\t<li>1</li>\n",
       "\t<li>6</li>\n",
       "\t<li>4</li>\n",
       "\t<li>5</li>\n",
       "\t<li>8</li>\n",
       "\t<li>5</li>\n",
       "\t<li>4</li>\n",
       "\t<li>3</li>\n",
       "</ol>\n"
      ],
      "text/latex": [
       "\\begin{enumerate*}\n",
       "\\item 1\n",
       "\\item 6\n",
       "\\item 4\n",
       "\\item 5\n",
       "\\item 8\n",
       "\\item 5\n",
       "\\item 4\n",
       "\\item 3\n",
       "\\end{enumerate*}\n"
      ],
      "text/markdown": [
       "1. 1\n",
       "2. 6\n",
       "3. 4\n",
       "4. 5\n",
       "5. 8\n",
       "6. 5\n",
       "7. 4\n",
       "8. 3\n",
       "\n",
       "\n"
      ],
      "text/plain": [
       "[1] 1 6 4 5 8 5 4 3"
      ]
     },
     "metadata": {},
     "output_type": "display_data"
    },
    {
     "data": {
      "text/html": [
       "<ol class=list-inline>\n",
       "\t<li>1</li>\n",
       "\t<li>7</li>\n",
       "\t<li>11</li>\n",
       "\t<li>16</li>\n",
       "\t<li>24</li>\n",
       "\t<li>29</li>\n",
       "\t<li>33</li>\n",
       "\t<li>36</li>\n",
       "</ol>\n"
      ],
      "text/latex": [
       "\\begin{enumerate*}\n",
       "\\item 1\n",
       "\\item 7\n",
       "\\item 11\n",
       "\\item 16\n",
       "\\item 24\n",
       "\\item 29\n",
       "\\item 33\n",
       "\\item 36\n",
       "\\end{enumerate*}\n"
      ],
      "text/markdown": [
       "1. 1\n",
       "2. 7\n",
       "3. 11\n",
       "4. 16\n",
       "5. 24\n",
       "6. 29\n",
       "7. 33\n",
       "8. 36\n",
       "\n",
       "\n"
      ],
      "text/plain": [
       "[1]  1  7 11 16 24 29 33 36"
      ]
     },
     "metadata": {},
     "output_type": "display_data"
    },
    {
     "data": {
      "text/html": [
       "<ol class=list-inline>\n",
       "\t<li>1</li>\n",
       "\t<li>6</li>\n",
       "\t<li>24</li>\n",
       "\t<li>120</li>\n",
       "\t<li>960</li>\n",
       "\t<li>4800</li>\n",
       "\t<li>19200</li>\n",
       "\t<li>57600</li>\n",
       "</ol>\n"
      ],
      "text/latex": [
       "\\begin{enumerate*}\n",
       "\\item 1\n",
       "\\item 6\n",
       "\\item 24\n",
       "\\item 120\n",
       "\\item 960\n",
       "\\item 4800\n",
       "\\item 19200\n",
       "\\item 57600\n",
       "\\end{enumerate*}\n"
      ],
      "text/markdown": [
       "1. 1\n",
       "2. 6\n",
       "3. 24\n",
       "4. 120\n",
       "5. 960\n",
       "6. 4800\n",
       "7. 19200\n",
       "8. 57600\n",
       "\n",
       "\n"
      ],
      "text/plain": [
       "[1]     1     6    24   120   960  4800 19200 57600"
      ]
     },
     "metadata": {},
     "output_type": "display_data"
    }
   ],
   "source": [
    "age\n",
    "cumsum(age)    # Cumulative sums\n",
    "cumprod(age)   # Cumulative products"
   ]
  },
  {
   "cell_type": "code",
   "execution_count": 67,
   "metadata": {
    "scrolled": false
   },
   "outputs": [
    {
     "data": {
      "text/html": [
       "<table>\n",
       "<caption>A matrix: 8 × 2 of type dbl</caption>\n",
       "<thead>\n",
       "\t<tr><th scope=col>age</th><th scope=col>cat</th></tr>\n",
       "</thead>\n",
       "<tbody>\n",
       "\t<tr><td>1</td><td>1</td></tr>\n",
       "\t<tr><td>6</td><td>3</td></tr>\n",
       "\t<tr><td>4</td><td>2</td></tr>\n",
       "\t<tr><td>5</td><td>2</td></tr>\n",
       "\t<tr><td>8</td><td>3</td></tr>\n",
       "\t<tr><td>5</td><td>2</td></tr>\n",
       "\t<tr><td>4</td><td>2</td></tr>\n",
       "\t<tr><td>3</td><td>2</td></tr>\n",
       "</tbody>\n",
       "</table>\n"
      ],
      "text/latex": [
       "A matrix: 8 × 2 of type dbl\n",
       "\\begin{tabular}{ll}\n",
       " age & cat\\\\\n",
       "\\hline\n",
       "\t 1 & 1\\\\\n",
       "\t 6 & 3\\\\\n",
       "\t 4 & 2\\\\\n",
       "\t 5 & 2\\\\\n",
       "\t 8 & 3\\\\\n",
       "\t 5 & 2\\\\\n",
       "\t 4 & 2\\\\\n",
       "\t 3 & 2\\\\\n",
       "\\end{tabular}\n"
      ],
      "text/markdown": [
       "\n",
       "A matrix: 8 × 2 of type dbl\n",
       "\n",
       "| age | cat |\n",
       "|---|---|\n",
       "| 1 | 1 |\n",
       "| 6 | 3 |\n",
       "| 4 | 2 |\n",
       "| 5 | 2 |\n",
       "| 8 | 3 |\n",
       "| 5 | 2 |\n",
       "| 4 | 2 |\n",
       "| 3 | 2 |\n",
       "\n"
      ],
      "text/plain": [
       "     age cat\n",
       "[1,] 1   1  \n",
       "[2,] 6   3  \n",
       "[3,] 4   2  \n",
       "[4,] 5   2  \n",
       "[5,] 8   3  \n",
       "[6,] 5   2  \n",
       "[7,] 4   2  \n",
       "[8,] 3   2  "
      ]
     },
     "metadata": {},
     "output_type": "display_data"
    },
    {
     "data": {
      "text/plain": [
       "cat\n",
       "(-Inf,2.5]  (2.5,5.5] (5.5, Inf] \n",
       "         1          5          2 "
      ]
     },
     "metadata": {},
     "output_type": "display_data"
    }
   ],
   "source": [
    "cat <- cut(age, breaks = c(-Inf, 2.5, 5.5, Inf))  # Divide continuous variable in factor with n levels\n",
    "cbind(age, cat)\n",
    "table(cat)"
   ]
  },
  {
   "cell_type": "code",
   "execution_count": 68,
   "metadata": {},
   "outputs": [
    {
     "data": {
      "text/html": [
       "<dl>\n",
       "\t<dt>$`(-Inf,2.5]`</dt>\n",
       "\t\t<dd>1</dd>\n",
       "\t<dt>$`(2.5,5.5]`</dt>\n",
       "\t\t<dd><ol class=list-inline>\n",
       "\t<li>4</li>\n",
       "\t<li>5</li>\n",
       "\t<li>5</li>\n",
       "\t<li>4</li>\n",
       "\t<li>3</li>\n",
       "</ol>\n",
       "</dd>\n",
       "\t<dt>$`(5.5, Inf]`</dt>\n",
       "\t\t<dd><ol class=list-inline>\n",
       "\t<li>6</li>\n",
       "\t<li>8</li>\n",
       "</ol>\n",
       "</dd>\n",
       "</dl>\n"
      ],
      "text/latex": [
       "\\begin{description}\n",
       "\\item[\\$`(-Inf,2.5{]}`] 1\n",
       "\\item[\\$`(2.5,5.5{]}`] \\begin{enumerate*}\n",
       "\\item 4\n",
       "\\item 5\n",
       "\\item 5\n",
       "\\item 4\n",
       "\\item 3\n",
       "\\end{enumerate*}\n",
       "\n",
       "\\item[\\$`(5.5, Inf{]}`] \\begin{enumerate*}\n",
       "\\item 6\n",
       "\\item 8\n",
       "\\end{enumerate*}\n",
       "\n",
       "\\end{description}\n"
      ],
      "text/markdown": [
       "$`(-Inf,2.5]`\n",
       ":   1\n",
       "$`(2.5,5.5]`\n",
       ":   1. 4\n",
       "2. 5\n",
       "3. 5\n",
       "4. 4\n",
       "5. 3\n",
       "\n",
       "\n",
       "\n",
       "$`(5.5, Inf]`\n",
       ":   1. 6\n",
       "2. 8\n",
       "\n",
       "\n",
       "\n",
       "\n",
       "\n"
      ],
      "text/plain": [
       "$`(-Inf,2.5]`\n",
       "[1] 1\n",
       "\n",
       "$`(2.5,5.5]`\n",
       "[1] 4 5 5 4 3\n",
       "\n",
       "$`(5.5, Inf]`\n",
       "[1] 6 8\n"
      ]
     },
     "metadata": {},
     "output_type": "display_data"
    }
   ],
   "source": [
    "# Split the variable into categories\n",
    "age.cat <- split(age, cat)\n",
    "age.cat"
   ]
  },
  {
   "cell_type": "code",
   "execution_count": 69,
   "metadata": {},
   "outputs": [
    {
     "name": "stdout",
     "output_type": "stream",
     "text": [
      "List of 3\n",
      " $ (-Inf,2.5]: num 1\n",
      " $ (2.5,5.5] : num [1:5] 4 5 5 4 3\n",
      " $ (5.5, Inf]: num [1:2] 6 8\n"
     ]
    }
   ],
   "source": [
    "# split() gives a list\n",
    "str(age.cat)"
   ]
  },
  {
   "cell_type": "code",
   "execution_count": 70,
   "metadata": {
    "scrolled": true
   },
   "outputs": [
    {
     "data": {
      "text/html": [
       "<dl>\n",
       "\t<dt>$`(-Inf,2.5]`</dt>\n",
       "\t\t<dd>1</dd>\n",
       "\t<dt>$`(2.5,5.5]`</dt>\n",
       "\t\t<dd>4.2</dd>\n",
       "\t<dt>$`(5.5, Inf]`</dt>\n",
       "\t\t<dd>7</dd>\n",
       "</dl>\n"
      ],
      "text/latex": [
       "\\begin{description}\n",
       "\\item[\\$`(-Inf,2.5{]}`] 1\n",
       "\\item[\\$`(2.5,5.5{]}`] 4.2\n",
       "\\item[\\$`(5.5, Inf{]}`] 7\n",
       "\\end{description}\n"
      ],
      "text/markdown": [
       "$`(-Inf,2.5]`\n",
       ":   1\n",
       "$`(2.5,5.5]`\n",
       ":   4.2\n",
       "$`(5.5, Inf]`\n",
       ":   7\n",
       "\n",
       "\n"
      ],
      "text/plain": [
       "$`(-Inf,2.5]`\n",
       "[1] 1\n",
       "\n",
       "$`(2.5,5.5]`\n",
       "[1] 4.2\n",
       "\n",
       "$`(5.5, Inf]`\n",
       "[1] 7\n"
      ]
     },
     "metadata": {},
     "output_type": "display_data"
    }
   ],
   "source": [
    "# lapply: list apply\n",
    "lapply(age.cat, mean)"
   ]
  },
  {
   "cell_type": "markdown",
   "metadata": {},
   "source": [
    "## 4.5 Write our own functions\n",
    "- function( )"
   ]
  },
  {
   "cell_type": "code",
   "execution_count": 71,
   "metadata": {},
   "outputs": [],
   "source": [
    "# The structure\n",
    "\n",
    "func_name <- function(argument) {\n",
    "    statement\n",
    "}"
   ]
  },
  {
   "cell_type": "markdown",
   "metadata": {},
   "source": [
    "#### Write my own function of $x^y$:"
   ]
  },
  {
   "cell_type": "code",
   "execution_count": 72,
   "metadata": {},
   "outputs": [
    {
     "data": {
      "text/html": [
       "9"
      ],
      "text/latex": [
       "9"
      ],
      "text/markdown": [
       "9"
      ],
      "text/plain": [
       "[1] 9"
      ]
     },
     "metadata": {},
     "output_type": "display_data"
    },
    {
     "data": {
      "text/html": [
       "8"
      ],
      "text/latex": [
       "8"
      ],
      "text/markdown": [
       "8"
      ],
      "text/plain": [
       "[1] 8"
      ]
     },
     "metadata": {},
     "output_type": "display_data"
    }
   ],
   "source": [
    "X.to.the.power.of.Y <- function(y, x){\n",
    "    x^y\n",
    "}\n",
    "X.to.the.power.of.Y(x = 3, y = 2)\n",
    "X.to.the.power.of.Y(3, 2)     # Following a question in class, note the difference."
   ]
  },
  {
   "cell_type": "markdown",
   "metadata": {},
   "source": [
    "###### Uses:\n",
    "- If we need to do some operation a lot later.\n",
    "- Work with apply( ) family.\n",
    "    - The 'FUN' argument in apply( ) family functions only take the name of the functions only.\n",
    "    - No arguments, operators or combinations of these allowed.\n",
    "\n",
    "###### Example: calculate the square of the score"
   ]
  },
  {
   "cell_type": "code",
   "execution_count": 73,
   "metadata": {},
   "outputs": [
    {
     "data": {
      "text/html": [
       "<table>\n",
       "<caption>A data.frame: 4 × 2</caption>\n",
       "<thead>\n",
       "\t<tr><th scope=col>score</th><th scope=col>curved</th></tr>\n",
       "\t<tr><th scope=col>&lt;dbl&gt;</th><th scope=col>&lt;dbl&gt;</th></tr>\n",
       "</thead>\n",
       "<tbody>\n",
       "\t<tr><td>67</td><td>81.85353</td></tr>\n",
       "\t<tr><td>56</td><td>74.83315</td></tr>\n",
       "\t<tr><td>87</td><td>93.27379</td></tr>\n",
       "\t<tr><td>91</td><td>95.39392</td></tr>\n",
       "</tbody>\n",
       "</table>\n"
      ],
      "text/latex": [
       "A data.frame: 4 × 2\n",
       "\\begin{tabular}{r|ll}\n",
       " score & curved\\\\\n",
       " <dbl> & <dbl>\\\\\n",
       "\\hline\n",
       "\t 67 & 81.85353\\\\\n",
       "\t 56 & 74.83315\\\\\n",
       "\t 87 & 93.27379\\\\\n",
       "\t 91 & 95.39392\\\\\n",
       "\\end{tabular}\n"
      ],
      "text/markdown": [
       "\n",
       "A data.frame: 4 × 2\n",
       "\n",
       "| score &lt;dbl&gt; | curved &lt;dbl&gt; |\n",
       "|---|---|\n",
       "| 67 | 81.85353 |\n",
       "| 56 | 74.83315 |\n",
       "| 87 | 93.27379 |\n",
       "| 91 | 95.39392 |\n",
       "\n"
      ],
      "text/plain": [
       "  score curved  \n",
       "1 67    81.85353\n",
       "2 56    74.83315\n",
       "3 87    93.27379\n",
       "4 91    95.39392"
      ]
     },
     "metadata": {},
     "output_type": "display_data"
    }
   ],
   "source": [
    "df.scores"
   ]
  },
  {
   "cell_type": "code",
   "execution_count": 74,
   "metadata": {},
   "outputs": [],
   "source": [
    "# The following code does not work\n",
    "# apply(df.scores, MARGIN = 2, FUN = ^2)"
   ]
  },
  {
   "cell_type": "code",
   "execution_count": 75,
   "metadata": {},
   "outputs": [
    {
     "data": {
      "text/html": [
       "<table>\n",
       "<caption>A matrix: 4 × 2 of type dbl</caption>\n",
       "<thead>\n",
       "\t<tr><th scope=col>score</th><th scope=col>curved</th></tr>\n",
       "</thead>\n",
       "<tbody>\n",
       "\t<tr><td>4489</td><td>6700</td></tr>\n",
       "\t<tr><td>3136</td><td>5600</td></tr>\n",
       "\t<tr><td>7569</td><td>8700</td></tr>\n",
       "\t<tr><td>8281</td><td>9100</td></tr>\n",
       "</tbody>\n",
       "</table>\n"
      ],
      "text/latex": [
       "A matrix: 4 × 2 of type dbl\n",
       "\\begin{tabular}{ll}\n",
       " score & curved\\\\\n",
       "\\hline\n",
       "\t 4489 & 6700\\\\\n",
       "\t 3136 & 5600\\\\\n",
       "\t 7569 & 8700\\\\\n",
       "\t 8281 & 9100\\\\\n",
       "\\end{tabular}\n"
      ],
      "text/markdown": [
       "\n",
       "A matrix: 4 × 2 of type dbl\n",
       "\n",
       "| score | curved |\n",
       "|---|---|\n",
       "| 4489 | 6700 |\n",
       "| 3136 | 5600 |\n",
       "| 7569 | 8700 |\n",
       "| 8281 | 9100 |\n",
       "\n"
      ],
      "text/plain": [
       "     score curved\n",
       "[1,] 4489  6700  \n",
       "[2,] 3136  5600  \n",
       "[3,] 7569  8700  \n",
       "[4,] 8281  9100  "
      ]
     },
     "metadata": {},
     "output_type": "display_data"
    }
   ],
   "source": [
    "# Instead we can do\n",
    "my.fun <- function(x){x^2}\n",
    "apply(df.scores, MARGIN = 2, FUN = my.fun)"
   ]
  },
  {
   "cell_type": "markdown",
   "metadata": {},
   "source": [
    "###### Exercise: write our own function to calculate x %% y and x %/% y.\n",
    "\n",
    "- Note how to return the output in function( ) and assess the results correspondingly."
   ]
  },
  {
   "cell_type": "code",
   "execution_count": 76,
   "metadata": {},
   "outputs": [
    {
     "data": {
      "text/html": [
       "<dl>\n",
       "\t<dt>$modulus</dt>\n",
       "\t\t<dd>1</dd>\n",
       "\t<dt>$integer.division</dt>\n",
       "\t\t<dd>4</dd>\n",
       "</dl>\n"
      ],
      "text/latex": [
       "\\begin{description}\n",
       "\\item[\\$modulus] 1\n",
       "\\item[\\$integer.division] 4\n",
       "\\end{description}\n"
      ],
      "text/markdown": [
       "$modulus\n",
       ":   1\n",
       "$integer.division\n",
       ":   4\n",
       "\n",
       "\n"
      ],
      "text/plain": [
       "$modulus\n",
       "[1] 1\n",
       "\n",
       "$integer.division\n",
       "[1] 4\n"
      ]
     },
     "metadata": {},
     "output_type": "display_data"
    },
    {
     "name": "stdout",
     "output_type": "stream",
     "text": [
      "List of 2\n",
      " $ modulus         : num 1\n",
      " $ integer.division: num 4\n"
     ]
    }
   ],
   "source": [
    "# Two inputs, y and x, so two arguments\n",
    "\n",
    "# Option 1 - use %% and %/% operators\n",
    "modulus1 <- function(y, x){\n",
    "    mod <- y %% x\n",
    "    int.div <- y %/% x\n",
    "    return(list(modulus=mod, integer.division=int.div))\n",
    "}\n",
    "out1 <- modulus1(y = 9, x = 2)\n",
    "# print(out1)\n",
    "out1\n",
    "str(out1)"
   ]
  },
  {
   "cell_type": "code",
   "execution_count": 77,
   "metadata": {},
   "outputs": [
    {
     "data": {
      "text/html": [
       "1"
      ],
      "text/latex": [
       "1"
      ],
      "text/markdown": [
       "1"
      ],
      "text/plain": [
       "[1] 1"
      ]
     },
     "metadata": {},
     "output_type": "display_data"
    }
   ],
   "source": [
    "out1$modulus\n",
    "# out1$integer.division"
   ]
  },
  {
   "cell_type": "code",
   "execution_count": 78,
   "metadata": {},
   "outputs": [
    {
     "data": {
      "text/html": [
       "4"
      ],
      "text/latex": [
       "4"
      ],
      "text/markdown": [
       "4"
      ],
      "text/plain": [
       "[1] 4"
      ]
     },
     "metadata": {},
     "output_type": "display_data"
    }
   ],
   "source": [
    "out1$integer.division"
   ]
  },
  {
   "cell_type": "code",
   "execution_count": 79,
   "metadata": {},
   "outputs": [
    {
     "name": "stdout",
     "output_type": "stream",
     "text": [
      "         modulus integer.division \n",
      "               4                1 \n",
      " Named num [1:2] 4 1\n",
      " - attr(*, \"names\")= chr [1:2] \"modulus\" \"integer.division\"\n"
     ]
    }
   ],
   "source": [
    "# Option 2 - use trunc() or floor()\n",
    "\n",
    "modulus2 <- function(y, x){\n",
    "    mod <- trunc(y/x)     # or floor(y/x)\n",
    "    int.div <- y - x * mod\n",
    "    return(c(modulus=mod, integer.division=int.div))\n",
    "}\n",
    "out2 <- modulus2(9, 2)\n",
    "print(out2)\n",
    "str(out2)"
   ]
  },
  {
   "cell_type": "code",
   "execution_count": 80,
   "metadata": {},
   "outputs": [
    {
     "data": {
      "text/html": [
       "<strong>modulus:</strong> 4"
      ],
      "text/latex": [
       "\\textbf{modulus:} 4"
      ],
      "text/markdown": [
       "**modulus:** 4"
      ],
      "text/plain": [
       "modulus \n",
       "      4 "
      ]
     },
     "metadata": {},
     "output_type": "display_data"
    },
    {
     "data": {
      "text/html": [
       "<strong>integer.division:</strong> 1"
      ],
      "text/latex": [
       "\\textbf{integer.division:} 1"
      ],
      "text/markdown": [
       "**integer.division:** 1"
      ],
      "text/plain": [
       "integer.division \n",
       "               1 "
      ]
     },
     "metadata": {},
     "output_type": "display_data"
    }
   ],
   "source": [
    "out2[1]\n",
    "out2[2]"
   ]
  },
  {
   "cell_type": "code",
   "execution_count": 81,
   "metadata": {},
   "outputs": [
    {
     "data": {
      "text/html": [
       "<strong>modulus:</strong> 4"
      ],
      "text/latex": [
       "\\textbf{modulus:} 4"
      ],
      "text/markdown": [
       "**modulus:** 4"
      ],
      "text/plain": [
       "modulus \n",
       "      4 "
      ]
     },
     "metadata": {},
     "output_type": "display_data"
    }
   ],
   "source": [
    "out2[\"modulus\"]"
   ]
  },
  {
   "cell_type": "code",
   "execution_count": 82,
   "metadata": {},
   "outputs": [
    {
     "data": {
      "text/html": [
       "<ol class=list-inline>\n",
       "\t<li>'modulus'</li>\n",
       "\t<li>'integer.division'</li>\n",
       "</ol>\n"
      ],
      "text/latex": [
       "\\begin{enumerate*}\n",
       "\\item 'modulus'\n",
       "\\item 'integer.division'\n",
       "\\end{enumerate*}\n"
      ],
      "text/markdown": [
       "1. 'modulus'\n",
       "2. 'integer.division'\n",
       "\n",
       "\n"
      ],
      "text/plain": [
       "[1] \"modulus\"          \"integer.division\""
      ]
     },
     "metadata": {},
     "output_type": "display_data"
    }
   ],
   "source": [
    "attr(out2, \"names\")"
   ]
  },
  {
   "cell_type": "code",
   "execution_count": 83,
   "metadata": {},
   "outputs": [
    {
     "name": "stdout",
     "output_type": "stream",
     "text": [
      "modulus= 1 , Integer division= 4"
     ]
    }
   ],
   "source": [
    "# Option 3 - use loops\n",
    "\n",
    "modulus3 <- function(y, x){\n",
    "    i <- 0\n",
    "    while (y>=x){\n",
    "        y <- y - x\n",
    "        i <- i + 1\n",
    "    }\n",
    "    return(cat(\"modulus=\", y, \", Integer division=\", i)) # modulus\n",
    "}\n",
    "\n",
    "# I want modulus(y, x) to give me 'y mod x' for any integers y and x.\n",
    "out3 <- modulus3(9, 2)\n",
    "\n",
    "# Note that without printing out3, the result is already shown."
   ]
  },
  {
   "cell_type": "code",
   "execution_count": 84,
   "metadata": {},
   "outputs": [
    {
     "data": {
      "text/html": [
       "1"
      ],
      "text/latex": [
       "1"
      ],
      "text/markdown": [
       "1"
      ],
      "text/plain": [
       "[1] 1"
      ]
     },
     "metadata": {},
     "output_type": "display_data"
    }
   ],
   "source": [
    "9%%2"
   ]
  },
  {
   "cell_type": "code",
   "execution_count": 85,
   "metadata": {},
   "outputs": [
    {
     "data": {
      "text/html": [
       "4"
      ],
      "text/latex": [
       "4"
      ],
      "text/markdown": [
       "4"
      ],
      "text/plain": [
       "[1] 4"
      ]
     },
     "metadata": {},
     "output_type": "display_data"
    }
   ],
   "source": [
    "9%/%2"
   ]
  },
  {
   "cell_type": "code",
   "execution_count": null,
   "metadata": {},
   "outputs": [],
   "source": []
  }
 ],
 "metadata": {
  "kernelspec": {
   "display_name": "R",
   "language": "R",
   "name": "ir"
  },
  "language_info": {
   "codemirror_mode": "r",
   "file_extension": ".r",
   "mimetype": "text/x-r-source",
   "name": "R",
   "pygments_lexer": "r",
   "version": "3.6.1"
  }
 },
 "nbformat": 4,
 "nbformat_minor": 2
}
