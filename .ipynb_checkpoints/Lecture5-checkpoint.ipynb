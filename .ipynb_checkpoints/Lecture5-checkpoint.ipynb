{
 "cells": [
  {
   "cell_type": "markdown",
   "metadata": {},
   "source": [
    "# Lecture 5 Data management: Part II - Reshaping data\n",
    "This section describes how to prepare data for further analysis. There are situations when we need the <b>data frame</b> in a format that is different from the format in which we received it.\n",
    "- Subsetting data\n",
    "- Merging data\n",
    "- The reshape package*\n",
    "- aggregate( )\n",
    "\n",
    "<b style=\"color:red;\"> Attention!!! </b>\n",
    "\n",
    "Even explicitly mentioned data frames, [---] showed some operations using matrices.\n",
    "\n",
    "Many operations that work for matrices may not work properly for data frames. Problems mainly arise as data frames allow the columns to be of different data types while matrices do not.\n",
    "\n",
    "I included a section on matrix operations at the very end of the lecture notes.\n",
    "\n",
    "## 5.1 Subset data\n",
    "##### Common tasks\n",
    "- Select/delete columns\n",
    "- Select/delete rows with or without conditions\n",
    "- Select columns and rows with or without conditions\n",
    "\n",
    "##### Using\n",
    "- $\n",
    "- [ , ]\n",
    "- subset( ) Very powerful!\n",
    "- dplyr package\n",
    "\n",
    "##### Pick your favorite - one is enough."
   ]
  },
  {
   "cell_type": "code",
   "execution_count": 1,
   "metadata": {},
   "outputs": [
    {
     "data": {
      "text/html": [
       "<table>\n",
       "<thead><tr><th scope=col>names</th><th scope=col>score</th><th scope=col>student.no</th><th scope=col>pass</th></tr></thead>\n",
       "<tbody>\n",
       "\t<tr><td>Lucy     </td><td>67       </td><td>student 1</td><td> TRUE    </td></tr>\n",
       "\t<tr><td>John     </td><td>56       </td><td>student 2</td><td>FALSE    </td></tr>\n",
       "\t<tr><td>Mark     </td><td>87       </td><td>student 3</td><td> TRUE    </td></tr>\n",
       "\t<tr><td>Candy    </td><td>91       </td><td>student 4</td><td> TRUE    </td></tr>\n",
       "</tbody>\n",
       "</table>\n"
      ],
      "text/latex": [
       "\\begin{tabular}{r|llll}\n",
       " names & score & student.no & pass\\\\\n",
       "\\hline\n",
       "\t Lucy      & 67        & student 1 &  TRUE    \\\\\n",
       "\t John      & 56        & student 2 & FALSE    \\\\\n",
       "\t Mark      & 87        & student 3 &  TRUE    \\\\\n",
       "\t Candy     & 91        & student 4 &  TRUE    \\\\\n",
       "\\end{tabular}\n"
      ],
      "text/markdown": [
       "\n",
       "names | score | student.no | pass | \n",
       "|---|---|---|---|\n",
       "| Lucy      | 67        | student 1 |  TRUE     | \n",
       "| John      | 56        | student 2 | FALSE     | \n",
       "| Mark      | 87        | student 3 |  TRUE     | \n",
       "| Candy     | 91        | student 4 |  TRUE     | \n",
       "\n",
       "\n"
      ],
      "text/plain": [
       "  names score student.no pass \n",
       "1 Lucy  67    student 1   TRUE\n",
       "2 John  56    student 2  FALSE\n",
       "3 Mark  87    student 3   TRUE\n",
       "4 Candy 91    student 4   TRUE"
      ]
     },
     "metadata": {},
     "output_type": "display_data"
    },
    {
     "name": "stdout",
     "output_type": "stream",
     "text": [
      "'data.frame':\t4 obs. of  4 variables:\n",
      " $ names     : Factor w/ 4 levels \"Candy\",\"John\",..: 3 2 4 1\n",
      " $ score     : num  67 56 87 91\n",
      " $ student.no: chr  \"student 1\" \"student 2\" \"student 3\" \"student 4\"\n",
      " $ pass      : logi  TRUE FALSE TRUE TRUE\n"
     ]
    }
   ],
   "source": [
    "df <- data.frame(names = c(\"Lucy\", \"John\", \"Mark\", \"Candy\"),\n",
    "                score = c(67, 56, 87, 91))\n",
    "for (i in 1:4){\n",
    "    df$student.no[i] <- paste(\"student\", i)\n",
    "    df$pass[i] <- ifelse(df$score[i]>=60, TRUE, FALSE)\n",
    "}\n",
    "df\n",
    "str(df)"
   ]
  },
  {
   "cell_type": "markdown",
   "metadata": {},
   "source": [
    "### 5.1.0 $\n",
    "##### Can only pick one variable."
   ]
  },
  {
   "cell_type": "code",
   "execution_count": 2,
   "metadata": {},
   "outputs": [
    {
     "data": {
      "text/html": [
       "<ol class=list-inline>\n",
       "\t<li>'names'</li>\n",
       "\t<li>'score'</li>\n",
       "\t<li>'student.no'</li>\n",
       "\t<li>'pass'</li>\n",
       "</ol>\n"
      ],
      "text/latex": [
       "\\begin{enumerate*}\n",
       "\\item 'names'\n",
       "\\item 'score'\n",
       "\\item 'student.no'\n",
       "\\item 'pass'\n",
       "\\end{enumerate*}\n"
      ],
      "text/markdown": [
       "1. 'names'\n",
       "2. 'score'\n",
       "3. 'student.no'\n",
       "4. 'pass'\n",
       "\n",
       "\n"
      ],
      "text/plain": [
       "[1] \"names\"      \"score\"      \"student.no\" \"pass\"      "
      ]
     },
     "metadata": {},
     "output_type": "display_data"
    }
   ],
   "source": [
    "names(df)"
   ]
  },
  {
   "cell_type": "code",
   "execution_count": 3,
   "metadata": {},
   "outputs": [
    {
     "data": {
      "text/html": [
       "<ol class=list-inline>\n",
       "\t<li>Lucy</li>\n",
       "\t<li>John</li>\n",
       "\t<li>Mark</li>\n",
       "\t<li>Candy</li>\n",
       "</ol>\n",
       "\n",
       "<details>\n",
       "\t<summary style=display:list-item;cursor:pointer>\n",
       "\t\t<strong>Levels</strong>:\n",
       "\t</summary>\n",
       "\t<ol class=list-inline>\n",
       "\t\t<li>'Candy'</li>\n",
       "\t\t<li>'John'</li>\n",
       "\t\t<li>'Lucy'</li>\n",
       "\t\t<li>'Mark'</li>\n",
       "\t</ol>\n",
       "</details>"
      ],
      "text/latex": [
       "\\begin{enumerate*}\n",
       "\\item Lucy\n",
       "\\item John\n",
       "\\item Mark\n",
       "\\item Candy\n",
       "\\end{enumerate*}\n",
       "\n",
       "\\emph{Levels}: \\begin{enumerate*}\n",
       "\\item 'Candy'\n",
       "\\item 'John'\n",
       "\\item 'Lucy'\n",
       "\\item 'Mark'\n",
       "\\end{enumerate*}\n"
      ],
      "text/markdown": [
       "1. Lucy\n",
       "2. John\n",
       "3. Mark\n",
       "4. Candy\n",
       "\n",
       "\n",
       "\n",
       "**Levels**: 1. 'Candy'\n",
       "2. 'John'\n",
       "3. 'Lucy'\n",
       "4. 'Mark'\n",
       "\n",
       "\n"
      ],
      "text/plain": [
       "[1] Lucy  John  Mark  Candy\n",
       "Levels: Candy John Lucy Mark"
      ]
     },
     "metadata": {},
     "output_type": "display_data"
    }
   ],
   "source": [
    "# Recall the indexing system in R\n",
    "df$names   # Select one variable"
   ]
  },
  {
   "cell_type": "code",
   "execution_count": 4,
   "metadata": {},
   "outputs": [
    {
     "data": {
      "text/html": [
       "<table>\n",
       "<thead><tr><th scope=col>score</th><th scope=col>student.no</th><th scope=col>pass</th></tr></thead>\n",
       "<tbody>\n",
       "\t<tr><td>67       </td><td>student 1</td><td> TRUE    </td></tr>\n",
       "\t<tr><td>56       </td><td>student 2</td><td>FALSE    </td></tr>\n",
       "\t<tr><td>87       </td><td>student 3</td><td> TRUE    </td></tr>\n",
       "\t<tr><td>91       </td><td>student 4</td><td> TRUE    </td></tr>\n",
       "</tbody>\n",
       "</table>\n"
      ],
      "text/latex": [
       "\\begin{tabular}{r|lll}\n",
       " score & student.no & pass\\\\\n",
       "\\hline\n",
       "\t 67        & student 1 &  TRUE    \\\\\n",
       "\t 56        & student 2 & FALSE    \\\\\n",
       "\t 87        & student 3 &  TRUE    \\\\\n",
       "\t 91        & student 4 &  TRUE    \\\\\n",
       "\\end{tabular}\n"
      ],
      "text/markdown": [
       "\n",
       "score | student.no | pass | \n",
       "|---|---|---|---|\n",
       "| 67        | student 1 |  TRUE     | \n",
       "| 56        | student 2 | FALSE     | \n",
       "| 87        | student 3 |  TRUE     | \n",
       "| 91        | student 4 |  TRUE     | \n",
       "\n",
       "\n"
      ],
      "text/plain": [
       "  score student.no pass \n",
       "1 67    student 1   TRUE\n",
       "2 56    student 2  FALSE\n",
       "3 87    student 3   TRUE\n",
       "4 91    student 4   TRUE"
      ]
     },
     "metadata": {},
     "output_type": "display_data"
    }
   ],
   "source": [
    "# Delete one variable\n",
    "df.copy <- df\n",
    "df.copy$names <- NULL\n",
    "df.copy"
   ]
  },
  {
   "cell_type": "markdown",
   "metadata": {},
   "source": [
    "### 5.1.1 [ , ]\n",
    "##### Not shown here, but remember that we can use indices, e.g. df[ , 1]"
   ]
  },
  {
   "cell_type": "code",
   "execution_count": 5,
   "metadata": {
    "scrolled": true
   },
   "outputs": [
    {
     "data": {
      "text/html": [
       "<ol class=list-inline>\n",
       "\t<li>67</li>\n",
       "\t<li>56</li>\n",
       "\t<li>87</li>\n",
       "\t<li>91</li>\n",
       "</ol>\n"
      ],
      "text/latex": [
       "\\begin{enumerate*}\n",
       "\\item 67\n",
       "\\item 56\n",
       "\\item 87\n",
       "\\item 91\n",
       "\\end{enumerate*}\n"
      ],
      "text/markdown": [
       "1. 67\n",
       "2. 56\n",
       "3. 87\n",
       "4. 91\n",
       "\n",
       "\n"
      ],
      "text/plain": [
       "[1] 67 56 87 91"
      ]
     },
     "metadata": {},
     "output_type": "display_data"
    }
   ],
   "source": [
    "df[ , \"score\"]"
   ]
  },
  {
   "cell_type": "code",
   "execution_count": 6,
   "metadata": {},
   "outputs": [
    {
     "name": "stdout",
     "output_type": "stream",
     "text": [
      " num [1:4] 67 56 87 91\n"
     ]
    }
   ],
   "source": [
    "str(df[ , \"score\"])   # 1D vector"
   ]
  },
  {
   "cell_type": "code",
   "execution_count": 7,
   "metadata": {
    "scrolled": false
   },
   "outputs": [
    {
     "data": {
      "text/html": [
       "<table>\n",
       "<thead><tr><th scope=col>score</th></tr></thead>\n",
       "<tbody>\n",
       "\t<tr><td>67</td></tr>\n",
       "\t<tr><td>56</td></tr>\n",
       "\t<tr><td>87</td></tr>\n",
       "\t<tr><td>91</td></tr>\n",
       "</tbody>\n",
       "</table>\n"
      ],
      "text/latex": [
       "\\begin{tabular}{r|l}\n",
       " score\\\\\n",
       "\\hline\n",
       "\t 67\\\\\n",
       "\t 56\\\\\n",
       "\t 87\\\\\n",
       "\t 91\\\\\n",
       "\\end{tabular}\n"
      ],
      "text/markdown": [
       "\n",
       "score | \n",
       "|---|---|---|---|\n",
       "| 67 | \n",
       "| 56 | \n",
       "| 87 | \n",
       "| 91 | \n",
       "\n",
       "\n"
      ],
      "text/plain": [
       "  score\n",
       "1 67   \n",
       "2 56   \n",
       "3 87   \n",
       "4 91   "
      ]
     },
     "metadata": {},
     "output_type": "display_data"
    },
    {
     "name": "stdout",
     "output_type": "stream",
     "text": [
      "'data.frame':\t4 obs. of  1 variable:\n",
      " $ score: num  67 56 87 91\n"
     ]
    }
   ],
   "source": [
    "df[ , \"score\", drop = FALSE]\n",
    "str(df[ , \"score\", drop = FALSE])   # 4 x 1 data frame\n",
    "# The argument \"drop = FALSE\" maintains the original dimension\n",
    "# The default is true"
   ]
  },
  {
   "cell_type": "code",
   "execution_count": 8,
   "metadata": {
    "scrolled": true
   },
   "outputs": [
    {
     "data": {
      "text/html": [
       "<table>\n",
       "<thead><tr><th scope=col>names</th><th scope=col>score</th><th scope=col>student.no</th><th scope=col>pass</th></tr></thead>\n",
       "<tbody>\n",
       "\t<tr><td>Lucy     </td><td>67       </td><td>student 1</td><td>TRUE     </td></tr>\n",
       "</tbody>\n",
       "</table>\n"
      ],
      "text/latex": [
       "\\begin{tabular}{r|llll}\n",
       " names & score & student.no & pass\\\\\n",
       "\\hline\n",
       "\t Lucy      & 67        & student 1 & TRUE     \\\\\n",
       "\\end{tabular}\n"
      ],
      "text/markdown": [
       "\n",
       "names | score | student.no | pass | \n",
       "|---|\n",
       "| Lucy      | 67        | student 1 | TRUE      | \n",
       "\n",
       "\n"
      ],
      "text/plain": [
       "  names score student.no pass\n",
       "1 Lucy  67    student 1  TRUE"
      ]
     },
     "metadata": {},
     "output_type": "display_data"
    },
    {
     "name": "stdout",
     "output_type": "stream",
     "text": [
      "'data.frame':\t1 obs. of  4 variables:\n",
      " $ names     : Factor w/ 4 levels \"Candy\",\"John\",..: 3\n",
      " $ score     : num 67\n",
      " $ student.no: chr \"student 1\"\n",
      " $ pass      : logi TRUE\n"
     ]
    }
   ],
   "source": [
    "df[1, ]\n",
    "str(df[1, ])   # 1 x 4 data frame\n",
    "# Can we drop a dimension here? Why?"
   ]
  },
  {
   "cell_type": "code",
   "execution_count": 49,
   "metadata": {},
   "outputs": [
    {
     "data": {
      "text/html": [
       "<dl>\n",
       "\t<dt>$names</dt>\n",
       "\t\t<dd>Lucy\n",
       "<details>\n",
       "\t<summary style=display:list-item;cursor:pointer>\n",
       "\t\t<strong>Levels</strong>:\n",
       "\t</summary>\n",
       "\t<ol class=list-inline>\n",
       "\t\t<li>'Candy'</li>\n",
       "\t\t<li>'John'</li>\n",
       "\t\t<li>'Lucy'</li>\n",
       "\t\t<li>'Mark'</li>\n",
       "\t</ol>\n",
       "</details></dd>\n",
       "\t<dt>$score</dt>\n",
       "\t\t<dd>67</dd>\n",
       "\t<dt>$student.no</dt>\n",
       "\t\t<dd>'student 1'</dd>\n",
       "\t<dt>$pass</dt>\n",
       "\t\t<dd>TRUE</dd>\n",
       "</dl>\n"
      ],
      "text/latex": [
       "\\begin{description}\n",
       "\\item[\\$names] Lucy\n",
       "\\emph{Levels}: \\begin{enumerate*}\n",
       "\\item 'Candy'\n",
       "\\item 'John'\n",
       "\\item 'Lucy'\n",
       "\\item 'Mark'\n",
       "\\end{enumerate*}\n",
       "\n",
       "\\item[\\$score] 67\n",
       "\\item[\\$student.no] 'student 1'\n",
       "\\item[\\$pass] TRUE\n",
       "\\end{description}\n"
      ],
      "text/markdown": [
       "$names\n",
       ":   Lucy\n",
       "**Levels**: 1. 'Candy'\n",
       "2. 'John'\n",
       "3. 'Lucy'\n",
       "4. 'Mark'\n",
       "\n",
       "\n",
       "\n",
       "$score\n",
       ":   67\n",
       "$student.no\n",
       ":   'student 1'\n",
       "$pass\n",
       ":   TRUE\n",
       "\n",
       "\n"
      ],
      "text/plain": [
       "$names\n",
       "[1] Lucy\n",
       "Levels: Candy John Lucy Mark\n",
       "\n",
       "$score\n",
       "[1] 67\n",
       "\n",
       "$student.no\n",
       "[1] \"student 1\"\n",
       "\n",
       "$pass\n",
       "[1] TRUE\n"
      ]
     },
     "metadata": {},
     "output_type": "display_data"
    }
   ],
   "source": [
    "df[1, , drop = TRUE]"
   ]
  },
  {
   "cell_type": "markdown",
   "metadata": {},
   "source": [
    "##### Any advantage of an n x 1 data frame over a vector of length n? <==> Is the drop argument useful?"
   ]
  },
  {
   "cell_type": "code",
   "execution_count": 9,
   "metadata": {
    "scrolled": true
   },
   "outputs": [
    {
     "data": {
      "text/html": [
       "<table>\n",
       "<thead><tr><th scope=col>student.no</th><th scope=col>score</th><th scope=col>pass</th></tr></thead>\n",
       "<tbody>\n",
       "\t<tr><td>student 1</td><td>67       </td><td> TRUE    </td></tr>\n",
       "\t<tr><td>student 2</td><td>56       </td><td>FALSE    </td></tr>\n",
       "\t<tr><td>student 3</td><td>87       </td><td> TRUE    </td></tr>\n",
       "\t<tr><td>student 4</td><td>91       </td><td> TRUE    </td></tr>\n",
       "</tbody>\n",
       "</table>\n"
      ],
      "text/latex": [
       "\\begin{tabular}{r|lll}\n",
       " student.no & score & pass\\\\\n",
       "\\hline\n",
       "\t student 1 & 67        &  TRUE    \\\\\n",
       "\t student 2 & 56        & FALSE    \\\\\n",
       "\t student 3 & 87        &  TRUE    \\\\\n",
       "\t student 4 & 91        &  TRUE    \\\\\n",
       "\\end{tabular}\n"
      ],
      "text/markdown": [
       "\n",
       "student.no | score | pass | \n",
       "|---|---|---|---|\n",
       "| student 1 | 67        |  TRUE     | \n",
       "| student 2 | 56        | FALSE     | \n",
       "| student 3 | 87        |  TRUE     | \n",
       "| student 4 | 91        |  TRUE     | \n",
       "\n",
       "\n"
      ],
      "text/plain": [
       "  student.no score pass \n",
       "1 student 1  67     TRUE\n",
       "2 student 2  56    FALSE\n",
       "3 student 3  87     TRUE\n",
       "4 student 4  91     TRUE"
      ]
     },
     "metadata": {},
     "output_type": "display_data"
    }
   ],
   "source": [
    "df[ , c(\"student.no\", \"score\", \"pass\")]\n",
    "# Delete variable \"names\" + reorder columns"
   ]
  },
  {
   "cell_type": "code",
   "execution_count": 10,
   "metadata": {},
   "outputs": [
    {
     "data": {
      "text/html": [
       "<table>\n",
       "<thead><tr><th></th><th scope=col>names</th><th scope=col>score</th><th scope=col>student.no</th><th scope=col>pass</th></tr></thead>\n",
       "<tbody>\n",
       "\t<tr><th scope=row>1</th><td>Lucy     </td><td>67       </td><td>student 1</td><td>TRUE     </td></tr>\n",
       "\t<tr><th scope=row>3</th><td>Mark     </td><td>87       </td><td>student 3</td><td>TRUE     </td></tr>\n",
       "\t<tr><th scope=row>4</th><td>Candy    </td><td>91       </td><td>student 4</td><td>TRUE     </td></tr>\n",
       "</tbody>\n",
       "</table>\n"
      ],
      "text/latex": [
       "\\begin{tabular}{r|llll}\n",
       "  & names & score & student.no & pass\\\\\n",
       "\\hline\n",
       "\t1 & Lucy      & 67        & student 1 & TRUE     \\\\\n",
       "\t3 & Mark      & 87        & student 3 & TRUE     \\\\\n",
       "\t4 & Candy     & 91        & student 4 & TRUE     \\\\\n",
       "\\end{tabular}\n"
      ],
      "text/markdown": [
       "\n",
       "| <!--/--> | names | score | student.no | pass | \n",
       "|---|---|---|\n",
       "| 1 | Lucy      | 67        | student 1 | TRUE      | \n",
       "| 3 | Mark      | 87        | student 3 | TRUE      | \n",
       "| 4 | Candy     | 91        | student 4 | TRUE      | \n",
       "\n",
       "\n"
      ],
      "text/plain": [
       "  names score student.no pass\n",
       "1 Lucy  67    student 1  TRUE\n",
       "3 Mark  87    student 3  TRUE\n",
       "4 Candy 91    student 4  TRUE"
      ]
     },
     "metadata": {},
     "output_type": "display_data"
    }
   ],
   "source": [
    "# Select rows that passed\n",
    "df[df$pass == TRUE, ]"
   ]
  },
  {
   "cell_type": "code",
   "execution_count": 11,
   "metadata": {
    "scrolled": true
   },
   "outputs": [
    {
     "data": {
      "text/html": [
       "<table>\n",
       "<thead><tr><th></th><th scope=col>names</th><th scope=col>score</th></tr></thead>\n",
       "<tbody>\n",
       "\t<tr><th scope=row>3</th><td>Mark </td><td>87   </td></tr>\n",
       "\t<tr><th scope=row>4</th><td>Candy</td><td>91   </td></tr>\n",
       "</tbody>\n",
       "</table>\n"
      ],
      "text/latex": [
       "\\begin{tabular}{r|ll}\n",
       "  & names & score\\\\\n",
       "\\hline\n",
       "\t3 & Mark  & 87   \\\\\n",
       "\t4 & Candy & 91   \\\\\n",
       "\\end{tabular}\n"
      ],
      "text/markdown": [
       "\n",
       "| <!--/--> | names | score | \n",
       "|---|---|\n",
       "| 3 | Mark  | 87    | \n",
       "| 4 | Candy | 91    | \n",
       "\n",
       "\n"
      ],
      "text/plain": [
       "  names score\n",
       "3 Mark  87   \n",
       "4 Candy 91   "
      ]
     },
     "metadata": {},
     "output_type": "display_data"
    }
   ],
   "source": [
    "# Show the name and score of those who passed except Lucy(s).\n",
    "df[df$pass == TRUE & df$names != \"Lucy\", c(\"names\", \"score\")]"
   ]
  },
  {
   "cell_type": "code",
   "execution_count": 12,
   "metadata": {
    "scrolled": false
   },
   "outputs": [
    {
     "data": {
      "text/html": [
       "<ol class=list-inline>\n",
       "\t<li>Mark</li>\n",
       "\t<li>Candy</li>\n",
       "</ol>\n",
       "\n",
       "<details>\n",
       "\t<summary style=display:list-item;cursor:pointer>\n",
       "\t\t<strong>Levels</strong>:\n",
       "\t</summary>\n",
       "\t<ol class=list-inline>\n",
       "\t\t<li>'Candy'</li>\n",
       "\t\t<li>'John'</li>\n",
       "\t\t<li>'Lucy'</li>\n",
       "\t\t<li>'Mark'</li>\n",
       "\t</ol>\n",
       "</details>"
      ],
      "text/latex": [
       "\\begin{enumerate*}\n",
       "\\item Mark\n",
       "\\item Candy\n",
       "\\end{enumerate*}\n",
       "\n",
       "\\emph{Levels}: \\begin{enumerate*}\n",
       "\\item 'Candy'\n",
       "\\item 'John'\n",
       "\\item 'Lucy'\n",
       "\\item 'Mark'\n",
       "\\end{enumerate*}\n"
      ],
      "text/markdown": [
       "1. Mark\n",
       "2. Candy\n",
       "\n",
       "\n",
       "\n",
       "**Levels**: 1. 'Candy'\n",
       "2. 'John'\n",
       "3. 'Lucy'\n",
       "4. 'Mark'\n",
       "\n",
       "\n"
      ],
      "text/plain": [
       "[1] Mark  Candy\n",
       "Levels: Candy John Lucy Mark"
      ]
     },
     "metadata": {},
     "output_type": "display_data"
    }
   ],
   "source": [
    "df[df$pass == TRUE & df$names != \"Lucy\", ]$names"
   ]
  },
  {
   "cell_type": "code",
   "execution_count": 13,
   "metadata": {
    "scrolled": true
   },
   "outputs": [
    {
     "data": {
      "text/html": [
       "<table>\n",
       "<thead><tr><th scope=col>student.no</th><th scope=col>pass</th></tr></thead>\n",
       "<tbody>\n",
       "\t<tr><td>student 1</td><td> TRUE    </td></tr>\n",
       "\t<tr><td>student 2</td><td>FALSE    </td></tr>\n",
       "\t<tr><td>student 3</td><td> TRUE    </td></tr>\n",
       "\t<tr><td>student 4</td><td> TRUE    </td></tr>\n",
       "</tbody>\n",
       "</table>\n"
      ],
      "text/latex": [
       "\\begin{tabular}{r|ll}\n",
       " student.no & pass\\\\\n",
       "\\hline\n",
       "\t student 1 &  TRUE    \\\\\n",
       "\t student 2 & FALSE    \\\\\n",
       "\t student 3 &  TRUE    \\\\\n",
       "\t student 4 &  TRUE    \\\\\n",
       "\\end{tabular}\n"
      ],
      "text/markdown": [
       "\n",
       "student.no | pass | \n",
       "|---|---|---|---|\n",
       "| student 1 |  TRUE     | \n",
       "| student 2 | FALSE     | \n",
       "| student 3 |  TRUE     | \n",
       "| student 4 |  TRUE     | \n",
       "\n",
       "\n"
      ],
      "text/plain": [
       "  student.no pass \n",
       "1 student 1   TRUE\n",
       "2 student 2  FALSE\n",
       "3 student 3   TRUE\n",
       "4 student 4   TRUE"
      ]
     },
     "metadata": {},
     "output_type": "display_data"
    }
   ],
   "source": [
    "# Delete variable\n",
    "df[ , -c(1, 2)]   # Delete the 1st and 2nd"
   ]
  },
  {
   "cell_type": "code",
   "execution_count": 14,
   "metadata": {
    "scrolled": true
   },
   "outputs": [
    {
     "data": {
      "text/html": [
       "<table>\n",
       "<thead><tr><th scope=col>student.no</th><th scope=col>pass</th></tr></thead>\n",
       "<tbody>\n",
       "\t<tr><td>student 1</td><td> TRUE    </td></tr>\n",
       "\t<tr><td>student 2</td><td>FALSE    </td></tr>\n",
       "\t<tr><td>student 3</td><td> TRUE    </td></tr>\n",
       "\t<tr><td>student 4</td><td> TRUE    </td></tr>\n",
       "</tbody>\n",
       "</table>\n"
      ],
      "text/latex": [
       "\\begin{tabular}{r|ll}\n",
       " student.no & pass\\\\\n",
       "\\hline\n",
       "\t student 1 &  TRUE    \\\\\n",
       "\t student 2 & FALSE    \\\\\n",
       "\t student 3 &  TRUE    \\\\\n",
       "\t student 4 &  TRUE    \\\\\n",
       "\\end{tabular}\n"
      ],
      "text/markdown": [
       "\n",
       "student.no | pass | \n",
       "|---|---|---|---|\n",
       "| student 1 |  TRUE     | \n",
       "| student 2 | FALSE     | \n",
       "| student 3 |  TRUE     | \n",
       "| student 4 |  TRUE     | \n",
       "\n",
       "\n"
      ],
      "text/plain": [
       "  student.no pass \n",
       "1 student 1   TRUE\n",
       "2 student 2  FALSE\n",
       "3 student 3   TRUE\n",
       "4 student 4   TRUE"
      ]
     },
     "metadata": {},
     "output_type": "display_data"
    }
   ],
   "source": [
    "# I believe that this used to work, but not anymore.\n",
    "# df[ , -c(\"names\", \"score\")]\n",
    "\n",
    "# Now\n",
    "drop <- c(\"names\", \"score\")\n",
    "df[ , !names(df) %in% drop]"
   ]
  },
  {
   "cell_type": "code",
   "execution_count": 15,
   "metadata": {
    "scrolled": true
   },
   "outputs": [
    {
     "data": {
      "text/html": [
       "<table>\n",
       "<thead><tr><th scope=col>student.no</th><th scope=col>pass</th></tr></thead>\n",
       "<tbody>\n",
       "\t<tr><td>student 1</td><td> TRUE    </td></tr>\n",
       "\t<tr><td>student 2</td><td>FALSE    </td></tr>\n",
       "\t<tr><td>student 3</td><td> TRUE    </td></tr>\n",
       "\t<tr><td>student 4</td><td> TRUE    </td></tr>\n",
       "</tbody>\n",
       "</table>\n"
      ],
      "text/latex": [
       "\\begin{tabular}{r|ll}\n",
       " student.no & pass\\\\\n",
       "\\hline\n",
       "\t student 1 &  TRUE    \\\\\n",
       "\t student 2 & FALSE    \\\\\n",
       "\t student 3 &  TRUE    \\\\\n",
       "\t student 4 &  TRUE    \\\\\n",
       "\\end{tabular}\n"
      ],
      "text/markdown": [
       "\n",
       "student.no | pass | \n",
       "|---|---|---|---|\n",
       "| student 1 |  TRUE     | \n",
       "| student 2 | FALSE     | \n",
       "| student 3 |  TRUE     | \n",
       "| student 4 |  TRUE     | \n",
       "\n",
       "\n"
      ],
      "text/plain": [
       "  student.no pass \n",
       "1 student 1   TRUE\n",
       "2 student 2  FALSE\n",
       "3 student 3   TRUE\n",
       "4 student 4   TRUE"
      ]
     },
     "metadata": {},
     "output_type": "display_data"
    }
   ],
   "source": [
    "select = c(\"student.no\", \"pass\")\n",
    "df[ , names(df) %in% select]"
   ]
  },
  {
   "cell_type": "code",
   "execution_count": 16,
   "metadata": {
    "scrolled": true
   },
   "outputs": [
    {
     "data": {
      "text/html": [
       "TRUE"
      ],
      "text/latex": [
       "TRUE"
      ],
      "text/markdown": [
       "TRUE"
      ],
      "text/plain": [
       "[1] TRUE"
      ]
     },
     "metadata": {},
     "output_type": "display_data"
    },
    {
     "data": {
      "text/html": [
       "FALSE"
      ],
      "text/latex": [
       "FALSE"
      ],
      "text/markdown": [
       "FALSE"
      ],
      "text/plain": [
       "[1] FALSE"
      ]
     },
     "metadata": {},
     "output_type": "display_data"
    },
    {
     "data": {
      "text/html": [
       "<ol class=list-inline>\n",
       "\t<li>TRUE</li>\n",
       "\t<li>FALSE</li>\n",
       "\t<li>TRUE</li>\n",
       "\t<li>FALSE</li>\n",
       "\t<li>TRUE</li>\n",
       "\t<li>FALSE</li>\n",
       "\t<li>FALSE</li>\n",
       "\t<li>FALSE</li>\n",
       "\t<li>FALSE</li>\n",
       "\t<li>FALSE</li>\n",
       "</ol>\n"
      ],
      "text/latex": [
       "\\begin{enumerate*}\n",
       "\\item TRUE\n",
       "\\item FALSE\n",
       "\\item TRUE\n",
       "\\item FALSE\n",
       "\\item TRUE\n",
       "\\item FALSE\n",
       "\\item FALSE\n",
       "\\item FALSE\n",
       "\\item FALSE\n",
       "\\item FALSE\n",
       "\\end{enumerate*}\n"
      ],
      "text/markdown": [
       "1. TRUE\n",
       "2. FALSE\n",
       "3. TRUE\n",
       "4. FALSE\n",
       "5. TRUE\n",
       "6. FALSE\n",
       "7. FALSE\n",
       "8. FALSE\n",
       "9. FALSE\n",
       "10. FALSE\n",
       "\n",
       "\n"
      ],
      "text/plain": [
       " [1]  TRUE FALSE  TRUE FALSE  TRUE FALSE FALSE FALSE FALSE FALSE"
      ]
     },
     "metadata": {},
     "output_type": "display_data"
    }
   ],
   "source": [
    "# How does this work?\n",
    "1 %in% c(1, 3, 5)\n",
    "\"b\" %in% c(\"a\", \"c\", \"e\")\n",
    "1:10 %in% c(1, 3, 5)"
   ]
  },
  {
   "cell_type": "markdown",
   "metadata": {},
   "source": [
    "##### a %in% b checks whether $a\\in b$ for every single entry in a."
   ]
  },
  {
   "cell_type": "markdown",
   "metadata": {},
   "source": [
    "### 5.1.2 subset( )"
   ]
  },
  {
   "cell_type": "code",
   "execution_count": 50,
   "metadata": {
    "scrolled": true
   },
   "outputs": [
    {
     "data": {
      "text/html": [
       "<table>\n",
       "<thead><tr><th scope=col>student.no</th><th scope=col>pass</th></tr></thead>\n",
       "<tbody>\n",
       "\t<tr><td>student 1</td><td> TRUE    </td></tr>\n",
       "\t<tr><td>student 2</td><td>FALSE    </td></tr>\n",
       "\t<tr><td>student 3</td><td> TRUE    </td></tr>\n",
       "\t<tr><td>student 4</td><td> TRUE    </td></tr>\n",
       "</tbody>\n",
       "</table>\n"
      ],
      "text/latex": [
       "\\begin{tabular}{r|ll}\n",
       " student.no & pass\\\\\n",
       "\\hline\n",
       "\t student 1 &  TRUE    \\\\\n",
       "\t student 2 & FALSE    \\\\\n",
       "\t student 3 &  TRUE    \\\\\n",
       "\t student 4 &  TRUE    \\\\\n",
       "\\end{tabular}\n"
      ],
      "text/markdown": [
       "\n",
       "student.no | pass | \n",
       "|---|---|---|---|\n",
       "| student 1 |  TRUE     | \n",
       "| student 2 | FALSE     | \n",
       "| student 3 |  TRUE     | \n",
       "| student 4 |  TRUE     | \n",
       "\n",
       "\n"
      ],
      "text/plain": [
       "  student.no pass \n",
       "1 student 1   TRUE\n",
       "2 student 2  FALSE\n",
       "3 student 3   TRUE\n",
       "4 student 4   TRUE"
      ]
     },
     "metadata": {},
     "output_type": "display_data"
    }
   ],
   "source": [
    "# \"select\" argument selects columns\n",
    "subset(df, select = c(student.no, pass))"
   ]
  },
  {
   "cell_type": "code",
   "execution_count": 18,
   "metadata": {
    "scrolled": true
   },
   "outputs": [
    {
     "data": {
      "text/html": [
       "<table>\n",
       "<thead><tr><th scope=col>student.no</th><th scope=col>pass</th></tr></thead>\n",
       "<tbody>\n",
       "\t<tr><td>student 1</td><td> TRUE    </td></tr>\n",
       "\t<tr><td>student 2</td><td>FALSE    </td></tr>\n",
       "\t<tr><td>student 3</td><td> TRUE    </td></tr>\n",
       "\t<tr><td>student 4</td><td> TRUE    </td></tr>\n",
       "</tbody>\n",
       "</table>\n"
      ],
      "text/latex": [
       "\\begin{tabular}{r|ll}\n",
       " student.no & pass\\\\\n",
       "\\hline\n",
       "\t student 1 &  TRUE    \\\\\n",
       "\t student 2 & FALSE    \\\\\n",
       "\t student 3 &  TRUE    \\\\\n",
       "\t student 4 &  TRUE    \\\\\n",
       "\\end{tabular}\n"
      ],
      "text/markdown": [
       "\n",
       "student.no | pass | \n",
       "|---|---|---|---|\n",
       "| student 1 |  TRUE     | \n",
       "| student 2 | FALSE     | \n",
       "| student 3 |  TRUE     | \n",
       "| student 4 |  TRUE     | \n",
       "\n",
       "\n"
      ],
      "text/plain": [
       "  student.no pass \n",
       "1 student 1   TRUE\n",
       "2 student 2  FALSE\n",
       "3 student 3   TRUE\n",
       "4 student 4   TRUE"
      ]
     },
     "metadata": {},
     "output_type": "display_data"
    }
   ],
   "source": [
    "# Can also delete unwanted columns\n",
    "subset(df, select = -c(names, score))"
   ]
  },
  {
   "cell_type": "code",
   "execution_count": 19,
   "metadata": {
    "scrolled": false
   },
   "outputs": [
    {
     "data": {
      "text/html": [
       "<table>\n",
       "<thead><tr><th></th><th scope=col>names</th><th scope=col>score</th><th scope=col>student.no</th><th scope=col>pass</th></tr></thead>\n",
       "<tbody>\n",
       "\t<tr><th scope=row>3</th><td>Mark     </td><td>87       </td><td>student 3</td><td>TRUE     </td></tr>\n",
       "\t<tr><th scope=row>4</th><td>Candy    </td><td>91       </td><td>student 4</td><td>TRUE     </td></tr>\n",
       "</tbody>\n",
       "</table>\n"
      ],
      "text/latex": [
       "\\begin{tabular}{r|llll}\n",
       "  & names & score & student.no & pass\\\\\n",
       "\\hline\n",
       "\t3 & Mark      & 87        & student 3 & TRUE     \\\\\n",
       "\t4 & Candy     & 91        & student 4 & TRUE     \\\\\n",
       "\\end{tabular}\n"
      ],
      "text/markdown": [
       "\n",
       "| <!--/--> | names | score | student.no | pass | \n",
       "|---|---|\n",
       "| 3 | Mark      | 87        | student 3 | TRUE      | \n",
       "| 4 | Candy     | 91        | student 4 | TRUE      | \n",
       "\n",
       "\n"
      ],
      "text/plain": [
       "  names score student.no pass\n",
       "3 Mark  87    student 3  TRUE\n",
       "4 Candy 91    student 4  TRUE"
      ]
     },
     "metadata": {},
     "output_type": "display_data"
    }
   ],
   "source": [
    "# \"subset\" argument selects rows\n",
    "# Can apply conditions\n",
    "subset(df, subset = (score > 80))"
   ]
  },
  {
   "cell_type": "code",
   "execution_count": 20,
   "metadata": {},
   "outputs": [
    {
     "data": {
      "text/html": [
       "<table>\n",
       "<thead><tr><th></th><th scope=col>names</th></tr></thead>\n",
       "<tbody>\n",
       "\t<tr><th scope=row>1</th><td>Lucy </td></tr>\n",
       "\t<tr><th scope=row>3</th><td>Mark </td></tr>\n",
       "\t<tr><th scope=row>4</th><td>Candy</td></tr>\n",
       "</tbody>\n",
       "</table>\n"
      ],
      "text/latex": [
       "\\begin{tabular}{r|l}\n",
       "  & names\\\\\n",
       "\\hline\n",
       "\t1 & Lucy \\\\\n",
       "\t3 & Mark \\\\\n",
       "\t4 & Candy\\\\\n",
       "\\end{tabular}\n"
      ],
      "text/markdown": [
       "\n",
       "| <!--/--> | names | \n",
       "|---|---|---|\n",
       "| 1 | Lucy  | \n",
       "| 3 | Mark  | \n",
       "| 4 | Candy | \n",
       "\n",
       "\n"
      ],
      "text/plain": [
       "  names\n",
       "1 Lucy \n",
       "3 Mark \n",
       "4 Candy"
      ]
     },
     "metadata": {},
     "output_type": "display_data"
    }
   ],
   "source": [
    "# Now use both select and subset arguments to apply conditions\n",
    "# Select the names of those who passed\n",
    "subset(df, select = names, subset = (pass == TRUE))"
   ]
  },
  {
   "cell_type": "code",
   "execution_count": 52,
   "metadata": {},
   "outputs": [
    {
     "data": {
      "text/html": [
       "<table>\n",
       "<thead><tr><th></th><th scope=col>names</th><th scope=col>score</th></tr></thead>\n",
       "<tbody>\n",
       "\t<tr><th scope=row>3</th><td>Mark </td><td>87   </td></tr>\n",
       "\t<tr><th scope=row>4</th><td>Candy</td><td>91   </td></tr>\n",
       "</tbody>\n",
       "</table>\n"
      ],
      "text/latex": [
       "\\begin{tabular}{r|ll}\n",
       "  & names & score\\\\\n",
       "\\hline\n",
       "\t3 & Mark  & 87   \\\\\n",
       "\t4 & Candy & 91   \\\\\n",
       "\\end{tabular}\n"
      ],
      "text/markdown": [
       "\n",
       "| <!--/--> | names | score | \n",
       "|---|---|\n",
       "| 3 | Mark  | 87    | \n",
       "| 4 | Candy | 91    | \n",
       "\n",
       "\n"
      ],
      "text/plain": [
       "  names score\n",
       "3 Mark  87   \n",
       "4 Candy 91   "
      ]
     },
     "metadata": {},
     "output_type": "display_data"
    }
   ],
   "source": [
    "# Show the name and score of those who passed except Lucy(s).\n",
    "subset(df, select = c(names, score),\n",
    "       subset = (pass == TRUE & names != \"Lucy\"))\n",
    "# Recall logical operators &, | and !"
   ]
  },
  {
   "cell_type": "markdown",
   "metadata": {},
   "source": [
    "##### Note that all subsets are still data frames."
   ]
  },
  {
   "cell_type": "markdown",
   "metadata": {},
   "source": [
    "### 5.1.3 dplyr package\n",
    "- I do not use this package.\n",
    "- [---] tells me that it is really powerful.\n",
    "    - It only taught one function though.\n",
    "- So I have to teach it.\n",
    "- How?\n",
    "- This will be a tutorial on how to study new packages and functions.\n",
    "\n",
    "#### Resources\n",
    "- Any course material that you have access to.\n",
    "- Package documentation written by the package developers (required)\n",
    "    - Overview of the package.\n",
    "    - Help files of all the functions inside the package.\n",
    "- Google!\n",
    "\n",
    "#### Steps\n",
    "- Read the documents\n",
    "- Run the package's example codes on their demo datasets.\n",
    "- Test the functions on your own (simulated or real) data.\n",
    "- Google!\n",
    "- Back and forth in the previous steps."
   ]
  },
  {
   "cell_type": "code",
   "execution_count": 53,
   "metadata": {
    "scrolled": true
   },
   "outputs": [
    {
     "name": "stderr",
     "output_type": "stream",
     "text": [
      "\n",
      "Attaching package: ‘dplyr’\n",
      "\n",
      "The following objects are masked from ‘package:stats’:\n",
      "\n",
      "    filter, lag\n",
      "\n",
      "The following objects are masked from ‘package:base’:\n",
      "\n",
      "    intersect, setdiff, setequal, union\n",
      "\n"
     ]
    }
   ],
   "source": [
    "# Show the name and score of those who passed except Lucy(s).\n",
    "library(dplyr)"
   ]
  },
  {
   "cell_type": "code",
   "execution_count": 61,
   "metadata": {},
   "outputs": [
    {
     "data": {
      "text/html": [
       "<table>\n",
       "<thead><tr><th scope=col>names</th><th scope=col>score</th><th scope=col>student.no</th><th scope=col>pass</th></tr></thead>\n",
       "<tbody>\n",
       "\t<tr><td>Mark     </td><td>87       </td><td>student 3</td><td>TRUE     </td></tr>\n",
       "\t<tr><td>Candy    </td><td>91       </td><td>student 4</td><td>TRUE     </td></tr>\n",
       "</tbody>\n",
       "</table>\n"
      ],
      "text/latex": [
       "\\begin{tabular}{r|llll}\n",
       " names & score & student.no & pass\\\\\n",
       "\\hline\n",
       "\t Mark      & 87        & student 3 & TRUE     \\\\\n",
       "\t Candy     & 91        & student 4 & TRUE     \\\\\n",
       "\\end{tabular}\n"
      ],
      "text/markdown": [
       "\n",
       "names | score | student.no | pass | \n",
       "|---|---|\n",
       "| Mark      | 87        | student 3 | TRUE      | \n",
       "| Candy     | 91        | student 4 | TRUE      | \n",
       "\n",
       "\n"
      ],
      "text/plain": [
       "  names score student.no pass\n",
       "1 Mark  87    student 3  TRUE\n",
       "2 Candy 91    student 4  TRUE"
      ]
     },
     "metadata": {},
     "output_type": "display_data"
    },
    {
     "data": {
      "text/html": [
       "<table>\n",
       "<thead><tr><th scope=col>names</th><th scope=col>score</th></tr></thead>\n",
       "<tbody>\n",
       "\t<tr><td>Mark </td><td>87   </td></tr>\n",
       "\t<tr><td>Candy</td><td>91   </td></tr>\n",
       "</tbody>\n",
       "</table>\n"
      ],
      "text/latex": [
       "\\begin{tabular}{r|ll}\n",
       " names & score\\\\\n",
       "\\hline\n",
       "\t Mark  & 87   \\\\\n",
       "\t Candy & 91   \\\\\n",
       "\\end{tabular}\n"
      ],
      "text/markdown": [
       "\n",
       "names | score | \n",
       "|---|---|\n",
       "| Mark  | 87    | \n",
       "| Candy | 91    | \n",
       "\n",
       "\n"
      ],
      "text/plain": [
       "  names score\n",
       "1 Mark  87   \n",
       "2 Candy 91   "
      ]
     },
     "metadata": {},
     "output_type": "display_data"
    }
   ],
   "source": [
    "# Show the name and score of those who passed except Lucy(s).\n",
    "df.col <- filter(df, names != \"Lucy\" & pass == TRUE)\n",
    "df.col\n",
    "df.final <- select(df.col, c(names, score))\n",
    "df.final"
   ]
  },
  {
   "cell_type": "markdown",
   "metadata": {},
   "source": [
    "##### dplyr cheetsheet\n",
    "https://www.rstudio.com/wp-content/uploads/2015/02/data-wrangling-cheatsheet.pdf"
   ]
  },
  {
   "cell_type": "markdown",
   "metadata": {},
   "source": [
    "### 5.1.4 Keep/drop variables by name pattern\n",
    "- dplyr package\n",
    "- grep( ) family of functions that deals with text in R\n",
    "    - See [---] if interested.\n",
    "    - run ?grep"
   ]
  },
  {
   "cell_type": "markdown",
   "metadata": {},
   "source": [
    "## 5.2 Merge data\n",
    "### 5.2.1 Add cases/observations to a data frame\n",
    "This is basically adding rows."
   ]
  },
  {
   "cell_type": "code",
   "execution_count": 23,
   "metadata": {},
   "outputs": [
    {
     "data": {
      "text/html": [
       "<table>\n",
       "<thead><tr><th scope=col>names</th><th scope=col>score</th><th scope=col>student.no</th><th scope=col>pass</th></tr></thead>\n",
       "<tbody>\n",
       "\t<tr><td>Lucy     </td><td>67       </td><td>student 1</td><td> TRUE    </td></tr>\n",
       "\t<tr><td>John     </td><td>56       </td><td>student 2</td><td>FALSE    </td></tr>\n",
       "\t<tr><td>Mark     </td><td>87       </td><td>student 3</td><td> TRUE    </td></tr>\n",
       "\t<tr><td>Candy    </td><td>91       </td><td>student 4</td><td> TRUE    </td></tr>\n",
       "</tbody>\n",
       "</table>\n"
      ],
      "text/latex": [
       "\\begin{tabular}{r|llll}\n",
       " names & score & student.no & pass\\\\\n",
       "\\hline\n",
       "\t Lucy      & 67        & student 1 &  TRUE    \\\\\n",
       "\t John      & 56        & student 2 & FALSE    \\\\\n",
       "\t Mark      & 87        & student 3 &  TRUE    \\\\\n",
       "\t Candy     & 91        & student 4 &  TRUE    \\\\\n",
       "\\end{tabular}\n"
      ],
      "text/markdown": [
       "\n",
       "names | score | student.no | pass | \n",
       "|---|---|---|---|\n",
       "| Lucy      | 67        | student 1 |  TRUE     | \n",
       "| John      | 56        | student 2 | FALSE     | \n",
       "| Mark      | 87        | student 3 |  TRUE     | \n",
       "| Candy     | 91        | student 4 |  TRUE     | \n",
       "\n",
       "\n"
      ],
      "text/plain": [
       "  names score student.no pass \n",
       "1 Lucy  67    student 1   TRUE\n",
       "2 John  56    student 2  FALSE\n",
       "3 Mark  87    student 3   TRUE\n",
       "4 Candy 91    student 4   TRUE"
      ]
     },
     "metadata": {},
     "output_type": "display_data"
    }
   ],
   "source": [
    "df"
   ]
  },
  {
   "cell_type": "code",
   "execution_count": 24,
   "metadata": {
    "scrolled": true
   },
   "outputs": [
    {
     "data": {
      "text/html": [
       "<table>\n",
       "<thead><tr><th scope=col>names</th><th scope=col>score</th><th scope=col>student.no</th><th scope=col>pass</th></tr></thead>\n",
       "<tbody>\n",
       "\t<tr><td>[---]    </td><td>5        </td><td>student 0</td><td>TRUE     </td></tr>\n",
       "</tbody>\n",
       "</table>\n"
      ],
      "text/latex": [
       "\\begin{tabular}{r|llll}\n",
       " names & score & student.no & pass\\\\\n",
       "\\hline\n",
       "\t {[}---{]} & 5         & student 0 & TRUE     \\\\\n",
       "\\end{tabular}\n"
      ],
      "text/markdown": [
       "\n",
       "names | score | student.no | pass | \n",
       "|---|\n",
       "| [---]     | 5         | student 0 | TRUE      | \n",
       "\n",
       "\n"
      ],
      "text/plain": [
       "  names score student.no pass\n",
       "1 [---] 5     student 0  TRUE"
      ]
     },
     "metadata": {},
     "output_type": "display_data"
    }
   ],
   "source": [
    "new.student <- data.frame(names = \"[---]\",\n",
    "                          score = 5,\n",
    "                          student.no = \"student 0\",\n",
    "                          pass = TRUE)\n",
    "new.student"
   ]
  },
  {
   "cell_type": "code",
   "execution_count": 25,
   "metadata": {},
   "outputs": [
    {
     "data": {
      "text/html": [
       "<table>\n",
       "<thead><tr><th scope=col>names</th><th scope=col>score</th><th scope=col>student.no</th><th scope=col>pass</th></tr></thead>\n",
       "<tbody>\n",
       "\t<tr><td>Lucy     </td><td>67       </td><td>student 1</td><td> TRUE    </td></tr>\n",
       "\t<tr><td>John     </td><td>56       </td><td>student 2</td><td>FALSE    </td></tr>\n",
       "\t<tr><td>Mark     </td><td>87       </td><td>student 3</td><td> TRUE    </td></tr>\n",
       "\t<tr><td>Candy    </td><td>91       </td><td>student 4</td><td> TRUE    </td></tr>\n",
       "\t<tr><td>[---]    </td><td> 5       </td><td>student 0</td><td> TRUE    </td></tr>\n",
       "</tbody>\n",
       "</table>\n"
      ],
      "text/latex": [
       "\\begin{tabular}{r|llll}\n",
       " names & score & student.no & pass\\\\\n",
       "\\hline\n",
       "\t Lucy      & 67        & student 1 &  TRUE    \\\\\n",
       "\t John      & 56        & student 2 & FALSE    \\\\\n",
       "\t Mark      & 87        & student 3 &  TRUE    \\\\\n",
       "\t Candy     & 91        & student 4 &  TRUE    \\\\\n",
       "\t {[}---{]} &  5        & student 0 &  TRUE    \\\\\n",
       "\\end{tabular}\n"
      ],
      "text/markdown": [
       "\n",
       "names | score | student.no | pass | \n",
       "|---|---|---|---|---|\n",
       "| Lucy      | 67        | student 1 |  TRUE     | \n",
       "| John      | 56        | student 2 | FALSE     | \n",
       "| Mark      | 87        | student 3 |  TRUE     | \n",
       "| Candy     | 91        | student 4 |  TRUE     | \n",
       "| [---]     |  5        | student 0 |  TRUE     | \n",
       "\n",
       "\n"
      ],
      "text/plain": [
       "  names score student.no pass \n",
       "1 Lucy  67    student 1   TRUE\n",
       "2 John  56    student 2  FALSE\n",
       "3 Mark  87    student 3   TRUE\n",
       "4 Candy 91    student 4   TRUE\n",
       "5 [---]  5    student 0   TRUE"
      ]
     },
     "metadata": {},
     "output_type": "display_data"
    }
   ],
   "source": [
    "df.new <- rbind(df, new.student); df.new"
   ]
  },
  {
   "cell_type": "code",
   "execution_count": 26,
   "metadata": {
    "scrolled": true
   },
   "outputs": [
    {
     "data": {
      "text/html": [
       "<table>\n",
       "<thead><tr><th scope=col>names</th><th scope=col>score</th><th scope=col>student.no</th><th scope=col>pass</th></tr></thead>\n",
       "<tbody>\n",
       "\t<tr><td>[---]     </td><td>5         </td><td>student 0 </td><td>TRUE      </td></tr>\n",
       "\t<tr><td>[----]    </td><td>6         </td><td>student 00</td><td>TRUE      </td></tr>\n",
       "</tbody>\n",
       "</table>\n"
      ],
      "text/latex": [
       "\\begin{tabular}{r|llll}\n",
       " names & score & student.no & pass\\\\\n",
       "\\hline\n",
       "\t {[}---{]}  & 5          & student 0  & TRUE      \\\\\n",
       "\t {[}----{]} & 6          & student 00 & TRUE      \\\\\n",
       "\\end{tabular}\n"
      ],
      "text/markdown": [
       "\n",
       "names | score | student.no | pass | \n",
       "|---|---|\n",
       "| [---]      | 5          | student 0  | TRUE       | \n",
       "| [----]     | 6          | student 00 | TRUE       | \n",
       "\n",
       "\n"
      ],
      "text/plain": [
       "  names  score student.no pass\n",
       "1 [---]  5     student 0  TRUE\n",
       "2 [----] 6     student 00 TRUE"
      ]
     },
     "metadata": {},
     "output_type": "display_data"
    },
    {
     "data": {
      "text/html": [
       "<table>\n",
       "<thead><tr><th scope=col>names</th><th scope=col>score</th><th scope=col>student.no</th><th scope=col>pass</th></tr></thead>\n",
       "<tbody>\n",
       "\t<tr><td>Lucy      </td><td>67        </td><td>student 1 </td><td> TRUE     </td></tr>\n",
       "\t<tr><td>John      </td><td>56        </td><td>student 2 </td><td>FALSE     </td></tr>\n",
       "\t<tr><td>Mark      </td><td>87        </td><td>student 3 </td><td> TRUE     </td></tr>\n",
       "\t<tr><td>Candy     </td><td>91        </td><td>student 4 </td><td> TRUE     </td></tr>\n",
       "\t<tr><td>[---]     </td><td> 5        </td><td>student 0 </td><td> TRUE     </td></tr>\n",
       "\t<tr><td>[----]    </td><td> 6        </td><td>student 00</td><td> TRUE     </td></tr>\n",
       "</tbody>\n",
       "</table>\n"
      ],
      "text/latex": [
       "\\begin{tabular}{r|llll}\n",
       " names & score & student.no & pass\\\\\n",
       "\\hline\n",
       "\t Lucy       & 67         & student 1  &  TRUE     \\\\\n",
       "\t John       & 56         & student 2  & FALSE     \\\\\n",
       "\t Mark       & 87         & student 3  &  TRUE     \\\\\n",
       "\t Candy      & 91         & student 4  &  TRUE     \\\\\n",
       "\t {[}---{]}  &  5         & student 0  &  TRUE     \\\\\n",
       "\t {[}----{]} &  6         & student 00 &  TRUE     \\\\\n",
       "\\end{tabular}\n"
      ],
      "text/markdown": [
       "\n",
       "names | score | student.no | pass | \n",
       "|---|---|---|---|---|---|\n",
       "| Lucy       | 67         | student 1  |  TRUE      | \n",
       "| John       | 56         | student 2  | FALSE      | \n",
       "| Mark       | 87         | student 3  |  TRUE      | \n",
       "| Candy      | 91         | student 4  |  TRUE      | \n",
       "| [---]      |  5         | student 0  |  TRUE      | \n",
       "| [----]     |  6         | student 00 |  TRUE      | \n",
       "\n",
       "\n"
      ],
      "text/plain": [
       "  names  score student.no pass \n",
       "1 Lucy   67    student 1   TRUE\n",
       "2 John   56    student 2  FALSE\n",
       "3 Mark   87    student 3   TRUE\n",
       "4 Candy  91    student 4   TRUE\n",
       "5 [---]   5    student 0   TRUE\n",
       "6 [----]  6    student 00  TRUE"
      ]
     },
     "metadata": {},
     "output_type": "display_data"
    }
   ],
   "source": [
    "new.students <- data.frame(names = c(\"[---]\", \"[----]\"),\n",
    "                          score = c(5, 6),\n",
    "                          student.no = c(\"student 0\", \"student 00\"),\n",
    "                          pass = c(TRUE, TRUE))\n",
    "new.students\n",
    "df.newnew <- rbind(df, new.students); df.newnew"
   ]
  },
  {
   "cell_type": "markdown",
   "metadata": {},
   "source": [
    "### 5.2.2 Add variables to a dataset\n",
    "This is adding columns."
   ]
  },
  {
   "cell_type": "code",
   "execution_count": 27,
   "metadata": {},
   "outputs": [
    {
     "data": {
      "text/html": [
       "<table>\n",
       "<thead><tr><th scope=col>score</th><th scope=col>student.no</th><th scope=col>pass</th><th scope=col>id1</th></tr></thead>\n",
       "<tbody>\n",
       "\t<tr><td>67       </td><td>student 1</td><td> TRUE    </td><td>1        </td></tr>\n",
       "\t<tr><td>56       </td><td>student 2</td><td>FALSE    </td><td>2        </td></tr>\n",
       "\t<tr><td>87       </td><td>student 3</td><td> TRUE    </td><td>3        </td></tr>\n",
       "\t<tr><td>91       </td><td>student 4</td><td> TRUE    </td><td>4        </td></tr>\n",
       "</tbody>\n",
       "</table>\n"
      ],
      "text/latex": [
       "\\begin{tabular}{r|llll}\n",
       " score & student.no & pass & id1\\\\\n",
       "\\hline\n",
       "\t 67        & student 1 &  TRUE     & 1        \\\\\n",
       "\t 56        & student 2 & FALSE     & 2        \\\\\n",
       "\t 87        & student 3 &  TRUE     & 3        \\\\\n",
       "\t 91        & student 4 &  TRUE     & 4        \\\\\n",
       "\\end{tabular}\n"
      ],
      "text/markdown": [
       "\n",
       "score | student.no | pass | id1 | \n",
       "|---|---|---|---|\n",
       "| 67        | student 1 |  TRUE     | 1         | \n",
       "| 56        | student 2 | FALSE     | 2         | \n",
       "| 87        | student 3 |  TRUE     | 3         | \n",
       "| 91        | student 4 |  TRUE     | 4         | \n",
       "\n",
       "\n"
      ],
      "text/plain": [
       "  score student.no pass  id1\n",
       "1 67    student 1   TRUE 1  \n",
       "2 56    student 2  FALSE 2  \n",
       "3 87    student 3   TRUE 3  \n",
       "4 91    student 4   TRUE 4  "
      ]
     },
     "metadata": {},
     "output_type": "display_data"
    }
   ],
   "source": [
    "# Option 1\n",
    "df.copy$id1 <- 1:4\n",
    "df.copy"
   ]
  },
  {
   "cell_type": "code",
   "execution_count": 28,
   "metadata": {},
   "outputs": [
    {
     "data": {
      "text/html": [
       "<table>\n",
       "<thead><tr><th scope=col>score</th><th scope=col>student.no</th><th scope=col>pass</th><th scope=col>id1</th><th scope=col>id2</th></tr></thead>\n",
       "<tbody>\n",
       "\t<tr><td>67       </td><td>student 1</td><td> TRUE    </td><td>1        </td><td>1        </td></tr>\n",
       "\t<tr><td>56       </td><td>student 2</td><td>FALSE    </td><td>2        </td><td>2        </td></tr>\n",
       "\t<tr><td>87       </td><td>student 3</td><td> TRUE    </td><td>3        </td><td>3        </td></tr>\n",
       "\t<tr><td>91       </td><td>student 4</td><td> TRUE    </td><td>4        </td><td>4        </td></tr>\n",
       "</tbody>\n",
       "</table>\n"
      ],
      "text/latex": [
       "\\begin{tabular}{r|lllll}\n",
       " score & student.no & pass & id1 & id2\\\\\n",
       "\\hline\n",
       "\t 67        & student 1 &  TRUE     & 1         & 1        \\\\\n",
       "\t 56        & student 2 & FALSE     & 2         & 2        \\\\\n",
       "\t 87        & student 3 &  TRUE     & 3         & 3        \\\\\n",
       "\t 91        & student 4 &  TRUE     & 4         & 4        \\\\\n",
       "\\end{tabular}\n"
      ],
      "text/markdown": [
       "\n",
       "score | student.no | pass | id1 | id2 | \n",
       "|---|---|---|---|\n",
       "| 67        | student 1 |  TRUE     | 1         | 1         | \n",
       "| 56        | student 2 | FALSE     | 2         | 2         | \n",
       "| 87        | student 3 |  TRUE     | 3         | 3         | \n",
       "| 91        | student 4 |  TRUE     | 4         | 4         | \n",
       "\n",
       "\n"
      ],
      "text/plain": [
       "  score student.no pass  id1 id2\n",
       "1 67    student 1   TRUE 1   1  \n",
       "2 56    student 2  FALSE 2   2  \n",
       "3 87    student 3   TRUE 3   3  \n",
       "4 91    student 4   TRUE 4   4  "
      ]
     },
     "metadata": {},
     "output_type": "display_data"
    }
   ],
   "source": [
    "# Option 2\n",
    "df.copy <- data.frame(df.copy, id2 = 1:4)\n",
    "df.copy"
   ]
  },
  {
   "cell_type": "code",
   "execution_count": 29,
   "metadata": {},
   "outputs": [
    {
     "data": {
      "text/html": [
       "<table>\n",
       "<thead><tr><th scope=col>score</th><th scope=col>student.no</th><th scope=col>pass</th><th scope=col>id1</th><th scope=col>id2</th><th scope=col>id3</th></tr></thead>\n",
       "<tbody>\n",
       "\t<tr><td>67       </td><td>student 1</td><td> TRUE    </td><td>1        </td><td>1        </td><td>1        </td></tr>\n",
       "\t<tr><td>56       </td><td>student 2</td><td>FALSE    </td><td>2        </td><td>2        </td><td>2        </td></tr>\n",
       "\t<tr><td>87       </td><td>student 3</td><td> TRUE    </td><td>3        </td><td>3        </td><td>3        </td></tr>\n",
       "\t<tr><td>91       </td><td>student 4</td><td> TRUE    </td><td>4        </td><td>4        </td><td>4        </td></tr>\n",
       "</tbody>\n",
       "</table>\n"
      ],
      "text/latex": [
       "\\begin{tabular}{r|llllll}\n",
       " score & student.no & pass & id1 & id2 & id3\\\\\n",
       "\\hline\n",
       "\t 67        & student 1 &  TRUE     & 1         & 1         & 1        \\\\\n",
       "\t 56        & student 2 & FALSE     & 2         & 2         & 2        \\\\\n",
       "\t 87        & student 3 &  TRUE     & 3         & 3         & 3        \\\\\n",
       "\t 91        & student 4 &  TRUE     & 4         & 4         & 4        \\\\\n",
       "\\end{tabular}\n"
      ],
      "text/markdown": [
       "\n",
       "score | student.no | pass | id1 | id2 | id3 | \n",
       "|---|---|---|---|\n",
       "| 67        | student 1 |  TRUE     | 1         | 1         | 1         | \n",
       "| 56        | student 2 | FALSE     | 2         | 2         | 2         | \n",
       "| 87        | student 3 |  TRUE     | 3         | 3         | 3         | \n",
       "| 91        | student 4 |  TRUE     | 4         | 4         | 4         | \n",
       "\n",
       "\n"
      ],
      "text/plain": [
       "  score student.no pass  id1 id2 id3\n",
       "1 67    student 1   TRUE 1   1   1  \n",
       "2 56    student 2  FALSE 2   2   2  \n",
       "3 87    student 3   TRUE 3   3   3  \n",
       "4 91    student 4   TRUE 4   4   4  "
      ]
     },
     "metadata": {},
     "output_type": "display_data"
    }
   ],
   "source": [
    "# Option 3\n",
    "id3 <- 1:4\n",
    "cbind(df.copy, id3)"
   ]
  },
  {
   "cell_type": "markdown",
   "metadata": {},
   "source": [
    "##### Easily extend to adding multiple columns.\n",
    "### 5.2.3 Merge data frames"
   ]
  },
  {
   "cell_type": "code",
   "execution_count": 63,
   "metadata": {},
   "outputs": [
    {
     "data": {
      "text/html": [
       "<table>\n",
       "<thead><tr><th scope=col>names</th><th scope=col>score</th><th scope=col>student.no</th></tr></thead>\n",
       "<tbody>\n",
       "\t<tr><td>Lucy     </td><td>67       </td><td>student 1</td></tr>\n",
       "\t<tr><td>John     </td><td>56       </td><td>student 2</td></tr>\n",
       "\t<tr><td>Mark     </td><td>87       </td><td>student 3</td></tr>\n",
       "\t<tr><td>Candy    </td><td>91       </td><td>student 4</td></tr>\n",
       "</tbody>\n",
       "</table>\n"
      ],
      "text/latex": [
       "\\begin{tabular}{r|lll}\n",
       " names & score & student.no\\\\\n",
       "\\hline\n",
       "\t Lucy      & 67        & student 1\\\\\n",
       "\t John      & 56        & student 2\\\\\n",
       "\t Mark      & 87        & student 3\\\\\n",
       "\t Candy     & 91        & student 4\\\\\n",
       "\\end{tabular}\n"
      ],
      "text/markdown": [
       "\n",
       "names | score | student.no | \n",
       "|---|---|---|---|\n",
       "| Lucy      | 67        | student 1 | \n",
       "| John      | 56        | student 2 | \n",
       "| Mark      | 87        | student 3 | \n",
       "| Candy     | 91        | student 4 | \n",
       "\n",
       "\n"
      ],
      "text/plain": [
       "  names score student.no\n",
       "1 Lucy  67    student 1 \n",
       "2 John  56    student 2 \n",
       "3 Mark  87    student 3 \n",
       "4 Candy 91    student 4 "
      ]
     },
     "metadata": {},
     "output_type": "display_data"
    },
    {
     "data": {
      "text/html": [
       "<table>\n",
       "<thead><tr><th></th><th scope=col>names</th><th scope=col>score</th><th scope=col>student.no</th><th scope=col>pass</th></tr></thead>\n",
       "<tbody>\n",
       "\t<tr><th scope=row>1</th><td>Lucy     </td><td>67       </td><td>student 1</td><td> TRUE    </td></tr>\n",
       "\t<tr><th scope=row>3</th><td>Mark     </td><td>56       </td><td>Student 5</td><td>FALSE    </td></tr>\n",
       "\t<tr><th scope=row>4</th><td>Candy    </td><td>91       </td><td>student 4</td><td> TRUE    </td></tr>\n",
       "</tbody>\n",
       "</table>\n"
      ],
      "text/latex": [
       "\\begin{tabular}{r|llll}\n",
       "  & names & score & student.no & pass\\\\\n",
       "\\hline\n",
       "\t1 & Lucy      & 67        & student 1 &  TRUE    \\\\\n",
       "\t3 & Mark      & 56        & Student 5 & FALSE    \\\\\n",
       "\t4 & Candy     & 91        & student 4 &  TRUE    \\\\\n",
       "\\end{tabular}\n"
      ],
      "text/markdown": [
       "\n",
       "| <!--/--> | names | score | student.no | pass | \n",
       "|---|---|---|\n",
       "| 1 | Lucy      | 67        | student 1 |  TRUE     | \n",
       "| 3 | Mark      | 56        | Student 5 | FALSE     | \n",
       "| 4 | Candy     | 91        | student 4 |  TRUE     | \n",
       "\n",
       "\n"
      ],
      "text/plain": [
       "  names score student.no pass \n",
       "1 Lucy  67    student 1   TRUE\n",
       "3 Mark  56    Student 5  FALSE\n",
       "4 Candy 91    student 4   TRUE"
      ]
     },
     "metadata": {},
     "output_type": "display_data"
    }
   ],
   "source": [
    "df.a <- df[, -4]\n",
    "df.b <- df[-2, ]\n",
    "df.b[2, 3] <- \"Student 5\"\n",
    "df.b[2, 2] <- 56\n",
    "df.b[2, 4] <- F\n",
    "df.a; df.b"
   ]
  },
  {
   "cell_type": "code",
   "execution_count": 31,
   "metadata": {
    "scrolled": false
   },
   "outputs": [
    {
     "data": {
      "text/html": [
       "<table>\n",
       "<thead><tr><th scope=col>names</th><th scope=col>score</th><th scope=col>student.no</th><th scope=col>pass</th></tr></thead>\n",
       "<tbody>\n",
       "\t<tr><td>Candy    </td><td>91       </td><td>student 4</td><td>TRUE     </td></tr>\n",
       "\t<tr><td>Lucy     </td><td>67       </td><td>student 1</td><td>TRUE     </td></tr>\n",
       "</tbody>\n",
       "</table>\n"
      ],
      "text/latex": [
       "\\begin{tabular}{r|llll}\n",
       " names & score & student.no & pass\\\\\n",
       "\\hline\n",
       "\t Candy     & 91        & student 4 & TRUE     \\\\\n",
       "\t Lucy      & 67        & student 1 & TRUE     \\\\\n",
       "\\end{tabular}\n"
      ],
      "text/markdown": [
       "\n",
       "names | score | student.no | pass | \n",
       "|---|---|\n",
       "| Candy     | 91        | student 4 | TRUE      | \n",
       "| Lucy      | 67        | student 1 | TRUE      | \n",
       "\n",
       "\n"
      ],
      "text/plain": [
       "  names score student.no pass\n",
       "1 Candy 91    student 4  TRUE\n",
       "2 Lucy  67    student 1  TRUE"
      ]
     },
     "metadata": {},
     "output_type": "display_data"
    }
   ],
   "source": [
    "# Identical rows based on common columns\n",
    "merge(x = df.a, y = df.b, all = FALSE)\n",
    "# all = False by default"
   ]
  },
  {
   "cell_type": "code",
   "execution_count": 32,
   "metadata": {},
   "outputs": [
    {
     "data": {
      "text/html": [
       "<table>\n",
       "<thead><tr><th scope=col>names</th><th scope=col>score</th><th scope=col>student.no</th><th scope=col>pass</th></tr></thead>\n",
       "<tbody>\n",
       "\t<tr><td>Candy    </td><td>91       </td><td>student 4</td><td> TRUE    </td></tr>\n",
       "\t<tr><td>John     </td><td>56       </td><td>student 2</td><td>   NA    </td></tr>\n",
       "\t<tr><td>Lucy     </td><td>67       </td><td>student 1</td><td> TRUE    </td></tr>\n",
       "\t<tr><td>Mark     </td><td>56       </td><td>Student 5</td><td>FALSE    </td></tr>\n",
       "\t<tr><td>Mark     </td><td>87       </td><td>student 3</td><td>   NA    </td></tr>\n",
       "</tbody>\n",
       "</table>\n"
      ],
      "text/latex": [
       "\\begin{tabular}{r|llll}\n",
       " names & score & student.no & pass\\\\\n",
       "\\hline\n",
       "\t Candy     & 91        & student 4 &  TRUE    \\\\\n",
       "\t John      & 56        & student 2 &    NA    \\\\\n",
       "\t Lucy      & 67        & student 1 &  TRUE    \\\\\n",
       "\t Mark      & 56        & Student 5 & FALSE    \\\\\n",
       "\t Mark      & 87        & student 3 &    NA    \\\\\n",
       "\\end{tabular}\n"
      ],
      "text/markdown": [
       "\n",
       "names | score | student.no | pass | \n",
       "|---|---|---|---|---|\n",
       "| Candy     | 91        | student 4 |  TRUE     | \n",
       "| John      | 56        | student 2 |    NA     | \n",
       "| Lucy      | 67        | student 1 |  TRUE     | \n",
       "| Mark      | 56        | Student 5 | FALSE     | \n",
       "| Mark      | 87        | student 3 |    NA     | \n",
       "\n",
       "\n"
      ],
      "text/plain": [
       "  names score student.no pass \n",
       "1 Candy 91    student 4   TRUE\n",
       "2 John  56    student 2     NA\n",
       "3 Lucy  67    student 1   TRUE\n",
       "4 Mark  56    Student 5  FALSE\n",
       "5 Mark  87    student 3     NA"
      ]
     },
     "metadata": {},
     "output_type": "display_data"
    }
   ],
   "source": [
    "merge(x = df.a, y = df.b, all = TRUE)   # All rows"
   ]
  },
  {
   "cell_type": "code",
   "execution_count": 33,
   "metadata": {},
   "outputs": [
    {
     "data": {
      "text/html": [
       "<table>\n",
       "<thead><tr><th scope=col>score</th><th scope=col>names.x</th><th scope=col>student.no.x</th><th scope=col>names.y</th><th scope=col>student.no.y</th><th scope=col>pass</th></tr></thead>\n",
       "<tbody>\n",
       "\t<tr><td>56       </td><td>John     </td><td>student 2</td><td>Mark     </td><td>Student 5</td><td>FALSE    </td></tr>\n",
       "\t<tr><td>67       </td><td>Lucy     </td><td>student 1</td><td>Lucy     </td><td>student 1</td><td> TRUE    </td></tr>\n",
       "\t<tr><td>87       </td><td>Mark     </td><td>student 3</td><td>NA       </td><td>NA       </td><td>   NA    </td></tr>\n",
       "\t<tr><td>91       </td><td>Candy    </td><td>student 4</td><td>Candy    </td><td>student 4</td><td> TRUE    </td></tr>\n",
       "</tbody>\n",
       "</table>\n"
      ],
      "text/latex": [
       "\\begin{tabular}{r|llllll}\n",
       " score & names.x & student.no.x & names.y & student.no.y & pass\\\\\n",
       "\\hline\n",
       "\t 56        & John      & student 2 & Mark      & Student 5 & FALSE    \\\\\n",
       "\t 67        & Lucy      & student 1 & Lucy      & student 1 &  TRUE    \\\\\n",
       "\t 87        & Mark      & student 3 & NA        & NA        &    NA    \\\\\n",
       "\t 91        & Candy     & student 4 & Candy     & student 4 &  TRUE    \\\\\n",
       "\\end{tabular}\n"
      ],
      "text/markdown": [
       "\n",
       "score | names.x | student.no.x | names.y | student.no.y | pass | \n",
       "|---|---|---|---|\n",
       "| 56        | John      | student 2 | Mark      | Student 5 | FALSE     | \n",
       "| 67        | Lucy      | student 1 | Lucy      | student 1 |  TRUE     | \n",
       "| 87        | Mark      | student 3 | NA        | NA        |    NA     | \n",
       "| 91        | Candy     | student 4 | Candy     | student 4 |  TRUE     | \n",
       "\n",
       "\n"
      ],
      "text/plain": [
       "  score names.x student.no.x names.y student.no.y pass \n",
       "1 56    John    student 2    Mark    Student 5    FALSE\n",
       "2 67    Lucy    student 1    Lucy    student 1     TRUE\n",
       "3 87    Mark    student 3    NA      NA              NA\n",
       "4 91    Candy   student 4    Candy   student 4     TRUE"
      ]
     },
     "metadata": {},
     "output_type": "display_data"
    }
   ],
   "source": [
    "# All rows based on common score\n",
    "merge(df.a, df.b, all = TRUE, by = \"score\")"
   ]
  },
  {
   "cell_type": "markdown",
   "metadata": {},
   "source": [
    "## 5.3* The reshape package\n",
    "<b style=\"color:red;\"> What the [---]!!! Skip!!! </b>"
   ]
  },
  {
   "cell_type": "markdown",
   "metadata": {},
   "source": [
    "## 5.3 aggregate( )\n",
    "- [---] put this in \"5.3 The reshape package\".\n",
    "- While aggregate( ) is not in the package.\n",
    "- And it does not reshape data.\n",
    "- However, very very very useful function!\n",
    "\n",
    "##### I need a big and complex dataset."
   ]
  },
  {
   "cell_type": "code",
   "execution_count": 34,
   "metadata": {},
   "outputs": [
    {
     "data": {
      "text/html": [
       "<table>\n",
       "<thead><tr><th scope=col>drug</th><th scope=col>obesity</th><th scope=col>age</th><th scope=col>disease</th></tr></thead>\n",
       "<tbody>\n",
       "\t<tr><td>1 </td><td>1 </td><td>53</td><td>0 </td></tr>\n",
       "\t<tr><td>1 </td><td>1 </td><td>44</td><td>0 </td></tr>\n",
       "\t<tr><td>0 </td><td>1 </td><td>61</td><td>1 </td></tr>\n",
       "\t<tr><td>1 </td><td>0 </td><td>41</td><td>0 </td></tr>\n",
       "\t<tr><td>0 </td><td>0 </td><td>49</td><td>1 </td></tr>\n",
       "\t<tr><td>1 </td><td>1 </td><td>54</td><td>0 </td></tr>\n",
       "</tbody>\n",
       "</table>\n"
      ],
      "text/latex": [
       "\\begin{tabular}{r|llll}\n",
       " drug & obesity & age & disease\\\\\n",
       "\\hline\n",
       "\t 1  & 1  & 53 & 0 \\\\\n",
       "\t 1  & 1  & 44 & 0 \\\\\n",
       "\t 0  & 1  & 61 & 1 \\\\\n",
       "\t 1  & 0  & 41 & 0 \\\\\n",
       "\t 0  & 0  & 49 & 1 \\\\\n",
       "\t 1  & 1  & 54 & 0 \\\\\n",
       "\\end{tabular}\n"
      ],
      "text/markdown": [
       "\n",
       "drug | obesity | age | disease | \n",
       "|---|---|---|---|---|---|\n",
       "| 1  | 1  | 53 | 0  | \n",
       "| 1  | 1  | 44 | 0  | \n",
       "| 0  | 1  | 61 | 1  | \n",
       "| 1  | 0  | 41 | 0  | \n",
       "| 0  | 0  | 49 | 1  | \n",
       "| 1  | 1  | 54 | 0  | \n",
       "\n",
       "\n"
      ],
      "text/plain": [
       "  drug obesity age disease\n",
       "1 1    1       53  0      \n",
       "2 1    1       44  0      \n",
       "3 0    1       61  1      \n",
       "4 1    0       41  0      \n",
       "5 0    0       49  1      \n",
       "6 1    1       54  0      "
      ]
     },
     "metadata": {},
     "output_type": "display_data"
    }
   ],
   "source": [
    "# Some simple simulation\n",
    "# People who take the drug, that are obese and that are older are more likely to get the disease.\n",
    "# Setting seeds make random number generation reproducible.\n",
    "set.seed(613)\n",
    "n <- 100\n",
    "drug <- sample(c(0, 1), size = n, replace = TRUE, prob = c(0.8, 0.2))\n",
    "obesity <- sample(c(0, 1), size = n, replace = TRUE, prob = c(0.5, 0.5))\n",
    "age <- round(rnorm(n, mean = 60, sd = 10))\n",
    "logit.p <- log(1.8)*drug + log(1.05)*(age - 60) + log(1.2)*obesity + log(0.2)\n",
    "p <- exp(logit.p)/(1 + exp(logit.p))\n",
    "disease <- rbinom(n, size = 1, prob = p)\n",
    "sim <- data.frame(drug, obesity, age, disease)\n",
    "head(sim)"
   ]
  },
  {
   "cell_type": "code",
   "execution_count": 35,
   "metadata": {
    "scrolled": true
   },
   "outputs": [
    {
     "data": {
      "text/plain": [
       "    disease\n",
       "drug  0  1\n",
       "   0 56 14\n",
       "   1 21  9"
      ]
     },
     "metadata": {},
     "output_type": "display_data"
    }
   ],
   "source": [
    "# Tabulate exposure and outcome\n",
    "table(sim[, c(\"drug\", \"disease\")])\n",
    "# 20% among unexposed to the drug\n",
    "# and 30% among exposed had the outcome disease."
   ]
  },
  {
   "cell_type": "code",
   "execution_count": 65,
   "metadata": {
    "scrolled": false
   },
   "outputs": [
    {
     "data": {
      "text/html": [
       "<table>\n",
       "<thead><tr><th scope=col>drug</th><th scope=col>disease</th><th scope=col>x</th></tr></thead>\n",
       "<tbody>\n",
       "\t<tr><td>0 </td><td>0 </td><td>56</td></tr>\n",
       "\t<tr><td>1 </td><td>0 </td><td>21</td></tr>\n",
       "\t<tr><td>0 </td><td>1 </td><td>14</td></tr>\n",
       "\t<tr><td>1 </td><td>1 </td><td> 9</td></tr>\n",
       "</tbody>\n",
       "</table>\n"
      ],
      "text/latex": [
       "\\begin{tabular}{r|lll}\n",
       " drug & disease & x\\\\\n",
       "\\hline\n",
       "\t 0  & 0  & 56\\\\\n",
       "\t 1  & 0  & 21\\\\\n",
       "\t 0  & 1  & 14\\\\\n",
       "\t 1  & 1  &  9\\\\\n",
       "\\end{tabular}\n"
      ],
      "text/markdown": [
       "\n",
       "drug | disease | x | \n",
       "|---|---|---|---|\n",
       "| 0  | 0  | 56 | \n",
       "| 1  | 0  | 21 | \n",
       "| 0  | 1  | 14 | \n",
       "| 1  | 1  |  9 | \n",
       "\n",
       "\n"
      ],
      "text/plain": [
       "  drug disease x \n",
       "1 0    0       56\n",
       "2 1    0       21\n",
       "3 0    1       14\n",
       "4 1    1        9"
      ]
     },
     "metadata": {},
     "output_type": "display_data"
    }
   ],
   "source": [
    "# Replicate the tabulation\n",
    "aggregate(sim$disease,\n",
    "          by = list(drug = sim$drug, disease = sim$disease),\n",
    "          FUN = length)"
   ]
  },
  {
   "cell_type": "code",
   "execution_count": 37,
   "metadata": {},
   "outputs": [
    {
     "data": {
      "text/html": [
       "10"
      ],
      "text/latex": [
       "10"
      ],
      "text/markdown": [
       "10"
      ],
      "text/plain": [
       "[1] 10"
      ]
     },
     "metadata": {},
     "output_type": "display_data"
    }
   ],
   "source": [
    "# Demo of length()\n",
    "length(1:10)"
   ]
  },
  {
   "cell_type": "code",
   "execution_count": 38,
   "metadata": {
    "scrolled": false
   },
   "outputs": [
    {
     "data": {
      "text/html": [
       "<table>\n",
       "<thead><tr><th scope=col>drug</th><th scope=col>obesity</th><th scope=col>disease</th><th scope=col>x</th></tr></thead>\n",
       "<tbody>\n",
       "\t<tr><td>0 </td><td>0 </td><td>0 </td><td>33</td></tr>\n",
       "\t<tr><td>1 </td><td>0 </td><td>0 </td><td>12</td></tr>\n",
       "\t<tr><td>0 </td><td>1 </td><td>0 </td><td>23</td></tr>\n",
       "\t<tr><td>1 </td><td>1 </td><td>0 </td><td> 9</td></tr>\n",
       "\t<tr><td>0 </td><td>0 </td><td>1 </td><td> 7</td></tr>\n",
       "\t<tr><td>1 </td><td>0 </td><td>1 </td><td> 3</td></tr>\n",
       "\t<tr><td>0 </td><td>1 </td><td>1 </td><td> 7</td></tr>\n",
       "\t<tr><td>1 </td><td>1 </td><td>1 </td><td> 6</td></tr>\n",
       "</tbody>\n",
       "</table>\n"
      ],
      "text/latex": [
       "\\begin{tabular}{r|llll}\n",
       " drug & obesity & disease & x\\\\\n",
       "\\hline\n",
       "\t 0  & 0  & 0  & 33\\\\\n",
       "\t 1  & 0  & 0  & 12\\\\\n",
       "\t 0  & 1  & 0  & 23\\\\\n",
       "\t 1  & 1  & 0  &  9\\\\\n",
       "\t 0  & 0  & 1  &  7\\\\\n",
       "\t 1  & 0  & 1  &  3\\\\\n",
       "\t 0  & 1  & 1  &  7\\\\\n",
       "\t 1  & 1  & 1  &  6\\\\\n",
       "\\end{tabular}\n"
      ],
      "text/markdown": [
       "\n",
       "drug | obesity | disease | x | \n",
       "|---|---|---|---|---|---|---|---|\n",
       "| 0  | 0  | 0  | 33 | \n",
       "| 1  | 0  | 0  | 12 | \n",
       "| 0  | 1  | 0  | 23 | \n",
       "| 1  | 1  | 0  |  9 | \n",
       "| 0  | 0  | 1  |  7 | \n",
       "| 1  | 0  | 1  |  3 | \n",
       "| 0  | 1  | 1  |  7 | \n",
       "| 1  | 1  | 1  |  6 | \n",
       "\n",
       "\n"
      ],
      "text/plain": [
       "  drug obesity disease x \n",
       "1 0    0       0       33\n",
       "2 1    0       0       12\n",
       "3 0    1       0       23\n",
       "4 1    1       0        9\n",
       "5 0    0       1        7\n",
       "6 1    0       1        3\n",
       "7 0    1       1        7\n",
       "8 1    1       1        6"
      ]
     },
     "metadata": {},
     "output_type": "display_data"
    }
   ],
   "source": [
    "aggregate(sim$disease,\n",
    "          by = list(drug = sim$drug,\n",
    "                    obesity = sim$obesity,\n",
    "                    disease = sim$disease),\n",
    "          FUN = length)"
   ]
  },
  {
   "cell_type": "code",
   "execution_count": 39,
   "metadata": {
    "scrolled": true
   },
   "outputs": [
    {
     "data": {
      "text/plain": [
       ", , disease = 0\n",
       "\n",
       "    obesity\n",
       "drug  0  1\n",
       "   0 33 23\n",
       "   1 12  9\n",
       "\n",
       ", , disease = 1\n",
       "\n",
       "    obesity\n",
       "drug  0  1\n",
       "   0  7  7\n",
       "   1  3  6\n"
      ]
     },
     "metadata": {},
     "output_type": "display_data"
    }
   ],
   "source": [
    "# Recall that table() in this case will return a 3D array\n",
    "table(sim[, c(\"drug\", \"obesity\", \"disease\")])"
   ]
  },
  {
   "cell_type": "code",
   "execution_count": 69,
   "metadata": {},
   "outputs": [
    {
     "data": {
      "text/html": [
       "<table>\n",
       "<thead><tr><th scope=col>drug</th><th scope=col>obesity</th><th scope=col>disease</th></tr></thead>\n",
       "<tbody>\n",
       "\t<tr><td>0 </td><td>30</td><td>14</td></tr>\n",
       "\t<tr><td>1 </td><td>15</td><td> 9</td></tr>\n",
       "</tbody>\n",
       "</table>\n"
      ],
      "text/latex": [
       "\\begin{tabular}{r|lll}\n",
       " drug & obesity & disease\\\\\n",
       "\\hline\n",
       "\t 0  & 30 & 14\\\\\n",
       "\t 1  & 15 &  9\\\\\n",
       "\\end{tabular}\n"
      ],
      "text/markdown": [
       "\n",
       "drug | obesity | disease | \n",
       "|---|---|\n",
       "| 0  | 30 | 14 | \n",
       "| 1  | 15 |  9 | \n",
       "\n",
       "\n"
      ],
      "text/plain": [
       "  drug obesity disease\n",
       "1 0    30      14     \n",
       "2 1    15       9     "
      ]
     },
     "metadata": {},
     "output_type": "display_data"
    }
   ],
   "source": [
    "# More tabulation\n",
    "# Cross-tabulate obesity and disease with drug at the same time\n",
    "# sum gives the count\n",
    "# because obese=1, non-obese=0\n",
    "aggregate(cbind(obesity, disease)~drug, data = sim, sum)"
   ]
  },
  {
   "cell_type": "code",
   "execution_count": 41,
   "metadata": {},
   "outputs": [
    {
     "data": {
      "text/html": [
       "<table>\n",
       "<thead><tr><th scope=col>disease</th><th scope=col>age</th></tr></thead>\n",
       "<tbody>\n",
       "\t<tr><td>0       </td><td>58.76623</td></tr>\n",
       "\t<tr><td>1       </td><td>64.21739</td></tr>\n",
       "</tbody>\n",
       "</table>\n"
      ],
      "text/latex": [
       "\\begin{tabular}{r|ll}\n",
       " disease & age\\\\\n",
       "\\hline\n",
       "\t 0        & 58.76623\\\\\n",
       "\t 1        & 64.21739\\\\\n",
       "\\end{tabular}\n"
      ],
      "text/markdown": [
       "\n",
       "disease | age | \n",
       "|---|---|\n",
       "| 0        | 58.76623 | \n",
       "| 1        | 64.21739 | \n",
       "\n",
       "\n"
      ],
      "text/plain": [
       "  disease age     \n",
       "1 0       58.76623\n",
       "2 1       64.21739"
      ]
     },
     "metadata": {},
     "output_type": "display_data"
    }
   ],
   "source": [
    "# Mean age in different disease groups\n",
    "aggregate(age~disease, data = sim, FUN = mean)"
   ]
  },
  {
   "cell_type": "code",
   "execution_count": 42,
   "metadata": {},
   "outputs": [
    {
     "data": {
      "text/html": [
       "<table>\n",
       "<thead><tr><th scope=col>drug</th><th scope=col>obesity</th><th scope=col>disease</th><th scope=col>age</th></tr></thead>\n",
       "<tbody>\n",
       "\t<tr><td>0       </td><td>0       </td><td>0       </td><td>58.96970</td></tr>\n",
       "\t<tr><td>1       </td><td>0       </td><td>0       </td><td>60.08333</td></tr>\n",
       "\t<tr><td>0       </td><td>1       </td><td>0       </td><td>58.78261</td></tr>\n",
       "\t<tr><td>1       </td><td>1       </td><td>0       </td><td>56.22222</td></tr>\n",
       "\t<tr><td>0       </td><td>0       </td><td>1       </td><td>60.14286</td></tr>\n",
       "\t<tr><td>1       </td><td>0       </td><td>1       </td><td>67.33333</td></tr>\n",
       "\t<tr><td>0       </td><td>1       </td><td>1       </td><td>64.57143</td></tr>\n",
       "\t<tr><td>1       </td><td>1       </td><td>1       </td><td>67.00000</td></tr>\n",
       "</tbody>\n",
       "</table>\n"
      ],
      "text/latex": [
       "\\begin{tabular}{r|llll}\n",
       " drug & obesity & disease & age\\\\\n",
       "\\hline\n",
       "\t 0        & 0        & 0        & 58.96970\\\\\n",
       "\t 1        & 0        & 0        & 60.08333\\\\\n",
       "\t 0        & 1        & 0        & 58.78261\\\\\n",
       "\t 1        & 1        & 0        & 56.22222\\\\\n",
       "\t 0        & 0        & 1        & 60.14286\\\\\n",
       "\t 1        & 0        & 1        & 67.33333\\\\\n",
       "\t 0        & 1        & 1        & 64.57143\\\\\n",
       "\t 1        & 1        & 1        & 67.00000\\\\\n",
       "\\end{tabular}\n"
      ],
      "text/markdown": [
       "\n",
       "drug | obesity | disease | age | \n",
       "|---|---|---|---|---|---|---|---|\n",
       "| 0        | 0        | 0        | 58.96970 | \n",
       "| 1        | 0        | 0        | 60.08333 | \n",
       "| 0        | 1        | 0        | 58.78261 | \n",
       "| 1        | 1        | 0        | 56.22222 | \n",
       "| 0        | 0        | 1        | 60.14286 | \n",
       "| 1        | 0        | 1        | 67.33333 | \n",
       "| 0        | 1        | 1        | 64.57143 | \n",
       "| 1        | 1        | 1        | 67.00000 | \n",
       "\n",
       "\n"
      ],
      "text/plain": [
       "  drug obesity disease age     \n",
       "1 0    0       0       58.96970\n",
       "2 1    0       0       60.08333\n",
       "3 0    1       0       58.78261\n",
       "4 1    1       0       56.22222\n",
       "5 0    0       1       60.14286\n",
       "6 1    0       1       67.33333\n",
       "7 0    1       1       64.57143\n",
       "8 1    1       1       67.00000"
      ]
     },
     "metadata": {},
     "output_type": "display_data"
    }
   ],
   "source": [
    "aggregate(age~., data = sim, FUN = mean)\n",
    "# . refers to all other variables"
   ]
  },
  {
   "cell_type": "code",
   "execution_count": 43,
   "metadata": {},
   "outputs": [
    {
     "data": {
      "text/html": [
       "<table>\n",
       "<thead><tr><th scope=col>drug</th><th scope=col>obesity</th><th scope=col>age</th><th scope=col>disease</th></tr></thead>\n",
       "<tbody>\n",
       "\t<tr><td>0        </td><td>0        </td><td>59.17500 </td><td>0.1750000</td></tr>\n",
       "\t<tr><td>1        </td><td>0        </td><td>61.53333 </td><td>0.2000000</td></tr>\n",
       "\t<tr><td>0        </td><td>1        </td><td>60.13333 </td><td>0.2333333</td></tr>\n",
       "\t<tr><td>1        </td><td>1        </td><td>60.53333 </td><td>0.4000000</td></tr>\n",
       "</tbody>\n",
       "</table>\n"
      ],
      "text/latex": [
       "\\begin{tabular}{r|llll}\n",
       " drug & obesity & age & disease\\\\\n",
       "\\hline\n",
       "\t 0         & 0         & 59.17500  & 0.1750000\\\\\n",
       "\t 1         & 0         & 61.53333  & 0.2000000\\\\\n",
       "\t 0         & 1         & 60.13333  & 0.2333333\\\\\n",
       "\t 1         & 1         & 60.53333  & 0.4000000\\\\\n",
       "\\end{tabular}\n"
      ],
      "text/markdown": [
       "\n",
       "drug | obesity | age | disease | \n",
       "|---|---|---|---|\n",
       "| 0         | 0         | 59.17500  | 0.1750000 | \n",
       "| 1         | 0         | 61.53333  | 0.2000000 | \n",
       "| 0         | 1         | 60.13333  | 0.2333333 | \n",
       "| 1         | 1         | 60.53333  | 0.4000000 | \n",
       "\n",
       "\n"
      ],
      "text/plain": [
       "  drug obesity age      disease  \n",
       "1 0    0       59.17500 0.1750000\n",
       "2 1    0       61.53333 0.2000000\n",
       "3 0    1       60.13333 0.2333333\n",
       "4 1    1       60.53333 0.4000000"
      ]
     },
     "metadata": {},
     "output_type": "display_data"
    }
   ],
   "source": [
    "aggregate(cbind(age, disease)~drug + obesity, data = sim, FUN = mean)"
   ]
  },
  {
   "cell_type": "markdown",
   "metadata": {},
   "source": [
    "##### With aggregate( ), we are already doing analysis."
   ]
  },
  {
   "cell_type": "markdown",
   "metadata": {},
   "source": [
    "## *Adding rows/columns to matrices\n",
    "##### Make sure that dimensions match."
   ]
  },
  {
   "cell_type": "code",
   "execution_count": 44,
   "metadata": {},
   "outputs": [
    {
     "data": {
      "text/html": [
       "<table>\n",
       "<tbody>\n",
       "\t<tr><td>1</td><td>2</td><td>3</td></tr>\n",
       "\t<tr><td>4</td><td>5</td><td>6</td></tr>\n",
       "</tbody>\n",
       "</table>\n"
      ],
      "text/latex": [
       "\\begin{tabular}{lll}\n",
       "\t 1 & 2 & 3\\\\\n",
       "\t 4 & 5 & 6\\\\\n",
       "\\end{tabular}\n"
      ],
      "text/markdown": [
       "\n",
       "| 1 | 2 | 3 | \n",
       "| 4 | 5 | 6 | \n",
       "\n",
       "\n"
      ],
      "text/plain": [
       "     [,1] [,2] [,3]\n",
       "[1,] 1    2    3   \n",
       "[2,] 4    5    6   "
      ]
     },
     "metadata": {},
     "output_type": "display_data"
    },
    {
     "data": {
      "text/html": [
       "<table>\n",
       "<tbody>\n",
       "\t<tr><td> 7</td><td> 8</td><td> 9</td></tr>\n",
       "\t<tr><td>10</td><td>11</td><td>12</td></tr>\n",
       "</tbody>\n",
       "</table>\n"
      ],
      "text/latex": [
       "\\begin{tabular}{lll}\n",
       "\t  7 &  8 &  9\\\\\n",
       "\t 10 & 11 & 12\\\\\n",
       "\\end{tabular}\n"
      ],
      "text/markdown": [
       "\n",
       "|  7 |  8 |  9 | \n",
       "| 10 | 11 | 12 | \n",
       "\n",
       "\n"
      ],
      "text/plain": [
       "     [,1] [,2] [,3]\n",
       "[1,]  7    8    9  \n",
       "[2,] 10   11   12  "
      ]
     },
     "metadata": {},
     "output_type": "display_data"
    },
    {
     "data": {
      "text/html": [
       "<ol class=list-inline>\n",
       "\t<li>13</li>\n",
       "\t<li>14</li>\n",
       "\t<li>15</li>\n",
       "</ol>\n"
      ],
      "text/latex": [
       "\\begin{enumerate*}\n",
       "\\item 13\n",
       "\\item 14\n",
       "\\item 15\n",
       "\\end{enumerate*}\n"
      ],
      "text/markdown": [
       "1. 13\n",
       "2. 14\n",
       "3. 15\n",
       "\n",
       "\n"
      ],
      "text/plain": [
       "[1] 13 14 15"
      ]
     },
     "metadata": {},
     "output_type": "display_data"
    }
   ],
   "source": [
    "matrix1 <- matrix(1:6, byrow = TRUE, nrow = 2)\n",
    "matrix2 <- matrix(7:12, byrow = TRUE, nrow = 2)\n",
    "vector1 <- 13:15\n",
    "matrix1\n",
    "matrix2\n",
    "vector1"
   ]
  },
  {
   "cell_type": "code",
   "execution_count": 45,
   "metadata": {},
   "outputs": [
    {
     "data": {
      "text/html": [
       "<table>\n",
       "<tbody>\n",
       "\t<tr><th scope=row></th><td> 1</td><td> 2</td><td> 3</td></tr>\n",
       "\t<tr><th scope=row></th><td> 4</td><td> 5</td><td> 6</td></tr>\n",
       "\t<tr><th scope=row></th><td> 7</td><td> 8</td><td> 9</td></tr>\n",
       "\t<tr><th scope=row></th><td>10</td><td>11</td><td>12</td></tr>\n",
       "\t<tr><th scope=row>vector1</th><td>13</td><td>14</td><td>15</td></tr>\n",
       "</tbody>\n",
       "</table>\n"
      ],
      "text/latex": [
       "\\begin{tabular}{r|lll}\n",
       "\t &  1 &  2 &  3\\\\\n",
       "\t &  4 &  5 &  6\\\\\n",
       "\t &  7 &  8 &  9\\\\\n",
       "\t & 10 & 11 & 12\\\\\n",
       "\tvector1 & 13 & 14 & 15\\\\\n",
       "\\end{tabular}\n"
      ],
      "text/markdown": [
       "\n",
       "|  |  1 |  2 |  3 | \n",
       "|  |  4 |  5 |  6 | \n",
       "|  |  7 |  8 |  9 | \n",
       "|  | 10 | 11 | 12 | \n",
       "| vector1 | 13 | 14 | 15 | \n",
       "\n",
       "\n"
      ],
      "text/plain": [
       "        [,1] [,2] [,3]\n",
       "         1    2    3  \n",
       "         4    5    6  \n",
       "         7    8    9  \n",
       "        10   11   12  \n",
       "vector1 13   14   15  "
      ]
     },
     "metadata": {},
     "output_type": "display_data"
    }
   ],
   "source": [
    "merged.matrix <- rbind(matrix1, matrix2, vector1)\n",
    "merged.matrix"
   ]
  },
  {
   "cell_type": "markdown",
   "metadata": {},
   "source": [
    "##### Note the unwanted row name."
   ]
  },
  {
   "cell_type": "code",
   "execution_count": 46,
   "metadata": {},
   "outputs": [
    {
     "data": {
      "text/html": [
       "<table>\n",
       "<tbody>\n",
       "\t<tr><td>a</td><td>b</td><td>c</td></tr>\n",
       "\t<tr><td>d</td><td>e</td><td>f</td></tr>\n",
       "</tbody>\n",
       "</table>\n"
      ],
      "text/latex": [
       "\\begin{tabular}{lll}\n",
       "\t a & b & c\\\\\n",
       "\t d & e & f\\\\\n",
       "\\end{tabular}\n"
      ],
      "text/markdown": [
       "\n",
       "| a | b | c | \n",
       "| d | e | f | \n",
       "\n",
       "\n"
      ],
      "text/plain": [
       "     [,1] [,2] [,3]\n",
       "[1,] a    b    c   \n",
       "[2,] d    e    f   "
      ]
     },
     "metadata": {},
     "output_type": "display_data"
    },
    {
     "data": {
      "text/html": [
       "<ol class=list-inline>\n",
       "\t<li>'g'</li>\n",
       "\t<li>'h'</li>\n",
       "</ol>\n"
      ],
      "text/latex": [
       "\\begin{enumerate*}\n",
       "\\item 'g'\n",
       "\\item 'h'\n",
       "\\end{enumerate*}\n"
      ],
      "text/markdown": [
       "1. 'g'\n",
       "2. 'h'\n",
       "\n",
       "\n"
      ],
      "text/plain": [
       "[1] \"g\" \"h\""
      ]
     },
     "metadata": {},
     "output_type": "display_data"
    }
   ],
   "source": [
    "matrix3 <- matrix(letters[1:6], byrow = TRUE, nrow = 2)\n",
    "vector2 <- letters[7:8]\n",
    "matrix3\n",
    "vector2"
   ]
  },
  {
   "cell_type": "code",
   "execution_count": 47,
   "metadata": {
    "scrolled": false
   },
   "outputs": [
    {
     "data": {
      "text/html": [
       "<table>\n",
       "<thead><tr><th scope=col></th><th scope=col></th><th scope=col></th><th scope=col>vector2</th></tr></thead>\n",
       "<tbody>\n",
       "\t<tr><td>a</td><td>b</td><td>c</td><td>g</td></tr>\n",
       "\t<tr><td>d</td><td>e</td><td>f</td><td>h</td></tr>\n",
       "</tbody>\n",
       "</table>\n"
      ],
      "text/latex": [
       "\\begin{tabular}{llll}\n",
       "  &  &  & vector2\\\\\n",
       "\\hline\n",
       "\t a & b & c & g\\\\\n",
       "\t d & e & f & h\\\\\n",
       "\\end{tabular}\n"
      ],
      "text/markdown": [
       "\n",
       " |  |  | vector2 | \n",
       "|---|---|\n",
       "| a | b | c | g | \n",
       "| d | e | f | h | \n",
       "\n",
       "\n"
      ],
      "text/plain": [
       "           vector2\n",
       "[1,] a b c g      \n",
       "[2,] d e f h      "
      ]
     },
     "metadata": {},
     "output_type": "display_data"
    }
   ],
   "source": [
    "cbind(matrix3, vector2)"
   ]
  },
  {
   "cell_type": "code",
   "execution_count": 76,
   "metadata": {},
   "outputs": [
    {
     "data": {
      "text/html": [
       "'matrix'"
      ],
      "text/latex": [
       "'matrix'"
      ],
      "text/markdown": [
       "'matrix'"
      ],
      "text/plain": [
       "[1] \"matrix\""
      ]
     },
     "metadata": {},
     "output_type": "display_data"
    }
   ],
   "source": [
    "class(matrix3)"
   ]
  },
  {
   "cell_type": "code",
   "execution_count": 77,
   "metadata": {},
   "outputs": [
    {
     "data": {
      "text/html": [
       "<table>\n",
       "<thead><tr><th scope=col>names</th><th scope=col>score</th><th scope=col>student.no</th><th scope=col>pass</th></tr></thead>\n",
       "<tbody>\n",
       "\t<tr><td>Lucy     </td><td>67       </td><td>student 1</td><td> TRUE    </td></tr>\n",
       "\t<tr><td>John     </td><td>56       </td><td>student 2</td><td>FALSE    </td></tr>\n",
       "\t<tr><td>Mark     </td><td>87       </td><td>student 3</td><td> TRUE    </td></tr>\n",
       "\t<tr><td>Candy    </td><td>91       </td><td>student 4</td><td> TRUE    </td></tr>\n",
       "</tbody>\n",
       "</table>\n"
      ],
      "text/latex": [
       "\\begin{tabular}{r|llll}\n",
       " names & score & student.no & pass\\\\\n",
       "\\hline\n",
       "\t Lucy      & 67        & student 1 &  TRUE    \\\\\n",
       "\t John      & 56        & student 2 & FALSE    \\\\\n",
       "\t Mark      & 87        & student 3 &  TRUE    \\\\\n",
       "\t Candy     & 91        & student 4 &  TRUE    \\\\\n",
       "\\end{tabular}\n"
      ],
      "text/markdown": [
       "\n",
       "names | score | student.no | pass | \n",
       "|---|---|---|---|\n",
       "| Lucy      | 67        | student 1 |  TRUE     | \n",
       "| John      | 56        | student 2 | FALSE     | \n",
       "| Mark      | 87        | student 3 |  TRUE     | \n",
       "| Candy     | 91        | student 4 |  TRUE     | \n",
       "\n",
       "\n"
      ],
      "text/plain": [
       "  names score student.no pass \n",
       "1 Lucy  67    student 1   TRUE\n",
       "2 John  56    student 2  FALSE\n",
       "3 Mark  87    student 3   TRUE\n",
       "4 Candy 91    student 4   TRUE"
      ]
     },
     "metadata": {},
     "output_type": "display_data"
    }
   ],
   "source": [
    "df"
   ]
  },
  {
   "cell_type": "code",
   "execution_count": 93,
   "metadata": {},
   "outputs": [
    {
     "data": {
      "text/html": [
       "4"
      ],
      "text/latex": [
       "4"
      ],
      "text/markdown": [
       "4"
      ],
      "text/plain": [
       "[1] 4"
      ]
     },
     "metadata": {},
     "output_type": "display_data"
    }
   ],
   "source": [
    "set.seed(192)\n",
    "row.index <- sample(1:4, 1);\n",
    "row.index"
   ]
  },
  {
   "cell_type": "code",
   "execution_count": 82,
   "metadata": {},
   "outputs": [
    {
     "data": {
      "text/html": [
       "<table>\n",
       "<thead><tr><th></th><th scope=col>names</th><th scope=col>score</th><th scope=col>student.no</th><th scope=col>pass</th></tr></thead>\n",
       "<tbody>\n",
       "\t<tr><th scope=row>4</th><td>Candy    </td><td>91       </td><td>student 4</td><td>TRUE     </td></tr>\n",
       "</tbody>\n",
       "</table>\n"
      ],
      "text/latex": [
       "\\begin{tabular}{r|llll}\n",
       "  & names & score & student.no & pass\\\\\n",
       "\\hline\n",
       "\t4 & Candy     & 91        & student 4 & TRUE     \\\\\n",
       "\\end{tabular}\n"
      ],
      "text/markdown": [
       "\n",
       "| <!--/--> | names | score | student.no | pass | \n",
       "|---|\n",
       "| 4 | Candy     | 91        | student 4 | TRUE      | \n",
       "\n",
       "\n"
      ],
      "text/plain": [
       "  names score student.no pass\n",
       "4 Candy 91    student 4  TRUE"
      ]
     },
     "metadata": {},
     "output_type": "display_data"
    }
   ],
   "source": [
    "df[row.index, ]"
   ]
  },
  {
   "cell_type": "code",
   "execution_count": null,
   "metadata": {},
   "outputs": [],
   "source": []
  }
 ],
 "metadata": {
  "kernelspec": {
   "display_name": "R",
   "language": "R",
   "name": "ir"
  },
  "language_info": {
   "codemirror_mode": "r",
   "file_extension": ".r",
   "mimetype": "text/x-r-source",
   "name": "R",
   "pygments_lexer": "r",
   "version": "3.6.1"
  }
 },
 "nbformat": 4,
 "nbformat_minor": 2
}
